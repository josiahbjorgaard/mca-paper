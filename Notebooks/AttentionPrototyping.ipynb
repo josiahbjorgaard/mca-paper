{
 "cells": [
  {
   "cell_type": "code",
   "execution_count": 33,
   "id": "d8f4515b",
   "metadata": {},
   "outputs": [],
   "source": [
    "import torch\n",
    "from torch import nn, einsum, Tensor\n",
    "from einops import rearrange, repeat\n",
    "import torch.nn.functional as F"
   ]
  },
  {
   "cell_type": "code",
   "execution_count": 34,
   "id": "793b8575",
   "metadata": {},
   "outputs": [],
   "source": [
    "def default(*args):\n",
    "    for arg in args:\n",
    "        if exists(arg):\n",
    "            return arg\n",
    "    return None\n",
    "\n",
    "def exists(val):\n",
    "    return val is not None\n"
   ]
  },
  {
   "cell_type": "code",
   "execution_count": 35,
   "id": "4c6e9320",
   "metadata": {},
   "outputs": [],
   "source": [
    "class LayerNorm(nn.Module):\n",
    "    def __init__(self, dim):\n",
    "        super().__init__()\n",
    "        self.gamma = nn.Parameter(torch.ones(dim))\n",
    "        self.register_buffer(\"beta\", torch.zeros(dim))\n",
    "\n",
    "    def forward(self, x):\n",
    "        return F.layer_norm(x, x.shape[-1:], self.gamma, self.beta)\n"
   ]
  },
  {
   "cell_type": "code",
   "execution_count": 36,
   "id": "2c422a7d",
   "metadata": {},
   "outputs": [],
   "source": [
    "class Attention(nn.Module):\n",
    "    def __init__(\n",
    "            self,\n",
    "            dim,\n",
    "            dim_head=64,\n",
    "            heads=8\n",
    "    ):\n",
    "        super().__init__()\n",
    "        self.scale = dim_head ** -0.5\n",
    "        self.heads = heads\n",
    "        inner_dim = dim_head * heads\n",
    "\n",
    "        self.norm = LayerNorm(dim)\n",
    "\n",
    "        self.to_q = nn.Linear(dim, inner_dim, bias=False)\n",
    "        self.to_kv = nn.Linear(dim, inner_dim * 2, bias=False)\n",
    "        self.to_out = nn.Linear(inner_dim, dim, bias=False)\n",
    "\n",
    "    def forward(\n",
    "            self,\n",
    "            x,\n",
    "            context=None,\n",
    "            attn_mask=None,\n",
    "            key_padding_mask=None,\n",
    "    ):\n",
    "        x = self.norm(x)\n",
    "        kv_x = default(context, x)\n",
    "\n",
    "        q, k, v = (self.to_q(x), *self.to_kv(kv_x).chunk(2, dim=-1))\n",
    "\n",
    "        q, k, v = map(lambda t: rearrange(t, 'b n (h d) -> b h n d', h=self.heads), (q, k, v))\n",
    "\n",
    "        q = q * self.scale\n",
    "        sim = einsum('b h i d, b h j d -> b h i j', q, k)\n",
    "\n",
    "        if exists(attn_mask):\n",
    "            sim = sim.masked_fill(attn_mask, -torch.finfo(sim.dtype).max)\n",
    "        if exists(key_padding_mask):\n",
    "            key_padding_mask = repeat(key_padding_mask, \"b i -> b h j i\", h=self.heads, j=sim.shape[-2])\n",
    "            sim = sim.masked_fill(key_padding_mask, -torch.finfo(sim.dtype).max)\n",
    "\n",
    "        attn = sim.softmax(dim=-1)\n",
    "\n",
    "        out = einsum('b h i j, b h j d -> b h i d', attn, v)\n",
    "\n",
    "        out = rearrange(out, 'b h n d -> b n (h d)')\n",
    "        return self.to_out(out)"
   ]
  },
  {
   "cell_type": "code",
   "execution_count": 37,
   "id": "008f80e6",
   "metadata": {},
   "outputs": [
    {
     "name": "stdout",
     "output_type": "stream",
     "text": [
      "tensor([0., 0., 1., 1., 2., 2., 3., 3.])\n"
     ]
    },
    {
     "data": {
      "text/plain": [
       "<matplotlib.colorbar.Colorbar at 0x7efd6dc4a070>"
      ]
     },
     "execution_count": 37,
     "metadata": {},
     "output_type": "execute_result"
    },
    {
     "data": {
      "image/png": "[encoded data removed]",
      "text/plain": [
       "<Figure size 640x480 with 2 Axes>"
      ]
     },
     "metadata": {},
     "output_type": "display_data"
    }
   ],
   "source": [
    "import matplotlib.pyplot as plt\n",
    "from einops import rearrange\n",
    "token_types = torch.cat([torch.ones(2)*i for i in range(4)])\n",
    "print(token_types)\n",
    "def create_zorro_mask(token_types, fusion_token):\n",
    "    token_types_attend_from = rearrange(token_types, 'i -> i 1')\n",
    "    token_types_attend_to = rearrange(token_types, 'j -> 1 j')\n",
    "    zorro_mask = token_types_attend_from == token_types_attend_to\n",
    "    zorro_mask = zorro_mask | (token_types_attend_from == fusion_token)\n",
    "    zorro_mask = zorro_mask #| torch.eye(token_types.shape[0],token_types.shape[0]).to(torch.bool)\n",
    "    #zorro_mask = repeat(zorro_mask, 'j i -> i j')\n",
    "    return ~zorro_mask #.to(torch.long)\n",
    "#plt.imshow(create_zorro_mask(token_types, 3))\n",
    "zorro_mask = create_zorro_mask(token_types, 3)\n",
    "#zorro_mask[4:,4:6]=1\n",
    "zorro_mask=zorro_mask & ~torch.eye(token_types.shape[0],token_types.shape[0]).to(torch.bool)\n",
    "plt.imshow(zorro_mask)\n",
    "plt.colorbar()"
   ]
  },
  {
   "cell_type": "code",
   "execution_count": 38,
   "id": "50e2d561",
   "metadata": {},
   "outputs": [
    {
     "data": {
      "text/plain": [
       "<matplotlib.image.AxesImage at 0x7efd6dbc9a00>"
      ]
     },
     "execution_count": 38,
     "metadata": {},
     "output_type": "execute_result"
    },
    {
     "data": {
      "image/png": "[encoded data removed]",
      "text/plain": [
       "<Figure size 640x480 with 1 Axes>"
      ]
     },
     "metadata": {},
     "output_type": "display_data"
    }
   ],
   "source": [
    "padding_mask = torch.cat([torch.zeros(2),\n",
    "                          torch.zeros(2), \n",
    "                          torch.ones(2), \n",
    "                          torch.zeros(2)]).to(torch.bool)#.unsqueeze(0)\n",
    "padding_mask2 = torch.cat([torch.zeros(2),\n",
    "                          torch.ones(2), \n",
    "                          torch.zeros(2), \n",
    "                          torch.zeros(2)]).to(torch.bool)#.unsqueeze(0)\n",
    "padding_mask = torch.stack([padding_mask, padding_mask2])\n",
    "p=padding_mask.unsqueeze(1).repeat(1,8,1)\n",
    "z=zorro_mask #zorro_mask.unsqueeze(0).repeat(2,1,1)\n",
    "#x = (z | p) & ~torch.eye(padding_mask.shape[1],padding_mask.shape[1]).to(torch.bool)\n",
    "#x = torch.repeat_interleave(x, 2, dim=0)\n",
    "x = z\n",
    "plt.imshow(x[:,:])"
   ]
  },
  {
   "cell_type": "code",
   "execution_count": 39,
   "id": "cc23f4cb",
   "metadata": {},
   "outputs": [
    {
     "name": "stdout",
     "output_type": "stream",
     "text": [
      "torch.Size([2, 8])\n"
     ]
    }
   ],
   "source": [
    "attn=Attention(2,2,2)\n",
    "print(padding_mask.shape)"
   ]
  },
  {
   "cell_type": "code",
   "execution_count": 40,
   "id": "96935fcc",
   "metadata": {},
   "outputs": [
    {
     "data": {
      "text/plain": [
       "tensor([[[ 0.1967, -0.0951],\n",
       "         [ 0.1967, -0.0951],\n",
       "         [-0.1638,  0.1844],\n",
       "         [-0.2048,  0.1818],\n",
       "         [-0.0718,  0.0141],\n",
       "         [-0.0718,  0.0141],\n",
       "         [-0.0367, -0.0233],\n",
       "         [-0.0367, -0.0233]],\n",
       "\n",
       "        [[-0.1071,  0.1041],\n",
       "         [-0.0399, -0.0167],\n",
       "         [-0.0346,  0.0139],\n",
       "         [-0.0346,  0.0139],\n",
       "         [ 0.1780, -0.0533],\n",
       "         [-0.0390, -0.0373],\n",
       "         [ 0.0337, -0.0191],\n",
       "         [-0.0600,  0.0424]]], grad_fn=<UnsafeViewBackward0>)"
      ]
     },
     "execution_count": 40,
     "metadata": {},
     "output_type": "execute_result"
    }
   ],
   "source": [
    "batch=torch.randn(2,8,2)\n",
    "attn(batch, batch, attn_mask=zorro_mask,key_padding_mask=padding_mask)"
   ]
  },
  {
   "cell_type": "code",
   "execution_count": null,
   "id": "dd86bac7",
   "metadata": {},
   "outputs": [],
   "source": []
  }
 ],
 "metadata": {
  "kernelspec": {
   "display_name": "stp",
   "language": "python",
   "name": "stp"
  },
  "language_info": {
   "codemirror_mode": {
    "name": "ipython",
    "version": 3
   },
   "file_extension": ".py",
   "mimetype": "text/x-python",
   "name": "python",
   "nbconvert_exporter": "python",
   "pygments_lexer": "ipython3",
   "version": "3.9.16"
  }
 },
 "nbformat": 4,
 "nbformat_minor": 5
}
