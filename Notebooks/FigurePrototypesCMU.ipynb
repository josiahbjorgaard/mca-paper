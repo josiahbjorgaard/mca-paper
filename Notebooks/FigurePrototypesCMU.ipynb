{
 "cells": [
  {
   "cell_type": "code",
   "execution_count": 1,
   "id": "b1ece850",
   "metadata": {},
   "outputs": [],
   "source": [
    "import numpy as np\n",
    "from datasets import load_from_disk\n",
    "import sys\n",
    "import matplotlib.pyplot as plt\n",
    "sys.path.append('../')\n",
    "import os\n",
    "os.environ[\"HF_DATASETS_CACHE\"]=\"/shared/.cache/huggingface/dataset\""
   ]
  },
  {
   "cell_type": "code",
   "execution_count": 2,
   "id": "f83421e1",
   "metadata": {},
   "outputs": [
    {
     "data": {
      "application/vnd.jupyter.widget-view+json": {
       "model_id": "25ff9adda4b546028712c344e567933b",
       "version_major": 2,
       "version_minor": 0
      },
      "text/plain": [
       "Loading dataset from disk:   0%|          | 0/48 [00:00<?, ?it/s]"
      ]
     },
     "metadata": {},
     "output_type": "display_data"
    }
   ],
   "source": [
    "from utils.dataset import setup_data\n",
    "dataset = setup_data('/shared/cmu', ds_seed=43)\n",
    "#datasets = load_from_disk('/job_workspace/how2_all_proc_10p') #Just filtered Velocity"
   ]
  },
  {
   "cell_type": "code",
   "execution_count": 3,
   "id": "ba979312",
   "metadata": {
    "scrolled": true
   },
   "outputs": [
    {
     "data": {
      "text/plain": [
       "DatasetDict({\n",
       "    train: Dataset({\n",
       "        features: ['Labels', 'COVAREP', 'FACET', 'OpenFace', 'glove_vectors'],\n",
       "        num_rows: 20923\n",
       "    })\n",
       "    test: Dataset({\n",
       "        features: ['Labels', 'COVAREP', 'FACET', 'OpenFace', 'glove_vectors'],\n",
       "        num_rows: 2325\n",
       "    })\n",
       "})"
      ]
     },
     "execution_count": 3,
     "metadata": {},
     "output_type": "execute_result"
    }
   ],
   "source": [
    "dataset"
   ]
  },
  {
   "cell_type": "code",
   "execution_count": 4,
   "id": "888ab880",
   "metadata": {},
   "outputs": [
    {
     "name": "stdout",
     "output_type": "stream",
     "text": [
      "ls: cannot access 'training_output_05_21_23_02_2024_2_i': No such file or directory\r\n"
     ]
    }
   ],
   "source": [
    "!ls training_output_05_21_23_02_2024_2_i"
   ]
  },
  {
   "cell_type": "code",
   "execution_count": 12,
   "id": "1b6b32f3",
   "metadata": {},
   "outputs": [],
   "source": [
    "#epoch = 50\n",
    "output_dirs={\n",
    "    #'z0': 'training_output_05_21_23_02_2024_2',\n",
    "    #'m0': 'training_output_03_00_22_02_2024',\n",
    "    #'j0': ''\n",
    "}\n",
    "embeddings={\n",
    "    'j2': 'training_output_01_27_27_02_2024_2', #pious-firefly-111\n",
    "    'j0': 'training_output_01_31_27_02_2024_1', #cool-dust-112\n",
    "    'j1': 'training_output_23_50_26_02_2024_2', #astral-elevator-110\n",
    "    'z0': 'training_output_21_00_26_02_2024_4',\n",
    "    'm0': 'training_output_23_08_26_02_2024_2',\n",
    "}\n",
    "\n",
    "embeddings={\n",
    "    'j2': 'training_output_01_27_27_02_2024_2_i30', #pious-firefly-111\n",
    "    'j0': 'training_output_01_31_27_02_2024_1_i30', #cool-dust-112\n",
    "    'j1': 'training_output_23_50_26_02_2024_2_i30', #astral-elevator-110\n",
    "    'z0': 'training_output_21_00_26_02_2024_4_i30',\n",
    "    'm0': 'training_output_23_08_26_02_2024_2_i30',\n",
    "}"
   ]
  },
  {
   "cell_type": "code",
   "execution_count": 13,
   "id": "60119c80",
   "metadata": {},
   "outputs": [],
   "source": [
    "#TBD\n",
    "from torch import nn\n",
    "def compute_cosines(embedding, embeddings):\n",
    "    #for k,v in embeddings.items():\n",
    "    cos0 = torch.nn.CosineSimilarity(dim=1)\n",
    "    return cos0(embedding.unsqueeze(0).repeat(embeddings.shape[0],1), embeddings)\n",
    "def get_rank(x, indices):\n",
    "    vals = x[range(len(x)), indices]\n",
    "    return (x > vals[:, None]).long().sum(1)"
   ]
  },
  {
   "cell_type": "code",
   "execution_count": 14,
   "id": "917ef7b8",
   "metadata": {},
   "outputs": [
    {
     "name": "stdout",
     "output_type": "stream",
     "text": [
      "torch.Size([20920, 512])\n",
      "torch.Size([2320, 512])\n",
      "torch.Size([2320, 7])\n"
     ]
    }
   ],
   "source": [
    "import torch\n",
    "test = 'm0'\n",
    "e_train=torch.load(f'../{embeddings[test]}/train_embeddings.pt', map_location=\"cpu\")\n",
    "m_train=torch.load(f'../{embeddings[test]}/train_masks.pt', map_location=\"cpu\")\n",
    "s_train=torch.load(f'../{embeddings[test]}/train_labels.pt', map_location=\"cpu\").squeeze()\n",
    "\n",
    "e_test=torch.load(f'../{embeddings[test]}/eval_embeddings.pt', map_location=\"cpu\")\n",
    "m_test=torch.load(f'../{embeddings[test]}/eval_masks.pt', map_location=\"cpu\")\n",
    "s_test=torch.load(f'../{embeddings[test]}/eval_labels.pt', map_location=\"cpu\").squeeze()\n",
    "\n",
    "print(e_train['COVAREP'].shape)\n",
    "print(e_test[\"COVAREP\"].shape)\n",
    "print(s_test.shape)"
   ]
  },
  {
   "cell_type": "code",
   "execution_count": 15,
   "id": "a015a649",
   "metadata": {},
   "outputs": [
    {
     "data": {
      "text/plain": [
       "torch.Size([2320, 7])"
      ]
     },
     "execution_count": 15,
     "metadata": {},
     "output_type": "execute_result"
    }
   ],
   "source": [
    "s_test.shape"
   ]
  },
  {
   "cell_type": "code",
   "execution_count": 16,
   "id": "15bafdc5",
   "metadata": {},
   "outputs": [],
   "source": [
    "from torch.utils.data import Dataset\n",
    "class FineTuneDataset(Dataset):\n",
    "    def __init__(self, embeddings, labels, key='fusion',index = 0,transform=None, target_transform=None):\n",
    "        #self.embeddings = torch.cat([embeddings[k] for k in embeddings.keys()],dim=1)\n",
    "        self.embeddings = embeddings[key]\n",
    "        self.labels = labels[:,index] #First is a sentiment [-3,3] -3: negative 3:postive, next is 6 labels for emotions [0,3] where 3 is strong and 0 is no x and 3 is strong x\n",
    "        print(f\"{self.labels.shape = }\")\n",
    "        if index > 0:\n",
    "            self.labels = self.labels/3.0\n",
    "        self.transform = transform\n",
    "        self.target_transform = target_transform\n",
    "\n",
    "    def __len__(self):\n",
    "        return self.labels.shape[0]\n",
    "\n",
    "    def __getitem__(self, idx):\n",
    "        return self.embeddings[idx], self.labels[idx]"
   ]
  },
  {
   "cell_type": "code",
   "execution_count": 17,
   "id": "e2b9b00e",
   "metadata": {},
   "outputs": [
    {
     "name": "stdout",
     "output_type": "stream",
     "text": [
      "Looking in indexes: https://pypi.org/simple, https://pip.repos.neuron.amazonaws.com\n",
      "Requirement already satisfied: torchmetrics in /shared/miniconda3/envs/dti/lib/python3.9/site-packages (1.3.1)\n",
      "Requirement already satisfied: numpy>1.20.0 in /shared/miniconda3/envs/dti/lib/python3.9/site-packages (from torchmetrics) (1.22.4)\n",
      "Requirement already satisfied: torch>=1.10.0 in /shared/miniconda3/envs/dti/lib/python3.9/site-packages (from torchmetrics) (1.11.0)\n",
      "Requirement already satisfied: lightning-utilities>=0.8.0 in /shared/miniconda3/envs/dti/lib/python3.9/site-packages (from torchmetrics) (0.10.1)\n",
      "Requirement already satisfied: packaging>17.1 in /shared/miniconda3/envs/dti/lib/python3.9/site-packages (from torchmetrics) (21.3)\n",
      "Requirement already satisfied: setuptools in /shared/miniconda3/envs/dti/lib/python3.9/site-packages (from lightning-utilities>=0.8.0->torchmetrics) (65.0.0)\n",
      "Requirement already satisfied: typing-extensions in /shared/miniconda3/envs/dti/lib/python3.9/site-packages (from lightning-utilities>=0.8.0->torchmetrics) (4.3.0)\n",
      "Requirement already satisfied: pyparsing!=3.0.5,>=2.0.2 in /shared/miniconda3/envs/dti/lib/python3.9/site-packages (from packaging>17.1->torchmetrics) (3.0.9)\n"
     ]
    }
   ],
   "source": [
    "!pip install --upgrade torchmetrics"
   ]
  },
  {
   "cell_type": "code",
   "execution_count": 18,
   "id": "74b669d0",
   "metadata": {},
   "outputs": [
    {
     "data": {
      "text/html": [
       "Finishing last run (ID:3bgdiz3h) before initializing another..."
      ],
      "text/plain": [
       "<IPython.core.display.HTML object>"
      ]
     },
     "metadata": {},
     "output_type": "display_data"
    },
    {
     "data": {
      "text/html": [
       "Waiting for W&B process to finish... <strong style=\"color:green\">(success).</strong>"
      ],
      "text/plain": [
       "<IPython.core.display.HTML object>"
      ]
     },
     "metadata": {},
     "output_type": "display_data"
    },
    {
     "data": {
      "application/vnd.jupyter.widget-view+json": {
       "model_id": "",
       "version_major": 2,
       "version_minor": 0
      },
      "text/plain": [
       "VBox(children=(Label(value='0.001 MB of 0.001 MB uploaded (0.000 MB deduped)\\r'), FloatProgress(value=1.0, max…"
      ]
     },
     "metadata": {},
     "output_type": "display_data"
    },
    {
     "data": {
      "text/html": [
       "<style>\n",
       "    table.wandb td:nth-child(1) { padding: 0 10px; text-align: left ; width: auto;} td:nth-child(2) {text-align: left ; width: 100%}\n",
       "    .wandb-row { display: flex; flex-direction: row; flex-wrap: wrap; justify-content: flex-start; width: 100% }\n",
       "    .wandb-col { display: flex; flex-direction: column; flex-basis: 100%; flex: 1; padding: 10px; }\n",
       "    </style>\n",
       "<div class=\"wandb-row\"><div class=\"wandb-col\"><h3>Run history:</h3><br/><table class=\"wandb\"><tr><td>train_loss</td><td>█▆▄▃▃▂▂▁▁▂▂▂▂▂▂▃▃▃▃▃▂▂▂▂▂▂▂▁▁▁▁▁▁▁▁▁▁▁▁▁</td></tr><tr><td>train_met</td><td>▁▅▆▇▇▇██████████████████████████████████</td></tr><tr><td>val_loss</td><td>█▆▄▃▂▂▁▁▁▁▁▁▂▂▃▃▃▄▄▄▄▄▄▃▃▃▃▃▃▃▂▂▂▂▂▂▂▂▂▁</td></tr><tr><td>val_met</td><td>▁▅▆▇▇▇████████████▇▇▇▇▇▇▇▇▇█████████████</td></tr></table><br/></div><div class=\"wandb-col\"><h3>Run summary:</h3><br/><table class=\"wandb\"><tr><td>train_loss</td><td>0.74491</td></tr><tr><td>train_met</td><td>0.48084</td></tr><tr><td>val_loss</td><td>0.75701</td></tr><tr><td>val_met</td><td>0.47457</td></tr></table><br/></div></div>"
      ],
      "text/plain": [
       "<IPython.core.display.HTML object>"
      ]
     },
     "metadata": {},
     "output_type": "display_data"
    },
    {
     "data": {
      "text/html": [
       "Synced <strong style=\"color:#cdcd00\">m0</strong>: <a href=\"https://wandb.ai/josiahbjorgaard/CMU_Inference/runs/3bgdiz3h\" target=\"_blank\">https://wandb.ai/josiahbjorgaard/CMU_Inference/runs/3bgdiz3h</a><br/>Synced 6 W&B file(s), 0 media file(s), 0 artifact file(s) and 0 other file(s)"
      ],
      "text/plain": [
       "<IPython.core.display.HTML object>"
      ]
     },
     "metadata": {},
     "output_type": "display_data"
    },
    {
     "data": {
      "text/html": [
       "Find logs at: <code>./wandb/run-20240227_215601-3bgdiz3h/logs</code>"
      ],
      "text/plain": [
       "<IPython.core.display.HTML object>"
      ]
     },
     "metadata": {},
     "output_type": "display_data"
    },
    {
     "data": {
      "text/html": [
       "Successfully finished last run (ID:3bgdiz3h). Initializing new run:<br/>"
      ],
      "text/plain": [
       "<IPython.core.display.HTML object>"
      ]
     },
     "metadata": {},
     "output_type": "display_data"
    },
    {
     "data": {
      "text/html": [
       "wandb version 0.16.3 is available!  To upgrade, please run:\n",
       " $ pip install wandb --upgrade"
      ],
      "text/plain": [
       "<IPython.core.display.HTML object>"
      ]
     },
     "metadata": {},
     "output_type": "display_data"
    },
    {
     "data": {
      "text/html": [
       "Tracking run with wandb version 0.13.1"
      ],
      "text/plain": [
       "<IPython.core.display.HTML object>"
      ]
     },
     "metadata": {},
     "output_type": "display_data"
    },
    {
     "data": {
      "text/html": [
       "Run data is saved locally in <code>/efs-private/multimodal/Notebooks/wandb/run-20240227_223237-2deyxwrk</code>"
      ],
      "text/plain": [
       "<IPython.core.display.HTML object>"
      ]
     },
     "metadata": {},
     "output_type": "display_data"
    },
    {
     "data": {
      "text/html": [
       "Syncing run <strong><a href=\"https://wandb.ai/josiahbjorgaard/CMU_Inference/runs/2deyxwrk\" target=\"_blank\">m0</a></strong> to <a href=\"https://wandb.ai/josiahbjorgaard/CMU_Inference\" target=\"_blank\">Weights & Biases</a> (<a href=\"https://wandb.me/run\" target=\"_blank\">docs</a>)<br/>"
      ],
      "text/plain": [
       "<IPython.core.display.HTML object>"
      ]
     },
     "metadata": {},
     "output_type": "display_data"
    },
    {
     "name": "stdout",
     "output_type": "stream",
     "text": [
      "self.labels.shape = torch.Size([20920])\n",
      "self.labels.shape = torch.Size([2320])\n",
      "torch.Size([1024, 512])\n",
      "train_len = 21 test_len = 3\n"
     ]
    },
    {
     "name": "stderr",
     "output_type": "stream",
     "text": [
      "tensor([0.7654]): 100%|█████████████████████████████████████████████████████████| 20480/20480 [46:53<00:00,  7.28it/s]\n"
     ]
    }
   ],
   "source": [
    "# Import the W&B Python Library\n",
    "import wandb\n",
    "from tqdm import tqdm\n",
    "from torchmetrics import PearsonCorrCoef\n",
    "#from torchmetrics import F1Score\n",
    "# 1. Start a W&B Run\n",
    "run = wandb.init(\n",
    "    project=\"CMU_Inference\",\n",
    "    name = 'm0',\n",
    ")\n",
    "train_dataloader = torch.utils.data.DataLoader(FineTuneDataset(e_train,s_train, index=0), batch_size=1024, shuffle=True)\n",
    "test_dataloader = torch.utils.data.DataLoader(FineTuneDataset(e_test,s_test, index=0), batch_size=1024)\n",
    "print(next(iter(train_dataloader))[0].shape)\n",
    "num_emb = next(iter(train_dataloader))[0].shape[1]\n",
    "model = nn.Linear(num_emb,1)\n",
    "#model = nn.Sequential(nn.Linear(num_emb,256),nn.Dropout(0.1),nn.ReLU(),nn.Linear(256,1))\n",
    "#model = nn.Sequential(nn.Linear(512,1),nn.Sigmoid())\n",
    "optimizer = torch.optim.AdamW(model.parameters(), lr=0.000001) # * world_size)\n",
    "#loss_fn = torch.nn.L1Loss()\n",
    "loss_fn = torch.nn.L1Loss() \n",
    "#loss_fn=torch.nn.BCEWithLogitsLoss()\n",
    "\n",
    "model.train()\n",
    "train_len = len(train_dataloader)\n",
    "test_len = len(test_dataloader)\n",
    "print(f\"{train_len = } {test_len = }\")\n",
    "num_epochs=2048*10\n",
    "pbar = tqdm(range(num_epochs))\n",
    "met = PearsonCorrCoef()\n",
    "#met = BinaryF1Score()\n",
    "for epoch in pbar:\n",
    "    epoch_loss_train = torch.Tensor([0.0])\n",
    "    model.train()\n",
    "    for batch in train_dataloader:\n",
    "        embedding,label = batch\n",
    "        pred = model(embedding).squeeze()\n",
    "        loss = loss_fn(pred,label)\n",
    "        loss.backward()\n",
    "        optimizer.step()\n",
    "        epoch_loss_train += loss.detach().cpu()\n",
    "        met.update(pred,label)\n",
    "        #met.update(pred,(label>0.5).to(torch.int))\n",
    "    train_met = met.compute()\n",
    "    met.reset()\n",
    "    model.eval()\n",
    "    with torch.no_grad():\n",
    "        epoch_loss_eval = torch.Tensor([0.0])\n",
    "        for batch in test_dataloader:\n",
    "            embedding,label = batch\n",
    "            pred = model(embedding).squeeze()\n",
    "            loss = loss_fn(pred,label)\n",
    "            epoch_loss_eval += loss.detach().cpu()\n",
    "            #met.update(pred,(label>0.5).to(torch.int))\n",
    "            met.update(pred,label)\n",
    "        val_met = met.compute()\n",
    "        met.reset()\n",
    "    pbar.set_description(f\"{epoch_loss_eval/float(test_len)}\")\n",
    "    wandb.log({'train_loss': epoch_loss_train/float(train_len), \n",
    "               'val_loss': epoch_loss_eval/float(test_len), \n",
    "               'train_met':train_met,\n",
    "               'val_met':val_met})\n"
   ]
  },
  {
   "cell_type": "code",
   "execution_count": null,
   "id": "a90df309",
   "metadata": {},
   "outputs": [],
   "source": []
  },
  {
   "cell_type": "code",
   "execution_count": null,
   "id": "4702bdd7",
   "metadata": {},
   "outputs": [],
   "source": [
    "def rank_metrics(embeddings, masks, modality, fusion=\"fusion\"):\n",
    "    c=list()\n",
    "    xc=list()\n",
    "    idx = list()\n",
    "    batch_size = e[modality].shape[0]\n",
    "    #print(e[modality].shape)\n",
    "    for i in range(batch_size):\n",
    "        mx=m[modality][i]\n",
    "        if not mx:\n",
    "            pass\n",
    "        idx.append(i)\n",
    "        x=e[modality][i,:] #.shape\n",
    "        #xx=e['pt']\n",
    "        #xc.append(compute_recall(x,xx).topk(10))\n",
    "        y=e[fusion]#.shape\n",
    "        c.append(compute_cosines(x,y))\n",
    "        #print(c[i].topk(25))\n",
    "        #_=plt.hist(c.cpu(), bins=1000, log=True)\n",
    "    ranks = get_rank(torch.stack(c), torch.tensor(idx))\n",
    "    median_rank = ranks.median()\n",
    "    r1 = sum(ranks == 0)/len(ranks)\n",
    "    r5 = sum(ranks < 5)/len(ranks)\n",
    "    r10 = sum(ranks < 10)/len(ranks)\n",
    "    return median_rank, r1, r5, r10"
   ]
  },
  {
   "cell_type": "code",
   "execution_count": null,
   "id": "bf735ed4",
   "metadata": {},
   "outputs": [],
   "source": [
    "from collections import defaultdict\n",
    "modalities = ['COVAREP',\"FACET\",\"OpenFace\",\"glove_vectors\"]\n",
    "data = defaultdict(list)\n",
    "header = []\n",
    "for k,v in embeddings.items():\n",
    "    e=torch.load(f'../{v}/eval_embeddings.pt', map_location=\"cpu\")\n",
    "    m=torch.load(f'../{v}/eval_masks.pt', map_location=\"cpu\")\n",
    "    header.append(k)\n",
    "    for k2 in modalities:\n",
    "        x=[x.cpu().item() for x in rank_metrics(e,m,k2)]\n",
    "        print(f\"{k}-{k2}-{x}\")\n",
    "        data[k2]+=x"
   ]
  },
  {
   "cell_type": "code",
   "execution_count": null,
   "id": "a4c70b70",
   "metadata": {},
   "outputs": [],
   "source": []
  },
  {
   "cell_type": "code",
   "execution_count": 9,
   "id": "adcbbf10",
   "metadata": {},
   "outputs": [],
   "source": [
    "def dict2ltxtab(d: dict, bare=False, headrow = None):\n",
    "    if not bare:\n",
    "        print(r\"\\begin{center}\")\n",
    "        print(r\"\\begin{tabular}{|c|c|}\")\n",
    "        print(r\"\\hline\")\n",
    "    if headrow and len(headrow) >= 2:\n",
    "        print(headrow[0], \"&\", headrow[1], r\"\\\\\")\n",
    "        print(r\"\\hline\")\n",
    "    for k, v in d.items():\n",
    "        print(k, \"&\", v, r\"\\\\\")\n",
    "    if not bare:\n",
    "        print(r\"\\hline\")\n",
    "        print(r\"\\end{tabular}\")\n",
    "        print(r\"\\end{center}\")"
   ]
  },
  {
   "cell_type": "code",
   "execution_count": 10,
   "id": "92a09dc9",
   "metadata": {},
   "outputs": [
    {
     "ename": "NameError",
     "evalue": "name 'ranks' is not defined",
     "output_type": "error",
     "traceback": [
      "\u001b[0;31m---------------------------------------------------------------------------\u001b[0m",
      "\u001b[0;31mNameError\u001b[0m                                 Traceback (most recent call last)",
      "Cell \u001b[0;32mIn[10], line 1\u001b[0m\n\u001b[0;32m----> 1\u001b[0m \u001b[38;5;28mprint\u001b[39m(\u001b[43mranks\u001b[49m\u001b[38;5;241m.\u001b[39mfloat()\u001b[38;5;241m.\u001b[39mcpu()\u001b[38;5;241m.\u001b[39mmedian())\n\u001b[1;32m      2\u001b[0m _ \u001b[38;5;241m=\u001b[39m plt\u001b[38;5;241m.\u001b[39mhist(ranks\u001b[38;5;241m.\u001b[39mcpu(), bins\u001b[38;5;241m=\u001b[39m\u001b[38;5;241m100\u001b[39m)\n",
      "\u001b[0;31mNameError\u001b[0m: name 'ranks' is not defined"
     ]
    }
   ],
   "source": [
    "print(ranks.float().cpu().median())\n",
    "_ = plt.hist(ranks.cpu(), bins=100)"
   ]
  },
  {
   "cell_type": "code",
   "execution_count": 36,
   "id": "61ae26bb",
   "metadata": {},
   "outputs": [
    {
     "data": {
      "text/plain": [
       "tensor([1.0000, 1.0000, 1.0000])"
      ]
     },
     "execution_count": 36,
     "metadata": {},
     "output_type": "execute_result"
    }
   ],
   "source": [
    "cos0 = torch.nn.CosineSimilarity(dim=1)\n",
    "output0 = cos0(torch.ones([3,10]), torch.ones([3,10]))\n",
    "output0"
   ]
  },
  {
   "cell_type": "code",
   "execution_count": null,
   "id": "8197e718",
   "metadata": {},
   "outputs": [],
   "source": [
    "!ls ../training_output_03_41_31_01_2024/"
   ]
  },
  {
   "cell_type": "code",
   "execution_count": null,
   "id": "d21c665f",
   "metadata": {},
   "outputs": [],
   "source": [
    "from safetensors.torch import load_model\n",
    "from model import MFDOOM\n",
    "from encoders import MultimodalCollator\n",
    "from torch.utils.data import DataLoader\n",
    "from utils.config import training_config, get_model_config\n",
    "output_dir = \"/efs-private/multimodal/training_output_01_35_20_01_2024\" #0.8 Doom\n",
    "#output_dir = \"/efs-private/multimodal/training_output_01_36_20_01_2024\" #0.3 Doom\n",
    "#output_dir = \"/efs-private/multimodal/training_output_01_38_20_01_2024\" #0.8 Zorro\n",
    "#output_dir = \"/efs-private/multimodal/training_output_01_37_20_01_2024\" #0.3 Zorro\n",
    "config = training_config(os.path.join(output_dir,'config.yaml'))\n",
    "model_config = get_model_config(config)\n",
    "model_config['batch_size']=4"
   ]
  },
  {
   "cell_type": "code",
   "execution_count": null,
   "id": "9e896ab7",
   "metadata": {},
   "outputs": [],
   "source": [
    "import model\n",
    "from importlib import reload\n",
    "reload(model)\n",
    "from model import MFDOOM"
   ]
  },
  {
   "cell_type": "code",
   "execution_count": null,
   "id": "b5db6f34",
   "metadata": {},
   "outputs": [],
   "source": [
    "default_data_collator = MultimodalCollator(config.modality_config)\n",
    "#dataloader2 = DataLoader(dataset.with_format('torch'), shuffle=True, collate_fn=default_data_collator, batch_size=4,)\n",
    "dataloader = DataLoader(datasets['test'].with_format('torch'), \n",
    "                        shuffle=True, \n",
    "                        collate_fn=default_data_collator, \n",
    "                        batch_size=4,)"
   ]
  },
  {
   "cell_type": "code",
   "execution_count": null,
   "id": "33de0913",
   "metadata": {},
   "outputs": [],
   "source": [
    "import torch\n",
    "model = MFDOOM(**model_config)"
   ]
  },
  {
   "cell_type": "code",
   "execution_count": null,
   "id": "27c3b442",
   "metadata": {},
   "outputs": [],
   "source": [
    "import torch\n",
    "from safetensors.torch import load_model\n",
    "load_model(model,os.path.join(output_dir,'model.safetensors'))"
   ]
  },
  {
   "cell_type": "code",
   "execution_count": null,
   "id": "ef043e0b",
   "metadata": {},
   "outputs": [],
   "source": [
    "dl=iter(dataloader)\n",
    "infer_model = model.eval()\n",
    "#batch = [next(dl) for x in range(4)]\n",
    "output = [infer_model(next(dl)) for _ in range(2)]"
   ]
  },
  {
   "cell_type": "code",
   "execution_count": null,
   "id": "56b54243",
   "metadata": {},
   "outputs": [],
   "source": [
    "def zero_modes(batch, modes_to_zero):\n",
    "    for mode in modes_to_zero:\n",
    "        print(mode)\n",
    "        if mode == 'aud':\n",
    "            batch[mode]['values'] = torch.ones_like(batch[mode]['values'])*-10000\n",
    "        elif mode == 'vid':\n",
    "            batch[mode]['attention_mask']=torch.ones_like(batch[mode]['attention_mask'])\n",
    "        else:\n",
    "            batch[mode]['attention_mask']=torch.ones_like(batch[mode]['attention_mask'])\n",
    "    return batch"
   ]
  },
  {
   "cell_type": "code",
   "execution_count": null,
   "id": "a13d7bc5",
   "metadata": {
    "scrolled": true
   },
   "outputs": [],
   "source": [
    "from tqdm import tqdm\n",
    "from collections import defaultdict\n",
    "import copy\n",
    "import random\n",
    "output=defaultdict(list)\n",
    "infer_model = model.eval()\n",
    "dl = iter(dataloader)\n",
    "#mode_sets = [('aud',),('sm',),('en',),('pt',),('vid',)]\n",
    "mode_sets = [('aud','sm',), ('vid','aud',), ('sm','en','pt',)]\n",
    "batches = []\n",
    "with torch.no_grad():\n",
    "    for i in tqdm(range(4)):\n",
    "        batch = next(dl)\n",
    "        batches.append(batch)\n",
    "        #batch = {k: {k2: v2 for k2,v2 in v.items()} for k,v in batch.items()}\n",
    "        output[('baseline',)].append(infer_model(batch))\n",
    "        random.shuffle(mode_sets)\n",
    "        for modes in mode_sets:\n",
    "            mode_batch = copy.deepcopy(batch)\n",
    "            output[modes].append(infer_model(zero_modes(mode_batch,modes)))\n",
    "print(output)"
   ]
  },
  {
   "cell_type": "code",
   "execution_count": null,
   "id": "686657b7",
   "metadata": {},
   "outputs": [],
   "source": [
    "def refactor(outputs):\n",
    "    out_dict = {k:[] for k in outputs[0]}\n",
    "    for k in [\"losses\", \"loss\", \"modality_sample_mask\"]:\n",
    "        out_dict.pop(k, None)\n",
    "    for batch in outputs:\n",
    "        for key in out_dict.keys():\n",
    "            out_dict[key].append(batch[key])\n",
    "    print(out_dict.keys())\n",
    "    out_dict = {k:torch.cat(v) for k,v in out_dict.items()}\n",
    "    return out_dict"
   ]
  },
  {
   "cell_type": "code",
   "execution_count": null,
   "id": "996b79d8",
   "metadata": {},
   "outputs": [],
   "source": [
    "output_r = {k: refactor(v) for k,v in output.items()}"
   ]
  },
  {
   "cell_type": "code",
   "execution_count": null,
   "id": "74a04ca5",
   "metadata": {},
   "outputs": [],
   "source": [
    "output[('baseline',)][0]['aud']"
   ]
  },
  {
   "cell_type": "code",
   "execution_count": null,
   "id": "79be3ad4",
   "metadata": {},
   "outputs": [],
   "source": [
    "import numpy as np\n",
    "import matplotlib.pyplot as plt\n",
    "\n",
    "def plot_cosines(output, output2=None, log=False, vmin=None, vmax=None, plot_diag=True):\n",
    "    cos = torch.nn.CosineSimilarity(dim=0)\n",
    "    mat_dict={}\n",
    "    for k,v in output.items():\n",
    "        l = v.shape[0]\n",
    "        mat_dict[k]=np.zeros([l,l])\n",
    "        v2 = output2[k] if output2 else output['fusion']\n",
    "        for i in range(l):\n",
    "            for j in range(l):\n",
    "                #print(f\"{i},{j},{cos(output.fusion[i],output.fusion[j])}\")\n",
    "                if log:\n",
    "                    mat_dict[k][i,j]=np.log10(cos(v[i],v2[j]))\n",
    "                else:\n",
    "                    mat_dict[k][i,j]=cos(v[i],v2[j])\n",
    "\n",
    "    f, ax = plt.subplots(len(mat_dict),2, figsize=(6,3*len(mat_dict)))\n",
    "    for i,(k,mat) in enumerate(mat_dict.items()):\n",
    "        #f, (ax1, ax2) = plt.subplots(1,2, figsize=(6,2))\n",
    "        #plt.figure(figsize=(2,2))\n",
    "        #ax1.title(k)\n",
    "        ax1 = ax[i,0]\n",
    "        im = ax1.imshow(mat, vmin=vmin, vmax=vmax)\n",
    "        ax1.set_ylabel(k)\n",
    "        f.colorbar(im,ax=ax1)\n",
    "        if plot_diag:\n",
    "            #plt.figure(figsize=(2,2))\n",
    "            #plt.title(f\"{k} diagonals\")\n",
    "            bins = np.linspace(0,1.0,100)\n",
    "            ax2 = ax[i,1]\n",
    "            ax2.hist(np.diagonal(mat), bins=bins, alpha=0.3,density=True)\n",
    "            ax2.hist(mat.flatten(), bins=bins, alpha=0.3, density=True)\n",
    "            ax2.set_ylim(0,50)\n",
    "            ax2.set_xlim(0,1.0)\n",
    "            ax2.annotate(str(np.mean((mat.sum(1)-np.diag(mat))/(mat.shape[1]-1))),\n",
    "                        [0.1, 0.1])\n",
    "            ax2.legend([\"diag\",\"all\"])\n",
    "\n",
    "        "
   ]
  },
  {
   "cell_type": "code",
   "execution_count": null,
   "id": "91d555a5",
   "metadata": {},
   "outputs": [],
   "source": [
    "print(output_r.keys())"
   ]
  },
  {
   "cell_type": "code",
   "execution_count": null,
   "id": "82e03247",
   "metadata": {},
   "outputs": [],
   "source": [
    "k = mode_sets[0]\n",
    "print(k)\n",
    "plot_cosines(output_r[('baseline',)],output_r[k],vmin=0.99999) #"
   ]
  },
  {
   "cell_type": "markdown",
   "id": "9b018254",
   "metadata": {},
   "source": [
    "# Attention masking tests"
   ]
  },
  {
   "cell_type": "code",
   "execution_count": null,
   "id": "25ee88e5",
   "metadata": {},
   "outputs": [],
   "source": [
    "plt.imshow(model.pool_mask, aspect=100)\n",
    "plt.colorbar()"
   ]
  },
  {
   "cell_type": "code",
   "execution_count": null,
   "id": "dd256216",
   "metadata": {},
   "outputs": [],
   "source": [
    "t=torch.load('../batch.pt', map_location=torch.device('cpu'))\n",
    "p=torch.load('../padding_mask.pt', map_location=torch.device('cpu'))\n",
    "a = torch.load('../attn_mask.pt', map_location=torch.device('cpu'))"
   ]
  },
  {
   "cell_type": "code",
   "execution_count": null,
   "id": "f3251059",
   "metadata": {},
   "outputs": [],
   "source": [
    "plt.plot(p[0,:])\n",
    "plt.figure()\n",
    "plt.plot(p[1,:])\n",
    "plt.figure()\n",
    "plt.plot(p[4,:])"
   ]
  },
  {
   "cell_type": "code",
   "execution_count": null,
   "id": "d651a60b",
   "metadata": {},
   "outputs": [],
   "source": [
    "plt.imshow(a)"
   ]
  },
  {
   "cell_type": "code",
   "execution_count": null,
   "id": "ef710f3e",
   "metadata": {},
   "outputs": [],
   "source": [
    "print(t.isnan().reshape((-1,t.shape[1]*t.shape[2]))\n",
    "      .shape)\n",
    "plt.imshow(torch.cat([t.isnan()[i,:,:] for i in range(8)], dim=1))\n",
    "plt.colorbar()"
   ]
  },
  {
   "cell_type": "code",
   "execution_count": null,
   "id": "ea3c7c02",
   "metadata": {},
   "outputs": [],
   "source": [
    "plt.imshow(model.attn_mask)"
   ]
  },
  {
   "cell_type": "code",
   "execution_count": null,
   "id": "aeda5522",
   "metadata": {},
   "outputs": [],
   "source": [
    "import torch\n",
    "token_types = torch.tensor(list((\n",
    "    *((0,) * 1024),\n",
    "    *((1,) * 1024),\n",
    "    *((2,) * 1024),\n",
    "    *((3,) * 1024),\n",
    ")), dtype=torch.long)"
   ]
  },
  {
   "cell_type": "code",
   "execution_count": null,
   "id": "d443be89",
   "metadata": {},
   "outputs": [],
   "source": [
    "token_types.shape"
   ]
  },
  {
   "cell_type": "code",
   "execution_count": null,
   "id": "88d0914b",
   "metadata": {},
   "outputs": [],
   "source": [
    "from einops import rearrange, repeat"
   ]
  },
  {
   "cell_type": "code",
   "execution_count": null,
   "id": "976b2033",
   "metadata": {},
   "outputs": [],
   "source": [
    "token_types_attend_from = rearrange(token_types, 'i -> i 1')\n",
    "token_types_attend_to = rearrange(token_types, 'j -> 1 j')"
   ]
  },
  {
   "cell_type": "code",
   "execution_count": null,
   "id": "7a8d608b",
   "metadata": {},
   "outputs": [],
   "source": [
    "zorro_mask = token_types_attend_from == token_types_attend_to"
   ]
  },
  {
   "cell_type": "code",
   "execution_count": null,
   "id": "e37900f3",
   "metadata": {},
   "outputs": [],
   "source": [
    "zorro_mask = zorro_mask | (token_types_attend_from == 3)"
   ]
  },
  {
   "cell_type": "code",
   "execution_count": null,
   "id": "33d2d622",
   "metadata": {
    "scrolled": true
   },
   "outputs": [],
   "source": [
    "token_types\n",
    "floom_mask = [token_types != i for i in range(-1,3)]\n",
    "for idx, tokens in enumerate(floom_mask):\n",
    "    print(idx)\n",
    "    a = -256*4 + 256*idx\n",
    "    b = -256*4 + 256*(idx+1)-1\n",
    "    print(f\"{a}:{b}\")\n",
    "    tokens[-256*4:] = False\n",
    "    tokens[a:b]= True\n",
    "floom_mask = repeat(floom_mask, 'i j -> (i i2) j', i2=256)\n",
    "plt.imshow(floom_mask)#, aspect = 1000)"
   ]
  },
  {
   "cell_type": "code",
   "execution_count": null,
   "id": "8112c4de",
   "metadata": {
    "scrolled": true
   },
   "outputs": [],
   "source": [
    "import matplotlib.pyplot as plt\n",
    "zorro_mask[token_types == 3] = floom_mask\n",
    "plt.imshow(zorro_mask)"
   ]
  },
  {
   "cell_type": "code",
   "execution_count": null,
   "id": "e8dce948",
   "metadata": {},
   "outputs": [],
   "source": [
    "ax = plt.subplot(1,1,1)\n",
    "im = ax.imshow(attn_mask[3,:,:] * zorro_mask)\n",
    "labels = ['0','Modality 1','Modality 2','Modality 3','Fusion -1', 'Fusion 0', 'Fusion 1', 'Fusion 2','Global Tokens']\n",
    "ax.set_yticklabels(labels)"
   ]
  },
  {
   "cell_type": "code",
   "execution_count": null,
   "id": "fef8b8b4",
   "metadata": {},
   "outputs": [],
   "source": [
    "torch.empty(0)"
   ]
  },
  {
   "cell_type": "code",
   "execution_count": null,
   "id": "20db5383",
   "metadata": {},
   "outputs": [],
   "source": [
    "batch"
   ]
  },
  {
   "cell_type": "code",
   "execution_count": null,
   "id": "5b42e88c",
   "metadata": {},
   "outputs": [],
   "source": [
    "return_token_types = (0,1,2,3,3,3,3,4)\n",
    "return_token_types_tensor = torch.tensor(list(return_token_types))\n",
    "max_return_tokens = len(return_token_types)\n",
    "dim=512\n",
    "return_tokens = torch.nn.Parameter(torch.randn(max_return_tokens, dim))\n",
    "return_tokens = repeat(return_tokens, 'n d -> b n d', b=4)"
   ]
  },
  {
   "cell_type": "code",
   "execution_count": null,
   "id": "0b5e2e53",
   "metadata": {},
   "outputs": [],
   "source": [
    "return_tokens.shape"
   ]
  },
  {
   "cell_type": "code",
   "execution_count": null,
   "id": "8091a8b3",
   "metadata": {},
   "outputs": [],
   "source": [
    "pool_mask = rearrange(return_token_types_tensor, 'i -> i 1') == token_types_attend_to\n",
    "pool_mask = pool_mask | (rearrange(return_token_types_tensor, 'i -> i 1') == torch.ones_like(\n",
    "            token_types_attend_to, dtype=torch.long) * 4)"
   ]
  },
  {
   "cell_type": "code",
   "execution_count": null,
   "id": "c237ea91",
   "metadata": {},
   "outputs": [],
   "source": [
    "plt.imshow(pool_mask.to(torch.long), aspect=1000) #'auto')\n",
    "plt.colorbar()"
   ]
  },
  {
   "cell_type": "code",
   "execution_count": null,
   "id": "735e7736",
   "metadata": {},
   "outputs": [],
   "source": [
    "floom_pool_mask = torch.block_diag(torch.ones((1,256)), \n",
    "                              torch.ones((1,256)), \n",
    "                              torch.ones((1,256)), \n",
    "                              torch.ones((1,256)))\n",
    "print(token_types.shape)\n",
    "select_mask = (return_token_types_tensor == 3).unsqueeze(1) *(token_types == 3).unsqueeze(0)\n",
    "print(select_mask.shape)\n",
    "pool_mask[select_mask] = floom_pool_mask.to(torch.bool).flatten()\n",
    "#floom_mask = repeat(floom_mask, 'i j -> i j')\n",
    "ax = plt.subplot(1,1,1)\n",
    "im = ax.imshow(pool_mask, aspect=1000, interpolation='none')"
   ]
  },
  {
   "cell_type": "code",
   "execution_count": null,
   "id": "c2e82416",
   "metadata": {},
   "outputs": [],
   "source": [
    "plt.imshow((return_token_types_tensor == 3).unsqueeze(1) *\n",
    "           (token_types == 3).unsqueeze(0), aspect =1000)"
   ]
  },
  {
   "cell_type": "code",
   "execution_count": null,
   "id": "00f264b7",
   "metadata": {},
   "outputs": [],
   "source": [
    "plt.plot(pool_mask.T)"
   ]
  },
  {
   "cell_type": "code",
   "execution_count": null,
   "id": "d37eb5a7",
   "metadata": {
    "scrolled": true
   },
   "outputs": [],
   "source": [
    "padding_mask = repeat(padding, 'b j -> b i j', i=pool_mask.shape[0])\n",
    "print(padding_mask.shape)\n",
    "plt.imshow(padding_mask[0,:,:].squeeze(), aspect=1000)\n",
    "plt.colorbar()"
   ]
  },
  {
   "cell_type": "code",
   "execution_count": null,
   "id": "c72bf166",
   "metadata": {},
   "outputs": [],
   "source": [
    "pool_mask = pool_mask * padding_mask\n",
    "ax = plt.subplot(1,1,1)\n",
    "im = ax.imshow(pool_mask[0], aspect=1000, interpolation='none')\n",
    "#labels = [item.get_text() for item in ax.get_xticklabels()]\n",
    "labels = ['0','Modality 1','Modality 2','Modality 3','Fusion -1', 'Fusion 0', 'Fusion 1', 'Fusion 2','Global Tokens']\n",
    "ax.set_yticklabels(labels)"
   ]
  },
  {
   "cell_type": "code",
   "execution_count": null,
   "id": "e9426b8a",
   "metadata": {},
   "outputs": [],
   "source": [
    "q=torch.tensor([[1,2],\n",
    "                [1,1]])\n",
    "k=torch.tensor([[1,1],\n",
    "                [2,1]])\n",
    "v=q"
   ]
  },
  {
   "cell_type": "code",
   "execution_count": null,
   "id": "b1e5f02a",
   "metadata": {},
   "outputs": [],
   "source": [
    "from torch import einsum\n",
    "sim = einsum('i d, d j -> i j', q, k) #Standard mm multipy\n",
    "sim = einsum('i d, j d -> i j', q, k) #mm multiply with k transpose\n",
    "print(sim)\n",
    "#sim = sim.masked_fill(~attn_mask, -torch.finfo(sim.dtype).max)\n",
    "#attn = sim.softmax(dim=-1)\n",
    "attn = sim\n",
    "out = einsum('i j, j d -> i d', attn, v) #standard multiply with no tranpose\n",
    "print(out)\n",
    "### SO COLUMNS SHOULD BE -inf for the mask!"
   ]
  },
  {
   "cell_type": "code",
   "execution_count": null,
   "id": "044571c9",
   "metadata": {},
   "outputs": [],
   "source": [
    "sim"
   ]
  },
  {
   "cell_type": "markdown",
   "id": "f7913036",
   "metadata": {},
   "source": [
    "# Combine datasets"
   ]
  },
  {
   "cell_type": "code",
   "execution_count": null,
   "id": "ec8c1ce9",
   "metadata": {},
   "outputs": [],
   "source": [
    "from datasets import concatenate_datasets, load_from_disk\n",
    "import os\n",
    "os.environ['HF_DATASETS_CACHE']='/shared/.cache/hugginface/dataset'\n",
    "datasets = [\n",
    "   'ad98d3cd-26fb-4ee3-99c9-8a2ab085e737_combined_all',\n",
    "    'fcaa53cd-ba57-4bfe-af9c-eaa958f95c1a_combined_all',\n",
    "    'cc95ff89-2e68-4a08-a234-480eca21ce79_combined_all',\n",
    "    'fde199d2-a841-4ed1-aa65-b9e0af8969b1_combined_all'\n",
    "]\n",
    "root = '/shared/'\n",
    "loaded_datasets=[]\n",
    "for dataset in datasets:\n",
    "    loaded_datasets.append(load_from_disk(os.path.join(root,dataset)))\n",
    "all_datasets=concatenate_datasets(loaded_datasets)"
   ]
  },
  {
   "cell_type": "code",
   "execution_count": null,
   "id": "a0df3d2b",
   "metadata": {},
   "outputs": [],
   "source": [
    "shuffled_dataset = all_datasets.shuffle(seed=42)"
   ]
  },
  {
   "cell_type": "code",
   "execution_count": null,
   "id": "1e792c94",
   "metadata": {},
   "outputs": [],
   "source": [
    "len(shuffled_dataset)"
   ]
  },
  {
   "cell_type": "code",
   "execution_count": null,
   "id": "f1905102",
   "metadata": {},
   "outputs": [],
   "source": [
    "shuffled_dataset.save_to_disk(os.path.join(root,'dataset3M'))"
   ]
  },
  {
   "cell_type": "code",
   "execution_count": null,
   "id": "562633f4",
   "metadata": {},
   "outputs": [],
   "source": [
    "import torch"
   ]
  },
  {
   "cell_type": "code",
   "execution_count": null,
   "id": "53bc6e9c",
   "metadata": {},
   "outputs": [],
   "source": [
    "t = torch.zeros(10)"
   ]
  },
  {
   "cell_type": "code",
   "execution_count": null,
   "id": "4d662bdd",
   "metadata": {},
   "outputs": [],
   "source": [
    "t[torch.tensor([0,4,9])]=torch.tensor([1,2,3], dtype=torch.float)"
   ]
  },
  {
   "cell_type": "code",
   "execution_count": null,
   "id": "decbe11d",
   "metadata": {},
   "outputs": [],
   "source": [
    "t"
   ]
  },
  {
   "cell_type": "code",
   "execution_count": null,
   "id": "cd2951af",
   "metadata": {},
   "outputs": [],
   "source": [
    "    f, ax= plt.subplots(4,2, figsize=(6,2))\n"
   ]
  },
  {
   "cell_type": "code",
   "execution_count": null,
   "id": "9f67b83b",
   "metadata": {},
   "outputs": [],
   "source": [
    "ax"
   ]
  },
  {
   "cell_type": "code",
   "execution_count": null,
   "id": "b3f7403c",
   "metadata": {},
   "outputs": [],
   "source": [
    "import datasets\n",
    "!ls /shared\n",
    "dataset = datasets.load_from_disk('/shared/how2_all_proc')"
   ]
  },
  {
   "cell_type": "code",
   "execution_count": null,
   "id": "b6d74460",
   "metadata": {},
   "outputs": [],
   "source": [
    "dataset[0]['vid']"
   ]
  },
  {
   "cell_type": "code",
   "execution_count": null,
   "id": "893cf764",
   "metadata": {},
   "outputs": [],
   "source": [
    "    #if plot_diag:\n",
    "        \"\"\"\n",
    "        plt.figure()\n",
    "        plt.title(\"diagonals\")\n",
    "        diags = {k:np.diagonal(mat) for k,mat in mat_dict.items()}\n",
    "        plt.hist(diags.values(), bins=20)\n",
    "        plt.legend(diags.keys())\n",
    "        plt.ylabel('Number of Batches')\n",
    "        plt.xlabel('Diag Cosine Similarity')\n",
    "        plt.figure()\n",
    "        plt.title(\"diagonals\")\n",
    "        diags = {k:np.diagonal(mat) for k,mat in mat_dict.items()}\n",
    "        diags_norm = {k:np.diagonal(mat)-np.mean(mat_dict[k]) for k, mat in mat_dict.items()}\n",
    "        plt.hist(diags_norm.values(), bins=20)\n",
    "        plt.legend(diags_norm.keys())\n",
    "        plt.ylabel('Number of Batches')\n",
    "        plt.xlabel('%Cosine Similarity Change from Mean of Diagonal')\n",
    "        diags = {k:np.diagonal(mat) for k,mat in mat_dict.items()}\n",
    "        diags_norm = {k:np.diagonal(mat)-np.mean(mat_dict[k]) for k, mat in mat_dict.items()}\n",
    "        plt.hist(diags_norm.values(), bins=20)\n",
    "        plt.legend(diags_norm.keys())\n",
    "        plt.ylabel('Number of Batches')\n",
    "        plt.xlabel('%Cosine Similarity Change from Mean of Diagonal')        \n",
    "        \"\"\"\n",
    "        #plt.figure()\n",
    "        #plt.title(\"\")"
   ]
  },
  {
   "cell_type": "code",
   "execution_count": null,
   "id": "3d7551ee",
   "metadata": {},
   "outputs": [],
   "source": [
    "x = torch.Tensor([[0,1,1,1],[0,1,1,0]])"
   ]
  },
  {
   "cell_type": "code",
   "execution_count": null,
   "id": "25875653",
   "metadata": {},
   "outputs": [],
   "source": [
    "torch.randperm(10)[:3]"
   ]
  },
  {
   "cell_type": "code",
   "execution_count": null,
   "id": "b84d8584",
   "metadata": {},
   "outputs": [],
   "source": [
    "x.swapaxes(0,1)"
   ]
  },
  {
   "cell_type": "code",
   "execution_count": null,
   "id": "c988259e",
   "metadata": {},
   "outputs": [],
   "source": [
    "x = [torch.Tensor([0.3]), torch.Tensor([1.3]), torch.Tensor([2.3]), torch.Tensor([np.nan])]"
   ]
  },
  {
   "cell_type": "code",
   "execution_count": null,
   "id": "6e216ae3",
   "metadata": {},
   "outputs": [],
   "source": [
    "y = torch.cat(x)"
   ]
  },
  {
   "cell_type": "code",
   "execution_count": null,
   "id": "99f35ca6",
   "metadata": {},
   "outputs": [],
   "source": [
    "z=~y.isnan()"
   ]
  },
  {
   "cell_type": "code",
   "execution_count": null,
   "id": "014bc52a",
   "metadata": {},
   "outputs": [],
   "source": [
    "w=torch.sum(z)"
   ]
  },
  {
   "cell_type": "code",
   "execution_count": null,
   "id": "5da1700f",
   "metadata": {},
   "outputs": [],
   "source": [
    "torch.sum(y[z])/w"
   ]
  },
  {
   "cell_type": "code",
   "execution_count": null,
   "id": "886d9640",
   "metadata": {},
   "outputs": [],
   "source": [
    "z"
   ]
  },
  {
   "cell_type": "code",
   "execution_count": 36,
   "id": "acc24349",
   "metadata": {},
   "outputs": [
    {
     "data": {
      "text/plain": [
       "tensor([1.0000, 1.0000, 1.0000])"
      ]
     },
     "execution_count": 36,
     "metadata": {},
     "output_type": "execute_result"
    }
   ],
   "source": [
    "cos0 = torch.nn.CosineSimilarity(dim=1)\n",
    "output0 = cos0(torch.ones([3,10]), torch.ones([3,10]))\n",
    "output0"
   ]
  },
  {
   "cell_type": "code",
   "execution_count": null,
   "id": "35fc860a",
   "metadata": {},
   "outputs": [],
   "source": [
    "!ls ../training_output_03_41_31_01_2024/"
   ]
  },
  {
   "cell_type": "code",
   "execution_count": null,
   "id": "2e1f29c4",
   "metadata": {},
   "outputs": [],
   "source": [
    "from safetensors.torch import load_model\n",
    "from model import MFDOOM\n",
    "from encoders import MultimodalCollator\n",
    "from torch.utils.data import DataLoader\n",
    "from utils.config import training_config, get_model_config\n",
    "output_dir = \"/efs-private/multimodal/training_output_01_35_20_01_2024\" #0.8 Doom\n",
    "#output_dir = \"/efs-private/multimodal/training_output_01_36_20_01_2024\" #0.3 Doom\n",
    "#output_dir = \"/efs-private/multimodal/training_output_01_38_20_01_2024\" #0.8 Zorro\n",
    "#output_dir = \"/efs-private/multimodal/training_output_01_37_20_01_2024\" #0.3 Zorro\n",
    "config = training_config(os.path.join(output_dir,'config.yaml'))\n",
    "model_config = get_model_config(config)\n",
    "model_config['batch_size']=4"
   ]
  },
  {
   "cell_type": "code",
   "execution_count": null,
   "id": "00005d55",
   "metadata": {},
   "outputs": [],
   "source": [
    "import model\n",
    "from importlib import reload\n",
    "reload(model)\n",
    "from model import MFDOOM"
   ]
  },
  {
   "cell_type": "code",
   "execution_count": null,
   "id": "72b8c205",
   "metadata": {},
   "outputs": [],
   "source": [
    "default_data_collator = MultimodalCollator(config.modality_config)\n",
    "#dataloader2 = DataLoader(dataset.with_format('torch'), shuffle=True, collate_fn=default_data_collator, batch_size=4,)\n",
    "dataloader = DataLoader(datasets['test'].with_format('torch'), \n",
    "                        shuffle=True, \n",
    "                        collate_fn=default_data_collator, \n",
    "                        batch_size=4,)"
   ]
  },
  {
   "cell_type": "code",
   "execution_count": null,
   "id": "f0c32f3c",
   "metadata": {},
   "outputs": [],
   "source": [
    "import torch\n",
    "model = MFDOOM(**model_config)"
   ]
  },
  {
   "cell_type": "code",
   "execution_count": null,
   "id": "432a7b07",
   "metadata": {},
   "outputs": [],
   "source": [
    "import torch\n",
    "from safetensors.torch import load_model\n",
    "load_model(model,os.path.join(output_dir,'model.safetensors'))"
   ]
  },
  {
   "cell_type": "code",
   "execution_count": null,
   "id": "92ef58c2",
   "metadata": {},
   "outputs": [],
   "source": [
    "dl=iter(dataloader)\n",
    "infer_model = model.eval()\n",
    "#batch = [next(dl) for x in range(4)]\n",
    "output = [infer_model(next(dl)) for _ in range(2)]"
   ]
  },
  {
   "cell_type": "code",
   "execution_count": null,
   "id": "55ac5fa5",
   "metadata": {},
   "outputs": [],
   "source": [
    "def zero_modes(batch, modes_to_zero):\n",
    "    for mode in modes_to_zero:\n",
    "        print(mode)\n",
    "        if mode == 'aud':\n",
    "            batch[mode]['values'] = torch.ones_like(batch[mode]['values'])*-10000\n",
    "        elif mode == 'vid':\n",
    "            batch[mode]['attention_mask']=torch.ones_like(batch[mode]['attention_mask'])\n",
    "        else:\n",
    "            batch[mode]['attention_mask']=torch.ones_like(batch[mode]['attention_mask'])\n",
    "    return batch"
   ]
  },
  {
   "cell_type": "code",
   "execution_count": null,
   "id": "f85c3b0c",
   "metadata": {
    "scrolled": true
   },
   "outputs": [],
   "source": [
    "from tqdm import tqdm\n",
    "from collections import defaultdict\n",
    "import copy\n",
    "import random\n",
    "output=defaultdict(list)\n",
    "infer_model = model.eval()\n",
    "dl = iter(dataloader)\n",
    "#mode_sets = [('aud',),('sm',),('en',),('pt',),('vid',)]\n",
    "mode_sets = [('aud','sm',), ('vid','aud',), ('sm','en','pt',)]\n",
    "batches = []\n",
    "with torch.no_grad():\n",
    "    for i in tqdm(range(4)):\n",
    "        batch = next(dl)\n",
    "        batches.append(batch)\n",
    "        #batch = {k: {k2: v2 for k2,v2 in v.items()} for k,v in batch.items()}\n",
    "        output[('baseline',)].append(infer_model(batch))\n",
    "        random.shuffle(mode_sets)\n",
    "        for modes in mode_sets:\n",
    "            mode_batch = copy.deepcopy(batch)\n",
    "            output[modes].append(infer_model(zero_modes(mode_batch,modes)))\n",
    "print(output)"
   ]
  },
  {
   "cell_type": "code",
   "execution_count": null,
   "id": "c7df5367",
   "metadata": {},
   "outputs": [],
   "source": [
    "def refactor(outputs):\n",
    "    out_dict = {k:[] for k in outputs[0]}\n",
    "    for k in [\"losses\", \"loss\", \"modality_sample_mask\"]:\n",
    "        out_dict.pop(k, None)\n",
    "    for batch in outputs:\n",
    "        for key in out_dict.keys():\n",
    "            out_dict[key].append(batch[key])\n",
    "    print(out_dict.keys())\n",
    "    out_dict = {k:torch.cat(v) for k,v in out_dict.items()}\n",
    "    return out_dict"
   ]
  },
  {
   "cell_type": "code",
   "execution_count": null,
   "id": "2c775c55",
   "metadata": {},
   "outputs": [],
   "source": [
    "output_r = {k: refactor(v) for k,v in output.items()}"
   ]
  },
  {
   "cell_type": "code",
   "execution_count": null,
   "id": "ee06d05d",
   "metadata": {},
   "outputs": [],
   "source": [
    "output[('baseline',)][0]['aud']"
   ]
  },
  {
   "cell_type": "code",
   "execution_count": null,
   "id": "36fad6e5",
   "metadata": {},
   "outputs": [],
   "source": [
    "import numpy as np\n",
    "import matplotlib.pyplot as plt\n",
    "\n",
    "def plot_cosines(output, output2=None, log=False, vmin=None, vmax=None, plot_diag=True):\n",
    "    cos = torch.nn.CosineSimilarity(dim=0)\n",
    "    mat_dict={}\n",
    "    for k,v in output.items():\n",
    "        l = v.shape[0]\n",
    "        mat_dict[k]=np.zeros([l,l])\n",
    "        v2 = output2[k] if output2 else output['fusion']\n",
    "        for i in range(l):\n",
    "            for j in range(l):\n",
    "                #print(f\"{i},{j},{cos(output.fusion[i],output.fusion[j])}\")\n",
    "                if log:\n",
    "                    mat_dict[k][i,j]=np.log10(cos(v[i],v2[j]))\n",
    "                else:\n",
    "                    mat_dict[k][i,j]=cos(v[i],v2[j])\n",
    "\n",
    "    f, ax = plt.subplots(len(mat_dict),2, figsize=(6,3*len(mat_dict)))\n",
    "    for i,(k,mat) in enumerate(mat_dict.items()):\n",
    "        #f, (ax1, ax2) = plt.subplots(1,2, figsize=(6,2))\n",
    "        #plt.figure(figsize=(2,2))\n",
    "        #ax1.title(k)\n",
    "        ax1 = ax[i,0]\n",
    "        im = ax1.imshow(mat, vmin=vmin, vmax=vmax)\n",
    "        ax1.set_ylabel(k)\n",
    "        f.colorbar(im,ax=ax1)\n",
    "        if plot_diag:\n",
    "            #plt.figure(figsize=(2,2))\n",
    "            #plt.title(f\"{k} diagonals\")\n",
    "            bins = np.linspace(0,1.0,100)\n",
    "            ax2 = ax[i,1]\n",
    "            ax2.hist(np.diagonal(mat), bins=bins, alpha=0.3,density=True)\n",
    "            ax2.hist(mat.flatten(), bins=bins, alpha=0.3, density=True)\n",
    "            ax2.set_ylim(0,50)\n",
    "            ax2.set_xlim(0,1.0)\n",
    "            ax2.annotate(str(np.mean((mat.sum(1)-np.diag(mat))/(mat.shape[1]-1))),\n",
    "                        [0.1, 0.1])\n",
    "            ax2.legend([\"diag\",\"all\"])\n",
    "\n",
    "        "
   ]
  },
  {
   "cell_type": "code",
   "execution_count": null,
   "id": "70bb643b",
   "metadata": {},
   "outputs": [],
   "source": [
    "print(output_r.keys())"
   ]
  },
  {
   "cell_type": "code",
   "execution_count": null,
   "id": "5ce8db77",
   "metadata": {},
   "outputs": [],
   "source": [
    "k = mode_sets[0]\n",
    "print(k)\n",
    "plot_cosines(output_r[('baseline',)],output_r[k],vmin=0.99999) #"
   ]
  },
  {
   "cell_type": "markdown",
   "id": "805d91dc",
   "metadata": {},
   "source": [
    "# Attention masking tests"
   ]
  },
  {
   "cell_type": "code",
   "execution_count": null,
   "id": "b85b6802",
   "metadata": {},
   "outputs": [],
   "source": [
    "plt.imshow(model.pool_mask, aspect=100)\n",
    "plt.colorbar()"
   ]
  },
  {
   "cell_type": "code",
   "execution_count": null,
   "id": "1b7fc8dc",
   "metadata": {},
   "outputs": [],
   "source": [
    "t=torch.load('../batch.pt', map_location=torch.device('cpu'))\n",
    "p=torch.load('../padding_mask.pt', map_location=torch.device('cpu'))\n",
    "a = torch.load('../attn_mask.pt', map_location=torch.device('cpu'))"
   ]
  },
  {
   "cell_type": "code",
   "execution_count": null,
   "id": "8a3e76ab",
   "metadata": {},
   "outputs": [],
   "source": [
    "plt.plot(p[0,:])\n",
    "plt.figure()\n",
    "plt.plot(p[1,:])\n",
    "plt.figure()\n",
    "plt.plot(p[4,:])"
   ]
  },
  {
   "cell_type": "code",
   "execution_count": null,
   "id": "a41f77d9",
   "metadata": {},
   "outputs": [],
   "source": [
    "plt.imshow(a)"
   ]
  },
  {
   "cell_type": "code",
   "execution_count": null,
   "id": "e51c6b34",
   "metadata": {},
   "outputs": [],
   "source": [
    "print(t.isnan().reshape((-1,t.shape[1]*t.shape[2]))\n",
    "      .shape)\n",
    "plt.imshow(torch.cat([t.isnan()[i,:,:] for i in range(8)], dim=1))\n",
    "plt.colorbar()"
   ]
  },
  {
   "cell_type": "code",
   "execution_count": null,
   "id": "828f11a1",
   "metadata": {},
   "outputs": [],
   "source": [
    "plt.imshow(model.attn_mask)"
   ]
  },
  {
   "cell_type": "code",
   "execution_count": null,
   "id": "e52e6049",
   "metadata": {},
   "outputs": [],
   "source": [
    "import torch\n",
    "token_types = torch.tensor(list((\n",
    "    *((0,) * 1024),\n",
    "    *((1,) * 1024),\n",
    "    *((2,) * 1024),\n",
    "    *((3,) * 1024),\n",
    ")), dtype=torch.long)"
   ]
  },
  {
   "cell_type": "code",
   "execution_count": null,
   "id": "68dbaaa6",
   "metadata": {},
   "outputs": [],
   "source": [
    "token_types.shape"
   ]
  },
  {
   "cell_type": "code",
   "execution_count": null,
   "id": "cf79b6d1",
   "metadata": {},
   "outputs": [],
   "source": [
    "from einops import rearrange, repeat"
   ]
  },
  {
   "cell_type": "code",
   "execution_count": null,
   "id": "7e90e66f",
   "metadata": {},
   "outputs": [],
   "source": [
    "token_types_attend_from = rearrange(token_types, 'i -> i 1')\n",
    "token_types_attend_to = rearrange(token_types, 'j -> 1 j')"
   ]
  },
  {
   "cell_type": "code",
   "execution_count": null,
   "id": "ce3fb4db",
   "metadata": {},
   "outputs": [],
   "source": [
    "zorro_mask = token_types_attend_from == token_types_attend_to"
   ]
  },
  {
   "cell_type": "code",
   "execution_count": null,
   "id": "ac66da7e",
   "metadata": {},
   "outputs": [],
   "source": [
    "zorro_mask = zorro_mask | (token_types_attend_from == 3)"
   ]
  },
  {
   "cell_type": "code",
   "execution_count": null,
   "id": "d7e865b1",
   "metadata": {
    "scrolled": true
   },
   "outputs": [],
   "source": [
    "token_types\n",
    "floom_mask = [token_types != i for i in range(-1,3)]\n",
    "for idx, tokens in enumerate(floom_mask):\n",
    "    print(idx)\n",
    "    a = -256*4 + 256*idx\n",
    "    b = -256*4 + 256*(idx+1)-1\n",
    "    print(f\"{a}:{b}\")\n",
    "    tokens[-256*4:] = False\n",
    "    tokens[a:b]= True\n",
    "floom_mask = repeat(floom_mask, 'i j -> (i i2) j', i2=256)\n",
    "plt.imshow(floom_mask)#, aspect = 1000)"
   ]
  },
  {
   "cell_type": "code",
   "execution_count": null,
   "id": "5d4cd737",
   "metadata": {
    "scrolled": true
   },
   "outputs": [],
   "source": [
    "import matplotlib.pyplot as plt\n",
    "zorro_mask[token_types == 3] = floom_mask\n",
    "plt.imshow(zorro_mask)"
   ]
  },
  {
   "cell_type": "code",
   "execution_count": null,
   "id": "7403f861",
   "metadata": {},
   "outputs": [],
   "source": [
    "ax = plt.subplot(1,1,1)\n",
    "im = ax.imshow(attn_mask[3,:,:] * zorro_mask)\n",
    "labels = ['0','Modality 1','Modality 2','Modality 3','Fusion -1', 'Fusion 0', 'Fusion 1', 'Fusion 2','Global Tokens']\n",
    "ax.set_yticklabels(labels)"
   ]
  },
  {
   "cell_type": "code",
   "execution_count": null,
   "id": "dfe8365d",
   "metadata": {},
   "outputs": [],
   "source": [
    "torch.empty(0)"
   ]
  },
  {
   "cell_type": "code",
   "execution_count": null,
   "id": "687cf0b2",
   "metadata": {},
   "outputs": [],
   "source": [
    "batch"
   ]
  },
  {
   "cell_type": "code",
   "execution_count": null,
   "id": "cabf28b3",
   "metadata": {},
   "outputs": [],
   "source": [
    "return_token_types = (0,1,2,3,3,3,3,4)\n",
    "return_token_types_tensor = torch.tensor(list(return_token_types))\n",
    "max_return_tokens = len(return_token_types)\n",
    "dim=512\n",
    "return_tokens = torch.nn.Parameter(torch.randn(max_return_tokens, dim))\n",
    "return_tokens = repeat(return_tokens, 'n d -> b n d', b=4)"
   ]
  },
  {
   "cell_type": "code",
   "execution_count": null,
   "id": "eba9b41f",
   "metadata": {},
   "outputs": [],
   "source": [
    "return_tokens.shape"
   ]
  },
  {
   "cell_type": "code",
   "execution_count": null,
   "id": "a3afe937",
   "metadata": {},
   "outputs": [],
   "source": [
    "pool_mask = rearrange(return_token_types_tensor, 'i -> i 1') == token_types_attend_to\n",
    "pool_mask = pool_mask | (rearrange(return_token_types_tensor, 'i -> i 1') == torch.ones_like(\n",
    "            token_types_attend_to, dtype=torch.long) * 4)"
   ]
  },
  {
   "cell_type": "code",
   "execution_count": null,
   "id": "7cb3155a",
   "metadata": {},
   "outputs": [],
   "source": [
    "plt.imshow(pool_mask.to(torch.long), aspect=1000) #'auto')\n",
    "plt.colorbar()"
   ]
  },
  {
   "cell_type": "code",
   "execution_count": null,
   "id": "02489cdb",
   "metadata": {},
   "outputs": [],
   "source": [
    "floom_pool_mask = torch.block_diag(torch.ones((1,256)), \n",
    "                              torch.ones((1,256)), \n",
    "                              torch.ones((1,256)), \n",
    "                              torch.ones((1,256)))\n",
    "print(token_types.shape)\n",
    "select_mask = (return_token_types_tensor == 3).unsqueeze(1) *(token_types == 3).unsqueeze(0)\n",
    "print(select_mask.shape)\n",
    "pool_mask[select_mask] = floom_pool_mask.to(torch.bool).flatten()\n",
    "#floom_mask = repeat(floom_mask, 'i j -> i j')\n",
    "ax = plt.subplot(1,1,1)\n",
    "im = ax.imshow(pool_mask, aspect=1000, interpolation='none')"
   ]
  },
  {
   "cell_type": "code",
   "execution_count": null,
   "id": "a489f194",
   "metadata": {},
   "outputs": [],
   "source": [
    "plt.imshow((return_token_types_tensor == 3).unsqueeze(1) *\n",
    "           (token_types == 3).unsqueeze(0), aspect =1000)"
   ]
  },
  {
   "cell_type": "code",
   "execution_count": null,
   "id": "c1a7bf19",
   "metadata": {},
   "outputs": [],
   "source": [
    "plt.plot(pool_mask.T)"
   ]
  },
  {
   "cell_type": "code",
   "execution_count": null,
   "id": "cfa81739",
   "metadata": {
    "scrolled": true
   },
   "outputs": [],
   "source": [
    "padding_mask = repeat(padding, 'b j -> b i j', i=pool_mask.shape[0])\n",
    "print(padding_mask.shape)\n",
    "plt.imshow(padding_mask[0,:,:].squeeze(), aspect=1000)\n",
    "plt.colorbar()"
   ]
  },
  {
   "cell_type": "code",
   "execution_count": null,
   "id": "5694c8ef",
   "metadata": {},
   "outputs": [],
   "source": [
    "pool_mask = pool_mask * padding_mask\n",
    "ax = plt.subplot(1,1,1)\n",
    "im = ax.imshow(pool_mask[0], aspect=1000, interpolation='none')\n",
    "#labels = [item.get_text() for item in ax.get_xticklabels()]\n",
    "labels = ['0','Modality 1','Modality 2','Modality 3','Fusion -1', 'Fusion 0', 'Fusion 1', 'Fusion 2','Global Tokens']\n",
    "ax.set_yticklabels(labels)"
   ]
  },
  {
   "cell_type": "code",
   "execution_count": null,
   "id": "8bfcd9ee",
   "metadata": {},
   "outputs": [],
   "source": [
    "q=torch.tensor([[1,2],\n",
    "                [1,1]])\n",
    "k=torch.tensor([[1,1],\n",
    "                [2,1]])\n",
    "v=q"
   ]
  },
  {
   "cell_type": "code",
   "execution_count": null,
   "id": "65cfe5dd",
   "metadata": {},
   "outputs": [],
   "source": [
    "from torch import einsum\n",
    "sim = einsum('i d, d j -> i j', q, k) #Standard mm multipy\n",
    "sim = einsum('i d, j d -> i j', q, k) #mm multiply with k transpose\n",
    "print(sim)\n",
    "#sim = sim.masked_fill(~attn_mask, -torch.finfo(sim.dtype).max)\n",
    "#attn = sim.softmax(dim=-1)\n",
    "attn = sim\n",
    "out = einsum('i j, j d -> i d', attn, v) #standard multiply with no tranpose\n",
    "print(out)\n",
    "### SO COLUMNS SHOULD BE -inf for the mask!"
   ]
  },
  {
   "cell_type": "code",
   "execution_count": null,
   "id": "7438bbe0",
   "metadata": {},
   "outputs": [],
   "source": [
    "sim"
   ]
  },
  {
   "cell_type": "markdown",
   "id": "94b41214",
   "metadata": {},
   "source": [
    "# Combine datasets"
   ]
  },
  {
   "cell_type": "code",
   "execution_count": null,
   "id": "d248fb90",
   "metadata": {},
   "outputs": [],
   "source": [
    "from datasets import concatenate_datasets, load_from_disk\n",
    "import os\n",
    "os.environ['HF_DATASETS_CACHE']='/shared/.cache/hugginface/dataset'\n",
    "datasets = [\n",
    "   'ad98d3cd-26fb-4ee3-99c9-8a2ab085e737_combined_all',\n",
    "    'fcaa53cd-ba57-4bfe-af9c-eaa958f95c1a_combined_all',\n",
    "    'cc95ff89-2e68-4a08-a234-480eca21ce79_combined_all',\n",
    "    'fde199d2-a841-4ed1-aa65-b9e0af8969b1_combined_all'\n",
    "]\n",
    "root = '/shared/'\n",
    "loaded_datasets=[]\n",
    "for dataset in datasets:\n",
    "    loaded_datasets.append(load_from_disk(os.path.join(root,dataset)))\n",
    "all_datasets=concatenate_datasets(loaded_datasets)"
   ]
  },
  {
   "cell_type": "code",
   "execution_count": null,
   "id": "3573ef64",
   "metadata": {},
   "outputs": [],
   "source": [
    "shuffled_dataset = all_datasets.shuffle(seed=42)"
   ]
  },
  {
   "cell_type": "code",
   "execution_count": null,
   "id": "9a1101e8",
   "metadata": {},
   "outputs": [],
   "source": [
    "len(shuffled_dataset)"
   ]
  },
  {
   "cell_type": "code",
   "execution_count": null,
   "id": "a97f80ac",
   "metadata": {},
   "outputs": [],
   "source": [
    "shuffled_dataset.save_to_disk(os.path.join(root,'dataset3M'))"
   ]
  },
  {
   "cell_type": "code",
   "execution_count": null,
   "id": "452f5339",
   "metadata": {},
   "outputs": [],
   "source": [
    "import torch"
   ]
  },
  {
   "cell_type": "code",
   "execution_count": null,
   "id": "8f80b4bf",
   "metadata": {},
   "outputs": [],
   "source": [
    "t = torch.zeros(10)"
   ]
  },
  {
   "cell_type": "code",
   "execution_count": null,
   "id": "4113377f",
   "metadata": {},
   "outputs": [],
   "source": [
    "t[torch.tensor([0,4,9])]=torch.tensor([1,2,3], dtype=torch.float)"
   ]
  },
  {
   "cell_type": "code",
   "execution_count": null,
   "id": "153ec5cb",
   "metadata": {},
   "outputs": [],
   "source": [
    "t"
   ]
  },
  {
   "cell_type": "code",
   "execution_count": null,
   "id": "e056ac43",
   "metadata": {},
   "outputs": [],
   "source": [
    "    f, ax= plt.subplots(4,2, figsize=(6,2))\n"
   ]
  },
  {
   "cell_type": "code",
   "execution_count": null,
   "id": "bcb983ea",
   "metadata": {},
   "outputs": [],
   "source": [
    "ax"
   ]
  },
  {
   "cell_type": "code",
   "execution_count": null,
   "id": "ebe4fcde",
   "metadata": {},
   "outputs": [],
   "source": [
    "import datasets\n",
    "!ls /shared\n",
    "dataset = datasets.load_from_disk('/shared/how2_all_proc')"
   ]
  },
  {
   "cell_type": "code",
   "execution_count": null,
   "id": "7f6dfb63",
   "metadata": {},
   "outputs": [],
   "source": [
    "dataset[0]['vid']"
   ]
  },
  {
   "cell_type": "code",
   "execution_count": null,
   "id": "bdee2067",
   "metadata": {},
   "outputs": [],
   "source": [
    "    #if plot_diag:\n",
    "        \"\"\"\n",
    "        plt.figure()\n",
    "        plt.title(\"diagonals\")\n",
    "        diags = {k:np.diagonal(mat) for k,mat in mat_dict.items()}\n",
    "        plt.hist(diags.values(), bins=20)\n",
    "        plt.legend(diags.keys())\n",
    "        plt.ylabel('Number of Batches')\n",
    "        plt.xlabel('Diag Cosine Similarity')\n",
    "        plt.figure()\n",
    "        plt.title(\"diagonals\")\n",
    "        diags = {k:np.diagonal(mat) for k,mat in mat_dict.items()}\n",
    "        diags_norm = {k:np.diagonal(mat)-np.mean(mat_dict[k]) for k, mat in mat_dict.items()}\n",
    "        plt.hist(diags_norm.values(), bins=20)\n",
    "        plt.legend(diags_norm.keys())\n",
    "        plt.ylabel('Number of Batches')\n",
    "        plt.xlabel('%Cosine Similarity Change from Mean of Diagonal')\n",
    "        diags = {k:np.diagonal(mat) for k,mat in mat_dict.items()}\n",
    "        diags_norm = {k:np.diagonal(mat)-np.mean(mat_dict[k]) for k, mat in mat_dict.items()}\n",
    "        plt.hist(diags_norm.values(), bins=20)\n",
    "        plt.legend(diags_norm.keys())\n",
    "        plt.ylabel('Number of Batches')\n",
    "        plt.xlabel('%Cosine Similarity Change from Mean of Diagonal')        \n",
    "        \"\"\"\n",
    "        #plt.figure()\n",
    "        #plt.title(\"\")"
   ]
  },
  {
   "cell_type": "code",
   "execution_count": null,
   "id": "f1bcec5f",
   "metadata": {},
   "outputs": [],
   "source": [
    "x = torch.Tensor([[0,1,1,1],[0,1,1,0]])"
   ]
  },
  {
   "cell_type": "code",
   "execution_count": null,
   "id": "212b4aaf",
   "metadata": {},
   "outputs": [],
   "source": [
    "torch.randperm(10)[:3]"
   ]
  },
  {
   "cell_type": "code",
   "execution_count": null,
   "id": "295db166",
   "metadata": {},
   "outputs": [],
   "source": [
    "x.swapaxes(0,1)"
   ]
  },
  {
   "cell_type": "code",
   "execution_count": null,
   "id": "309548f9",
   "metadata": {},
   "outputs": [],
   "source": [
    "x = [torch.Tensor([0.3]), torch.Tensor([1.3]), torch.Tensor([2.3]), torch.Tensor([np.nan])]"
   ]
  },
  {
   "cell_type": "code",
   "execution_count": null,
   "id": "940f50af",
   "metadata": {},
   "outputs": [],
   "source": [
    "y = torch.cat(x)"
   ]
  },
  {
   "cell_type": "code",
   "execution_count": null,
   "id": "f7af3788",
   "metadata": {},
   "outputs": [],
   "source": [
    "z=~y.isnan()"
   ]
  },
  {
   "cell_type": "code",
   "execution_count": null,
   "id": "5bd6e40d",
   "metadata": {},
   "outputs": [],
   "source": [
    "w=torch.sum(z)"
   ]
  },
  {
   "cell_type": "code",
   "execution_count": null,
   "id": "7155f919",
   "metadata": {},
   "outputs": [],
   "source": [
    "torch.sum(y[z])/w"
   ]
  },
  {
   "cell_type": "code",
   "execution_count": null,
   "id": "8c91083d",
   "metadata": {},
   "outputs": [],
   "source": [
    "z"
   ]
  },
  {
   "cell_type": "code",
   "execution_count": 233,
   "id": "72e578b5",
   "metadata": {},
   "outputs": [],
   "source": [
    "import torch\n",
    "\n",
    "#!ls '../training_output_01_06_08_03_2024_2/'\n",
    "#path = \"training_output_00_48_08_03_2024_1\" #MFDOOM 60epoch 0%\n",
    "path = \"training_output_00_48_08_03_2024_3\" #MFDOOM 60epoch 20%\n",
    "#path = \"training_output_01_06_08_03_2024_2\" #MFDOOM 60epoch 40%\n",
    "q=torch.load(f'../{path}/train_embeddings.pt')\n",
    "l = torch.load(f'../{path}/train_labels.pt')\n",
    "m = torch.load(f'../{path}/train_masks.pt')\n",
    "qt=torch.load(f'../{path}/eval_embeddings.pt')\n",
    "lt = torch.load(f'../{path}/eval_labels.pt')\n",
    "mt = torch.load(f'../{path}/eval_masks.pt')"
   ]
  },
  {
   "cell_type": "code",
   "execution_count": 234,
   "id": "1141eb66",
   "metadata": {},
   "outputs": [
    {
     "data": {
      "text/plain": [
       "tensor(0.7989)"
      ]
     },
     "execution_count": 234,
     "metadata": {},
     "output_type": "execute_result"
    }
   ],
   "source": [
    "mt['gene'].sum()/len(mt['gene'])"
   ]
  },
  {
   "cell_type": "code",
   "execution_count": 235,
   "id": "5525d63e",
   "metadata": {},
   "outputs": [],
   "source": [
    "modmap = {\n",
    "    0: 'gene',\n",
    "    1: 'protein',\n",
    "    2: 'methylation',\n",
    "    3: 'mirna',\n",
    "}"
   ]
  },
  {
   "cell_type": "code",
   "execution_count": 236,
   "id": "93531d59",
   "metadata": {},
   "outputs": [
    {
     "data": {
      "text/plain": [
       "dict_keys(['gene', 'protein', 'methylation', 'mirna', frozenset({0, 1, 2, 3}), frozenset({0, 1, 2}), frozenset({0, 1, 3}), frozenset({0, 2, 3}), frozenset({1, 2, 3}), frozenset({0, 1}), frozenset({0, 2}), frozenset({0, 3}), frozenset({1, 2}), frozenset({1, 3}), frozenset({2, 3}), 'fusion'])"
      ]
     },
     "execution_count": 236,
     "metadata": {},
     "output_type": "execute_result"
    }
   ],
   "source": [
    "q.keys()"
   ]
  },
  {
   "cell_type": "code",
   "execution_count": 237,
   "id": "30ada374",
   "metadata": {},
   "outputs": [],
   "source": [
    "q['sparse']=[]\n",
    "for idx,x in enumerate(zip(*m.values())):\n",
    "    xn = frozenset({i for i,x in enumerate(x) if x})\n",
    "    if len(xn) == 1:\n",
    "        xn = modmap[list(xn)[0]]\n",
    "    elif len(xn) ==0:\n",
    "        xn = 'fusion'\n",
    "    q['sparse'].append(q[xn][idx])\n",
    "q['sparse']=torch.stack(q['sparse'])\n",
    "qt['sparse']=[]\n",
    "for idx,x in enumerate(zip(*mt.values())):\n",
    "    xn = frozenset({i for i,x in enumerate(x) if x})\n",
    "    if len(xn) == 1:\n",
    "        xn = modmap[list(xn)[0]]\n",
    "    elif len(xn) ==0:\n",
    "        xn = 'fusion'\n",
    "    qt['sparse'].append(qt[xn][idx])\n",
    "qt['sparse']=torch.stack(qt['sparse'])"
   ]
  },
  {
   "cell_type": "code",
   "execution_count": 251,
   "id": "4b4cb407",
   "metadata": {},
   "outputs": [
    {
     "ename": "RuntimeError",
     "evalue": "stack expects each tensor to be equal size, but got [696, 512] at entry 0 and [6312, 512] at entry 13",
     "output_type": "error",
     "traceback": [
      "\u001b[0;31m---------------------------------------------------------------------------\u001b[0m",
      "\u001b[0;31mRuntimeError\u001b[0m                              Traceback (most recent call last)",
      "Input \u001b[0;32mIn [251]\u001b[0m, in \u001b[0;36m<cell line: 5>\u001b[0;34m()\u001b[0m\n\u001b[1;32m      3\u001b[0m q[\u001b[38;5;124m'\u001b[39m\u001b[38;5;124mall\u001b[39m\u001b[38;5;124m'\u001b[39m]\u001b[38;5;241m.\u001b[39mshape\n\u001b[1;32m      4\u001b[0m qt[\u001b[38;5;124m'\u001b[39m\u001b[38;5;124mall\u001b[39m\u001b[38;5;124m'\u001b[39m]\u001b[38;5;241m=\u001b[39m[v \u001b[38;5;28;01mfor\u001b[39;00m k,v \u001b[38;5;129;01min\u001b[39;00m qt\u001b[38;5;241m.\u001b[39mitems() \u001b[38;5;28;01mif\u001b[39;00m k \u001b[38;5;129;01mnot\u001b[39;00m \u001b[38;5;129;01min\u001b[39;00m [\u001b[38;5;124m'\u001b[39m\u001b[38;5;124mgene\u001b[39m\u001b[38;5;124m'\u001b[39m,\u001b[38;5;124m'\u001b[39m\u001b[38;5;124mprotein\u001b[39m\u001b[38;5;124m'\u001b[39m,\u001b[38;5;124m'\u001b[39m\u001b[38;5;124mmethylation\u001b[39m\u001b[38;5;124m'\u001b[39m,\u001b[38;5;124m'\u001b[39m\u001b[38;5;124mmirna\u001b[39m\u001b[38;5;124m'\u001b[39m]]\n\u001b[0;32m----> 5\u001b[0m qt[\u001b[38;5;124m'\u001b[39m\u001b[38;5;124mall\u001b[39m\u001b[38;5;124m'\u001b[39m]\u001b[38;5;241m=\u001b[39m\u001b[43mtorch\u001b[49m\u001b[38;5;241;43m.\u001b[39;49m\u001b[43mstack\u001b[49m\u001b[43m(\u001b[49m\u001b[43mqt\u001b[49m\u001b[43m[\u001b[49m\u001b[38;5;124;43m'\u001b[39;49m\u001b[38;5;124;43mall\u001b[39;49m\u001b[38;5;124;43m'\u001b[39;49m\u001b[43m]\u001b[49m\u001b[43m,\u001b[49m\u001b[43m \u001b[49m\u001b[43mdim\u001b[49m\u001b[38;5;241;43m=\u001b[39;49m\u001b[38;5;241;43m2\u001b[39;49m\u001b[43m)\u001b[49m\u001b[38;5;241m.\u001b[39mmean(dim\u001b[38;5;241m=\u001b[39m\u001b[38;5;241m2\u001b[39m)\n\u001b[1;32m      6\u001b[0m qt[\u001b[38;5;124m'\u001b[39m\u001b[38;5;124mall\u001b[39m\u001b[38;5;124m'\u001b[39m]\u001b[38;5;241m.\u001b[39mshape\n",
      "\u001b[0;31mRuntimeError\u001b[0m: stack expects each tensor to be equal size, but got [696, 512] at entry 0 and [6312, 512] at entry 13"
     ]
    }
   ],
   "source": [
    "q['all']=[v for k,v in q.items() if k not in ['gene','protein','methylation','mirna']]\n",
    "q['all']=torch.stack(q['all'], dim=2).mean(dim=2)\n",
    "q['all'].shape\n",
    "qt['all']=[v for k,v in qt.items() if k not in ['gene','protein','methylation','mirna']]\n",
    "qt['all']=torch.stack(qt['all'], dim=2).mean(dim=2)\n",
    "qt['all'].shape"
   ]
  },
  {
   "cell_type": "code",
   "execution_count": 239,
   "id": "925d39a6",
   "metadata": {},
   "outputs": [],
   "source": [
    "import umap\n",
    "reducer = umap.UMAP()\n",
    "embedding = reducer.fit_transform(q['all'])\n",
    "reducerf = umap.UMAP()\n",
    "embeddingf = reducerf.fit_transform(q['fusion'])\n",
    "reducers = umap.UMAP()\n",
    "embeddings = reducers.fit_transform(q['sparse'])\n",
    "#embedding = reducer.transform(q['fusion'])"
   ]
  },
  {
   "cell_type": "code",
   "execution_count": 240,
   "id": "1e3a0d32",
   "metadata": {},
   "outputs": [],
   "source": [
    "#reducer = umap.UMAP()\n",
    "embedding = reducer.transform(q['all'])\n",
    "embeddingt = reducer.transform(qt['all'])\n",
    "embeddingf = reducerf.transform(q['fusion'])\n",
    "embeddingft = reducerf.transform(qt['fusion'])\n",
    "embeddings = reducers.transform(q['sparse'])\n",
    "embeddingst = reducers.transform(qt['sparse'])"
   ]
  },
  {
   "cell_type": "code",
   "execution_count": 248,
   "id": "32e7b420",
   "metadata": {},
   "outputs": [
    {
     "name": "stdout",
     "output_type": "stream",
     "text": [
      "torch.Size([6312, 33])\n"
     ]
    }
   ],
   "source": [
    "print(l.shape)\n",
    "lidx = torch.argmax(l, dim=1)\n",
    "lidxt = torch.argmax(lt, dim=1)"
   ]
  },
  {
   "cell_type": "code",
   "execution_count": 250,
   "id": "9e24ea90",
   "metadata": {},
   "outputs": [
    {
     "data": {
      "text/plain": [
       "(6312, 2)"
      ]
     },
     "execution_count": 250,
     "metadata": {},
     "output_type": "execute_result"
    }
   ],
   "source": [
    "embeddingt.shape"
   ]
  },
  {
   "cell_type": "code",
   "execution_count": 249,
   "id": "c8a9ff46",
   "metadata": {},
   "outputs": [
    {
     "ename": "ValueError",
     "evalue": "'c' argument has 696 elements, which is inconsistent with 'x' and 'y' with size 6312.",
     "output_type": "error",
     "traceback": [
      "\u001b[0;31m---------------------------------------------------------------------------\u001b[0m",
      "\u001b[0;31mValueError\u001b[0m                                Traceback (most recent call last)",
      "Input \u001b[0;32mIn [249]\u001b[0m, in \u001b[0;36m<cell line: 4>\u001b[0;34m()\u001b[0m\n\u001b[1;32m      2\u001b[0m \u001b[38;5;28;01mimport\u001b[39;00m \u001b[38;5;21;01mseaborn\u001b[39;00m \u001b[38;5;28;01mas\u001b[39;00m \u001b[38;5;21;01msns\u001b[39;00m\n\u001b[1;32m      3\u001b[0m plt\u001b[38;5;241m.\u001b[39mfigure(figsize\u001b[38;5;241m=\u001b[39m(\u001b[38;5;241m5\u001b[39m,\u001b[38;5;241m5\u001b[39m))\n\u001b[0;32m----> 4\u001b[0m \u001b[43mplt\u001b[49m\u001b[38;5;241;43m.\u001b[39;49m\u001b[43mscatter\u001b[49m\u001b[43m(\u001b[49m\n\u001b[1;32m      5\u001b[0m \u001b[43m    \u001b[49m\u001b[43membeddingt\u001b[49m\u001b[43m[\u001b[49m\u001b[43m:\u001b[49m\u001b[43m,\u001b[49m\u001b[43m \u001b[49m\u001b[38;5;241;43m0\u001b[39;49m\u001b[43m]\u001b[49m\u001b[43m,\u001b[49m\n\u001b[1;32m      6\u001b[0m \u001b[43m    \u001b[49m\u001b[43membeddingt\u001b[49m\u001b[43m[\u001b[49m\u001b[43m:\u001b[49m\u001b[43m,\u001b[49m\u001b[43m \u001b[49m\u001b[38;5;241;43m1\u001b[39;49m\u001b[43m]\u001b[49m\u001b[43m,\u001b[49m\n\u001b[1;32m      7\u001b[0m \u001b[43m    \u001b[49m\u001b[43mc\u001b[49m\u001b[38;5;241;43m=\u001b[39;49m\u001b[43m[\u001b[49m\u001b[43msns\u001b[49m\u001b[38;5;241;43m.\u001b[39;49m\u001b[43mcolor_palette\u001b[49m\u001b[43m(\u001b[49m\u001b[38;5;124;43m'\u001b[39;49m\u001b[38;5;124;43mPaired\u001b[39;49m\u001b[38;5;124;43m'\u001b[39;49m\u001b[43m,\u001b[49m\u001b[38;5;241;43m33\u001b[39;49m\u001b[43m)\u001b[49m\u001b[43m[\u001b[49m\u001b[43mx\u001b[49m\u001b[43m]\u001b[49m\u001b[43m \u001b[49m\u001b[38;5;28;43;01mfor\u001b[39;49;00m\u001b[43m \u001b[49m\u001b[43mx\u001b[49m\u001b[43m \u001b[49m\u001b[38;5;129;43;01min\u001b[39;49;00m\u001b[43m \u001b[49m\u001b[43mlidxt\u001b[49m\u001b[43m]\u001b[49m\u001b[43m,\u001b[49m\n\u001b[1;32m      8\u001b[0m \u001b[43m    \u001b[49m\u001b[43malpha\u001b[49m\u001b[38;5;241;43m=\u001b[39;49m\u001b[38;5;241;43m0.2\u001b[39;49m\u001b[43m)\u001b[49m\n\u001b[1;32m      9\u001b[0m plt\u001b[38;5;241m.\u001b[39mgca()\u001b[38;5;241m.\u001b[39mset_aspect(\u001b[38;5;124m'\u001b[39m\u001b[38;5;124mequal\u001b[39m\u001b[38;5;124m'\u001b[39m, \u001b[38;5;124m'\u001b[39m\u001b[38;5;124mdatalim\u001b[39m\u001b[38;5;124m'\u001b[39m)\n\u001b[1;32m     10\u001b[0m plt\u001b[38;5;241m.\u001b[39mtitle(\u001b[38;5;124m'\u001b[39m\u001b[38;5;124mAll averaged\u001b[39m\u001b[38;5;124m'\u001b[39m, fontsize\u001b[38;5;241m=\u001b[39m\u001b[38;5;241m24\u001b[39m)\n",
      "File \u001b[0;32m/shared/miniconda3/envs/dti/lib/python3.9/site-packages/matplotlib/pyplot.py:2819\u001b[0m, in \u001b[0;36mscatter\u001b[0;34m(x, y, s, c, marker, cmap, norm, vmin, vmax, alpha, linewidths, edgecolors, plotnonfinite, data, **kwargs)\u001b[0m\n\u001b[1;32m   2814\u001b[0m \u001b[38;5;129m@_copy_docstring_and_deprecators\u001b[39m(Axes\u001b[38;5;241m.\u001b[39mscatter)\n\u001b[1;32m   2815\u001b[0m \u001b[38;5;28;01mdef\u001b[39;00m \u001b[38;5;21mscatter\u001b[39m(\n\u001b[1;32m   2816\u001b[0m         x, y, s\u001b[38;5;241m=\u001b[39m\u001b[38;5;28;01mNone\u001b[39;00m, c\u001b[38;5;241m=\u001b[39m\u001b[38;5;28;01mNone\u001b[39;00m, marker\u001b[38;5;241m=\u001b[39m\u001b[38;5;28;01mNone\u001b[39;00m, cmap\u001b[38;5;241m=\u001b[39m\u001b[38;5;28;01mNone\u001b[39;00m, norm\u001b[38;5;241m=\u001b[39m\u001b[38;5;28;01mNone\u001b[39;00m,\n\u001b[1;32m   2817\u001b[0m         vmin\u001b[38;5;241m=\u001b[39m\u001b[38;5;28;01mNone\u001b[39;00m, vmax\u001b[38;5;241m=\u001b[39m\u001b[38;5;28;01mNone\u001b[39;00m, alpha\u001b[38;5;241m=\u001b[39m\u001b[38;5;28;01mNone\u001b[39;00m, linewidths\u001b[38;5;241m=\u001b[39m\u001b[38;5;28;01mNone\u001b[39;00m, \u001b[38;5;241m*\u001b[39m,\n\u001b[1;32m   2818\u001b[0m         edgecolors\u001b[38;5;241m=\u001b[39m\u001b[38;5;28;01mNone\u001b[39;00m, plotnonfinite\u001b[38;5;241m=\u001b[39m\u001b[38;5;28;01mFalse\u001b[39;00m, data\u001b[38;5;241m=\u001b[39m\u001b[38;5;28;01mNone\u001b[39;00m, \u001b[38;5;241m*\u001b[39m\u001b[38;5;241m*\u001b[39mkwargs):\n\u001b[0;32m-> 2819\u001b[0m     __ret \u001b[38;5;241m=\u001b[39m \u001b[43mgca\u001b[49m\u001b[43m(\u001b[49m\u001b[43m)\u001b[49m\u001b[38;5;241;43m.\u001b[39;49m\u001b[43mscatter\u001b[49m\u001b[43m(\u001b[49m\n\u001b[1;32m   2820\u001b[0m \u001b[43m        \u001b[49m\u001b[43mx\u001b[49m\u001b[43m,\u001b[49m\u001b[43m \u001b[49m\u001b[43my\u001b[49m\u001b[43m,\u001b[49m\u001b[43m \u001b[49m\u001b[43ms\u001b[49m\u001b[38;5;241;43m=\u001b[39;49m\u001b[43ms\u001b[49m\u001b[43m,\u001b[49m\u001b[43m \u001b[49m\u001b[43mc\u001b[49m\u001b[38;5;241;43m=\u001b[39;49m\u001b[43mc\u001b[49m\u001b[43m,\u001b[49m\u001b[43m \u001b[49m\u001b[43mmarker\u001b[49m\u001b[38;5;241;43m=\u001b[39;49m\u001b[43mmarker\u001b[49m\u001b[43m,\u001b[49m\u001b[43m \u001b[49m\u001b[43mcmap\u001b[49m\u001b[38;5;241;43m=\u001b[39;49m\u001b[43mcmap\u001b[49m\u001b[43m,\u001b[49m\u001b[43m \u001b[49m\u001b[43mnorm\u001b[49m\u001b[38;5;241;43m=\u001b[39;49m\u001b[43mnorm\u001b[49m\u001b[43m,\u001b[49m\n\u001b[1;32m   2821\u001b[0m \u001b[43m        \u001b[49m\u001b[43mvmin\u001b[49m\u001b[38;5;241;43m=\u001b[39;49m\u001b[43mvmin\u001b[49m\u001b[43m,\u001b[49m\u001b[43m \u001b[49m\u001b[43mvmax\u001b[49m\u001b[38;5;241;43m=\u001b[39;49m\u001b[43mvmax\u001b[49m\u001b[43m,\u001b[49m\u001b[43m \u001b[49m\u001b[43malpha\u001b[49m\u001b[38;5;241;43m=\u001b[39;49m\u001b[43malpha\u001b[49m\u001b[43m,\u001b[49m\u001b[43m \u001b[49m\u001b[43mlinewidths\u001b[49m\u001b[38;5;241;43m=\u001b[39;49m\u001b[43mlinewidths\u001b[49m\u001b[43m,\u001b[49m\n\u001b[1;32m   2822\u001b[0m \u001b[43m        \u001b[49m\u001b[43medgecolors\u001b[49m\u001b[38;5;241;43m=\u001b[39;49m\u001b[43medgecolors\u001b[49m\u001b[43m,\u001b[49m\u001b[43m \u001b[49m\u001b[43mplotnonfinite\u001b[49m\u001b[38;5;241;43m=\u001b[39;49m\u001b[43mplotnonfinite\u001b[49m\u001b[43m,\u001b[49m\n\u001b[1;32m   2823\u001b[0m \u001b[43m        \u001b[49m\u001b[38;5;241;43m*\u001b[39;49m\u001b[38;5;241;43m*\u001b[39;49m\u001b[43m(\u001b[49m\u001b[43m{\u001b[49m\u001b[38;5;124;43m\"\u001b[39;49m\u001b[38;5;124;43mdata\u001b[39;49m\u001b[38;5;124;43m\"\u001b[39;49m\u001b[43m:\u001b[49m\u001b[43m \u001b[49m\u001b[43mdata\u001b[49m\u001b[43m}\u001b[49m\u001b[43m \u001b[49m\u001b[38;5;28;43;01mif\u001b[39;49;00m\u001b[43m \u001b[49m\u001b[43mdata\u001b[49m\u001b[43m \u001b[49m\u001b[38;5;129;43;01mis\u001b[39;49;00m\u001b[43m \u001b[49m\u001b[38;5;129;43;01mnot\u001b[39;49;00m\u001b[43m \u001b[49m\u001b[38;5;28;43;01mNone\u001b[39;49;00m\u001b[43m \u001b[49m\u001b[38;5;28;43;01melse\u001b[39;49;00m\u001b[43m \u001b[49m\u001b[43m{\u001b[49m\u001b[43m}\u001b[49m\u001b[43m)\u001b[49m\u001b[43m,\u001b[49m\u001b[43m \u001b[49m\u001b[38;5;241;43m*\u001b[39;49m\u001b[38;5;241;43m*\u001b[39;49m\u001b[43mkwargs\u001b[49m\u001b[43m)\u001b[49m\n\u001b[1;32m   2824\u001b[0m     sci(__ret)\n\u001b[1;32m   2825\u001b[0m     \u001b[38;5;28;01mreturn\u001b[39;00m __ret\n",
      "File \u001b[0;32m/shared/miniconda3/envs/dti/lib/python3.9/site-packages/matplotlib/__init__.py:1412\u001b[0m, in \u001b[0;36m_preprocess_data.<locals>.inner\u001b[0;34m(ax, data, *args, **kwargs)\u001b[0m\n\u001b[1;32m   1409\u001b[0m \u001b[38;5;129m@functools\u001b[39m\u001b[38;5;241m.\u001b[39mwraps(func)\n\u001b[1;32m   1410\u001b[0m \u001b[38;5;28;01mdef\u001b[39;00m \u001b[38;5;21minner\u001b[39m(ax, \u001b[38;5;241m*\u001b[39margs, data\u001b[38;5;241m=\u001b[39m\u001b[38;5;28;01mNone\u001b[39;00m, \u001b[38;5;241m*\u001b[39m\u001b[38;5;241m*\u001b[39mkwargs):\n\u001b[1;32m   1411\u001b[0m     \u001b[38;5;28;01mif\u001b[39;00m data \u001b[38;5;129;01mis\u001b[39;00m \u001b[38;5;28;01mNone\u001b[39;00m:\n\u001b[0;32m-> 1412\u001b[0m         \u001b[38;5;28;01mreturn\u001b[39;00m \u001b[43mfunc\u001b[49m\u001b[43m(\u001b[49m\u001b[43max\u001b[49m\u001b[43m,\u001b[49m\u001b[43m \u001b[49m\u001b[38;5;241;43m*\u001b[39;49m\u001b[38;5;28;43mmap\u001b[39;49m\u001b[43m(\u001b[49m\u001b[43msanitize_sequence\u001b[49m\u001b[43m,\u001b[49m\u001b[43m \u001b[49m\u001b[43margs\u001b[49m\u001b[43m)\u001b[49m\u001b[43m,\u001b[49m\u001b[43m \u001b[49m\u001b[38;5;241;43m*\u001b[39;49m\u001b[38;5;241;43m*\u001b[39;49m\u001b[43mkwargs\u001b[49m\u001b[43m)\u001b[49m\n\u001b[1;32m   1414\u001b[0m     bound \u001b[38;5;241m=\u001b[39m new_sig\u001b[38;5;241m.\u001b[39mbind(ax, \u001b[38;5;241m*\u001b[39margs, \u001b[38;5;241m*\u001b[39m\u001b[38;5;241m*\u001b[39mkwargs)\n\u001b[1;32m   1415\u001b[0m     auto_label \u001b[38;5;241m=\u001b[39m (bound\u001b[38;5;241m.\u001b[39marguments\u001b[38;5;241m.\u001b[39mget(label_namer)\n\u001b[1;32m   1416\u001b[0m                   \u001b[38;5;129;01mor\u001b[39;00m bound\u001b[38;5;241m.\u001b[39mkwargs\u001b[38;5;241m.\u001b[39mget(label_namer))\n",
      "File \u001b[0;32m/shared/miniconda3/envs/dti/lib/python3.9/site-packages/matplotlib/axes/_axes.py:4380\u001b[0m, in \u001b[0;36mAxes.scatter\u001b[0;34m(self, x, y, s, c, marker, cmap, norm, vmin, vmax, alpha, linewidths, edgecolors, plotnonfinite, **kwargs)\u001b[0m\n\u001b[1;32m   4377\u001b[0m \u001b[38;5;28;01mif\u001b[39;00m edgecolors \u001b[38;5;129;01mis\u001b[39;00m \u001b[38;5;28;01mNone\u001b[39;00m:\n\u001b[1;32m   4378\u001b[0m     orig_edgecolor \u001b[38;5;241m=\u001b[39m kwargs\u001b[38;5;241m.\u001b[39mget(\u001b[38;5;124m'\u001b[39m\u001b[38;5;124medgecolor\u001b[39m\u001b[38;5;124m'\u001b[39m, \u001b[38;5;28;01mNone\u001b[39;00m)\n\u001b[1;32m   4379\u001b[0m c, colors, edgecolors \u001b[38;5;241m=\u001b[39m \\\n\u001b[0;32m-> 4380\u001b[0m     \u001b[38;5;28;43mself\u001b[39;49m\u001b[38;5;241;43m.\u001b[39;49m\u001b[43m_parse_scatter_color_args\u001b[49m\u001b[43m(\u001b[49m\n\u001b[1;32m   4381\u001b[0m \u001b[43m        \u001b[49m\u001b[43mc\u001b[49m\u001b[43m,\u001b[49m\u001b[43m \u001b[49m\u001b[43medgecolors\u001b[49m\u001b[43m,\u001b[49m\u001b[43m \u001b[49m\u001b[43mkwargs\u001b[49m\u001b[43m,\u001b[49m\u001b[43m \u001b[49m\u001b[43mx\u001b[49m\u001b[38;5;241;43m.\u001b[39;49m\u001b[43msize\u001b[49m\u001b[43m,\u001b[49m\n\u001b[1;32m   4382\u001b[0m \u001b[43m        \u001b[49m\u001b[43mget_next_color_func\u001b[49m\u001b[38;5;241;43m=\u001b[39;49m\u001b[38;5;28;43mself\u001b[39;49m\u001b[38;5;241;43m.\u001b[39;49m\u001b[43m_get_patches_for_fill\u001b[49m\u001b[38;5;241;43m.\u001b[39;49m\u001b[43mget_next_color\u001b[49m\u001b[43m)\u001b[49m\n\u001b[1;32m   4384\u001b[0m \u001b[38;5;28;01mif\u001b[39;00m plotnonfinite \u001b[38;5;129;01mand\u001b[39;00m colors \u001b[38;5;129;01mis\u001b[39;00m \u001b[38;5;28;01mNone\u001b[39;00m:\n\u001b[1;32m   4385\u001b[0m     c \u001b[38;5;241m=\u001b[39m np\u001b[38;5;241m.\u001b[39mma\u001b[38;5;241m.\u001b[39mmasked_invalid(c)\n",
      "File \u001b[0;32m/shared/miniconda3/envs/dti/lib/python3.9/site-packages/matplotlib/axes/_axes.py:4230\u001b[0m, in \u001b[0;36mAxes._parse_scatter_color_args\u001b[0;34m(c, edgecolors, kwargs, xsize, get_next_color_func)\u001b[0m\n\u001b[1;32m   4226\u001b[0m     \u001b[38;5;28;01melse\u001b[39;00m:\n\u001b[1;32m   4227\u001b[0m         \u001b[38;5;28;01mif\u001b[39;00m \u001b[38;5;28mlen\u001b[39m(colors) \u001b[38;5;129;01mnot\u001b[39;00m \u001b[38;5;129;01min\u001b[39;00m (\u001b[38;5;241m0\u001b[39m, \u001b[38;5;241m1\u001b[39m, xsize):\n\u001b[1;32m   4228\u001b[0m             \u001b[38;5;66;03m# NB: remember that a single color is also acceptable.\u001b[39;00m\n\u001b[1;32m   4229\u001b[0m             \u001b[38;5;66;03m# Besides *colors* will be an empty array if c == 'none'.\u001b[39;00m\n\u001b[0;32m-> 4230\u001b[0m             \u001b[38;5;28;01mraise\u001b[39;00m invalid_shape_exception(\u001b[38;5;28mlen\u001b[39m(colors), xsize)\n\u001b[1;32m   4231\u001b[0m \u001b[38;5;28;01melse\u001b[39;00m:\n\u001b[1;32m   4232\u001b[0m     colors \u001b[38;5;241m=\u001b[39m \u001b[38;5;28;01mNone\u001b[39;00m  \u001b[38;5;66;03m# use cmap, norm after collection is created\u001b[39;00m\n",
      "\u001b[0;31mValueError\u001b[0m: 'c' argument has 696 elements, which is inconsistent with 'x' and 'y' with size 6312."
     ]
    },
    {
     "data": {
      "image/png": "[encoded data removed]",
      "text/plain": [
       "<Figure size 360x360 with 1 Axes>"
      ]
     },
     "metadata": {
      "needs_background": "light"
     },
     "output_type": "display_data"
    }
   ],
   "source": [
    "import matplotlib.pyplot as plt\n",
    "import seaborn as sns\n",
    "plt.figure(figsize=(5,5))\n",
    "plt.scatter(\n",
    "    embeddingt[:, 0],\n",
    "    embeddingt[:, 1],\n",
    "    c=[sns.color_palette('Paired',33)[x] for x in lidxt],\n",
    "    alpha=0.2)\n",
    "plt.gca().set_aspect('equal', 'datalim')\n",
    "plt.title('All averaged', fontsize=24);"
   ]
  },
  {
   "cell_type": "code",
   "execution_count": 244,
   "id": "e0e4c069",
   "metadata": {},
   "outputs": [
    {
     "data": {
      "image/png": "[encoded data removed]",
      "text/plain": [
       "<Figure size 360x360 with 1 Axes>"
      ]
     },
     "metadata": {
      "needs_background": "light"
     },
     "output_type": "display_data"
    }
   ],
   "source": [
    "import matplotlib.pyplot as plt\n",
    "import seaborn as sns\n",
    "plt.figure(figsize=(5,5))\n",
    "plt.scatter(\n",
    "    embeddingf[:, 0],\n",
    "    embeddingf[:, 1],\n",
    "    c=[sns.color_palette('Paired',33)[x] for x in lidx],\n",
    "    alpha=0.2)\n",
    "plt.gca().set_aspect('equal', 'datalim')\n",
    "plt.title('fusion only', fontsize=24);"
   ]
  },
  {
   "cell_type": "code",
   "execution_count": 245,
   "id": "17140536",
   "metadata": {},
   "outputs": [
    {
     "data": {
      "image/png": "[encoded data removed]",
      "text/plain": [
       "<Figure size 360x360 with 1 Axes>"
      ]
     },
     "metadata": {
      "needs_background": "light"
     },
     "output_type": "display_data"
    }
   ],
   "source": [
    "import matplotlib.pyplot as plt\n",
    "import seaborn as sns\n",
    "plt.figure(figsize=(5,5))\n",
    "plt.scatter(\n",
    "    embeddings[:, 0],\n",
    "    embeddings[:, 1],\n",
    "    c=[sns.color_palette('Paired',33)[x] for x in lidx],\n",
    "    alpha=0.2)\n",
    "plt.gca().set_aspect('equal', 'datalim')\n",
    "plt.title('Sparse Embeddings', fontsize=24);"
   ]
  },
  {
   "cell_type": "code",
   "execution_count": 221,
   "id": "6aa79fdb",
   "metadata": {},
   "outputs": [
    {
     "data": {
      "image/png": "[encoded data removed]",
      "text/plain": [
       "<Figure size 360x360 with 1 Axes>"
      ]
     },
     "metadata": {
      "needs_background": "light"
     },
     "output_type": "display_data"
    }
   ],
   "source": [
    "import matplotlib.pyplot as plt\n",
    "import seaborn as sns\n",
    "plt.figure(figsize=(5,5))\n",
    "plt.scatter(\n",
    "    embedding[:, 0],\n",
    "    embedding[:, 1],\n",
    "    c=[sns.color_palette('Paired',33)[x] for x in lidx],\n",
    "    alpha=0.2)\n",
    "plt.gca().set_aspect('equal', 'datalim')\n",
    "#plt.title('UMAP projection of the Penguin dataset', fontsize=24);"
   ]
  },
  {
   "cell_type": "code",
   "execution_count": null,
   "id": "8d5b4392",
   "metadata": {},
   "outputs": [],
   "source": []
  }
 ],
 "metadata": {
  "kernelspec": {
   "display_name": "dti",
   "language": "python",
   "name": "dti"
  },
  "language_info": {
   "codemirror_mode": {
    "name": "ipython",
    "version": 3
   },
   "file_extension": ".py",
   "mimetype": "text/x-python",
   "name": "python",
   "nbconvert_exporter": "python",
   "pygments_lexer": "ipython3",
   "version": "3.9.16"
  }
 },
 "nbformat": 4,
 "nbformat_minor": 5
}
