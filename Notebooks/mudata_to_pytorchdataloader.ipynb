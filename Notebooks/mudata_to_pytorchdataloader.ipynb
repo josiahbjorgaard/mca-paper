{
 "cells": [
  {
   "cell_type": "code",
   "execution_count": 4,
   "id": "4ba228f4",
   "metadata": {},
   "outputs": [],
   "source": [
    "import muon as mu\n",
    "# Change directory to the root folder of the repository\n",
    "import os\n",
    "os.chdir(\"../../\")"
   ]
  },
  {
   "cell_type": "code",
   "execution_count": 5,
   "id": "ef792410",
   "metadata": {},
   "outputs": [],
   "source": [
    "data_dir = \"/efs-private/st_perceiver\"\n",
    "mdata = mu.read(f\"{data_dir}/pbmc_w3_teaseq.h5mu\")"
   ]
  },
  {
   "cell_type": "code",
   "execution_count": 26,
   "id": "4b7f816c",
   "metadata": {},
   "outputs": [
    {
     "data": {
      "text/plain": [
       "ArrayView(5805)"
      ]
     },
     "execution_count": 26,
     "metadata": {},
     "output_type": "execute_result"
    }
   ],
   "source": [
    "(mdata[:,1].mod['rna'].X == mdata[:,1].mod['rna'].X).sum()"
   ]
  },
  {
   "cell_type": "code",
   "execution_count": null,
   "id": "4c3c6464",
   "metadata": {},
   "outputs": [],
   "source": [
    "#Maybe one day these will work, but currently they aren't directly compatible with mudata object\n",
    "\n",
    "#from anndata.experimental.multi_files import AnnCollection\n",
    "#from anndata.experimental.pytorch import AnnLoader"
   ]
  },
  {
   "cell_type": "code",
   "execution_count": null,
   "id": "1a85f31c",
   "metadata": {},
   "outputs": [],
   "source": [
    "import numpy as np\n",
    "import torch\n",
    "from scipy.sparse import csr_matrix\n",
    "import anndata\n",
    "def sparse_csr_to_tensor(csr:csr_matrix):\n",
    "    \"\"\"\n",
    "    Transform scipy csr matrix to pytorch sparse tensor\n",
    "    \"\"\"\n",
    "\n",
    "    values = csr.data\n",
    "    indices = np.vstack(csr.nonzero())\n",
    "    shape = csr.shape\n",
    "\n",
    "    i = torch.LongTensor(indices)\n",
    "    v = torch.FloatTensor(values)\n",
    "    s = torch.Size(shape)\n",
    "\n",
    "    return torch.sparse.FloatTensor(i, v, s)\n",
    "    \n",
    "def sparse_batch_collate(batch:list):\n",
    "    \"\"\"\n",
    "    Collate function to transform anndata csr view to pytorch sparse tensor\n",
    "    \"\"\"\n",
    "    if type(batch[0]['atac'].X) == anndata._core.views.SparseCSRView:\n",
    "        atac_batch = sparse_csr_to_tensor(np.vstack([x['atac'].X for x in batch]))\n",
    "    else:\n",
    "        atac_batch = torch.FloatTensor(np.vstack([x['atac'].X for x in batch]))\n",
    "\n",
    "    if type(batch[0]['rna'].X) == anndata._core.views.SparseCSRView:\n",
    "        rna_batch = sparse_csr_to_tensor(np.vstack([x['rna'].X for x in batch]))\n",
    "    else:\n",
    "        rna_batch = torch.FloatTensor(np.vstack([x['rna'].X for x in batch]))\n",
    "    \n",
    "    if type(batch[0]['prot'].X) == anndata._core.views.SparseCSRView:\n",
    "        prot_batch = sparse_csr_to_tensor(np.vstack([x['prot'].X for x in batch]))\n",
    "    else:\n",
    "        prot_batch = torch.FloatTensor(np.vstack([x['prot'].X for x in batch]))\n",
    "\n",
    "    return atac_batch, rna_batch, prot_batch\n",
    "\n",
    "\n",
    "loader = DataLoader(\n",
    "    mdata,\n",
    "    batch_size=10,\n",
    "    collate_fn = sparse_batch_collate,\n",
    ")"
   ]
  },
  {
   "cell_type": "code",
   "execution_count": null,
   "id": "5f376321",
   "metadata": {},
   "outputs": [],
   "source": [
    "import matplotlib.pyplot as plt\n",
    "sample = next(iter(loader))"
   ]
  },
  {
   "cell_type": "code",
   "execution_count": null,
   "id": "453ffd05",
   "metadata": {},
   "outputs": [],
   "source": [
    "sample[1].shape"
   ]
  },
  {
   "cell_type": "code",
   "execution_count": null,
   "id": "15f34482",
   "metadata": {},
   "outputs": [],
   "source": [
    "if type(batch[0]['atac'].X) == anndata._core.views.SparseCSRView:\n",
    "        atac_batch = sparse_csr_to_tensor(np.vstack([x['atac'].X for x in batch]))\n",
    "    else:\n",
    "        atac_batch = torch.FloatTensor(np.vstack([x['atac'].X for x in batch]))\n"
   ]
  },
  {
   "cell_type": "code",
   "execution_count": 1,
   "id": "fe6fa820",
   "metadata": {},
   "outputs": [
    {
     "name": "stderr",
     "output_type": "stream",
     "text": [
      "/shared/miniconda3/envs/stp/lib/python3.9/site-packages/umap/distances.py:1063: NumbaDeprecationWarning: The 'nopython' keyword argument was not supplied to the 'numba.jit' decorator. The implicit default value for this argument is currently False, but it will be changed to True in Numba 0.59.0. See https://numba.readthedocs.io/en/stable/reference/deprecation.html#deprecation-of-object-mode-fall-back-behaviour-when-using-jit for details.\n",
      "  @numba.jit()\n",
      "/shared/miniconda3/envs/stp/lib/python3.9/site-packages/umap/distances.py:1071: NumbaDeprecationWarning: The 'nopython' keyword argument was not supplied to the 'numba.jit' decorator. The implicit default value for this argument is currently False, but it will be changed to True in Numba 0.59.0. See https://numba.readthedocs.io/en/stable/reference/deprecation.html#deprecation-of-object-mode-fall-back-behaviour-when-using-jit for details.\n",
      "  @numba.jit()\n",
      "/shared/miniconda3/envs/stp/lib/python3.9/site-packages/umap/distances.py:1086: NumbaDeprecationWarning: The 'nopython' keyword argument was not supplied to the 'numba.jit' decorator. The implicit default value for this argument is currently False, but it will be changed to True in Numba 0.59.0. See https://numba.readthedocs.io/en/stable/reference/deprecation.html#deprecation-of-object-mode-fall-back-behaviour-when-using-jit for details.\n",
      "  @numba.jit()\n",
      "/shared/miniconda3/envs/stp/lib/python3.9/site-packages/tqdm/auto.py:21: TqdmWarning: IProgress not found. Please update jupyter and ipywidgets. See https://ipywidgets.readthedocs.io/en/stable/user_install.html\n",
      "  from .autonotebook import tqdm as notebook_tqdm\n",
      "/shared/miniconda3/envs/stp/lib/python3.9/site-packages/umap/umap_.py:660: NumbaDeprecationWarning: The 'nopython' keyword argument was not supplied to the 'numba.jit' decorator. The implicit default value for this argument is currently False, but it will be changed to True in Numba 0.59.0. See https://numba.readthedocs.io/en/stable/reference/deprecation.html#deprecation-of-object-mode-fall-back-behaviour-when-using-jit for details.\n",
      "  @numba.jit()\n"
     ]
    }
   ],
   "source": [
    "import sys\n",
    "sys.path.append('/efs-private/st_perceiver')\n",
    "from biozorromodel import BioZorro, TokenTypes as T\n",
    "from mudataloader import get_dataloader"
   ]
  },
  {
   "cell_type": "code",
   "execution_count": 48,
   "id": "71a6d2d9",
   "metadata": {},
   "outputs": [],
   "source": [
    "model = BioZorro(\n",
    "                        512, #dim,\n",
    "                        6, #depth,\n",
    "                        96162, #16381, #rna_input_dim,\n",
    "                        16381, #96162, #atac_input_dim,\n",
    "                        dim_head = 64,\n",
    "                        heads = 8,\n",
    "                        ff_mult = 4,\n",
    "                        num_fusion_tokens = 16,\n",
    "                        return_token_types = (\n",
    "                            T.RNA,\n",
    "                            T.FUSION,\n",
    "                            T.GLOBAL,\n",
    "                            T.ATAC,\n",
    "                            )\n",
    "                        )"
   ]
  },
  {
   "cell_type": "code",
   "execution_count": 49,
   "id": "80e897e7",
   "metadata": {},
   "outputs": [],
   "source": [
    "dataloader = get_dataloader('/efs-private/st_perceiver/pbmc_w3_teaseq.h5mu', batch_size=1024)"
   ]
  },
  {
   "cell_type": "code",
   "execution_count": 50,
   "id": "8a7a1c92",
   "metadata": {},
   "outputs": [
    {
     "name": "stdout",
     "output_type": "stream",
     "text": [
      "3\n",
      "torch.Size([1024, 96162])\n"
     ]
    }
   ],
   "source": [
    "loader = iter(dataloader)\n",
    "print(len(next(loader)))\n",
    "print(next(loader)[0].shape)"
   ]
  },
  {
   "cell_type": "code",
   "execution_count": 51,
   "id": "b44a27b2",
   "metadata": {},
   "outputs": [],
   "source": [
    "rna, atac, prot = next(loader)\n",
    "res = model(rna=rna, atac=atac)"
   ]
  },
  {
   "cell_type": "code",
   "execution_count": 52,
   "id": "63e8cea7",
   "metadata": {},
   "outputs": [],
   "source": [
    "from torchmultimodal.modules.losses.contrastive_loss_with_temperature import ContrastiveLossWithTemperature"
   ]
  },
  {
   "cell_type": "code",
   "execution_count": 53,
   "id": "b5ecb3c1",
   "metadata": {},
   "outputs": [
    {
     "name": "stdout",
     "output_type": "stream",
     "text": [
      "torch.Size([1024, 512])\n"
     ]
    },
    {
     "data": {
      "text/plain": [
       "tensor(24.6985, grad_fn=<DivBackward0>)"
      ]
     },
     "execution_count": 53,
     "metadata": {},
     "output_type": "execute_result"
    }
   ],
   "source": [
    "rna, atac, prot = next(loader)\n",
    "res = model(rna=rna, atac=atac)\n",
    "print(res[:,0,:].squeeze().shape)\n",
    "loss = ContrastiveLossWithTemperature()\n",
    "loss(res[:,0,:].squeeze(), res[:,3,:].squeeze())"
   ]
  },
  {
   "cell_type": "code",
   "execution_count": 54,
   "id": "99f79e52",
   "metadata": {},
   "outputs": [],
   "source": [
    "model = model.to('cuda')\n",
    "rna, atac, prot = next(loader)\n",
    "res = model(rna=rna.to('cuda'), atac=atac.to('cuda'))"
   ]
  },
  {
   "cell_type": "code",
   "execution_count": null,
   "id": "c261febc",
   "metadata": {},
   "outputs": [],
   "source": [
    "from "
   ]
  }
 ],
 "metadata": {
  "kernelspec": {
   "display_name": "Python [conda env:stp]",
   "language": "python",
   "name": "conda-env-stp-py"
  },
  "language_info": {
   "codemirror_mode": {
    "name": "ipython",
    "version": 3
   },
   "file_extension": ".py",
   "mimetype": "text/x-python",
   "name": "python",
   "nbconvert_exporter": "python",
   "pygments_lexer": "ipython3",
   "version": "3.9.16"
  }
 },
 "nbformat": 4,
 "nbformat_minor": 5
}
