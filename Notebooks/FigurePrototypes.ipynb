{
 "cells": [
  {
   "cell_type": "code",
   "execution_count": 49,
   "id": "4d7b102d",
   "metadata": {},
   "outputs": [],
   "source": [
    "import numpy as np\n",
    "from datasets import load_from_disk\n",
    "import sys\n",
    "import matplotlib.pyplot as plt\n",
    "sys.path.append('../')\n",
    "import os\n",
    "os.environ[\"HF_DATASETS_CACHE\"]=\"/job_workspace/.cache/huggingface/dataset\""
   ]
  },
  {
   "cell_type": "code",
   "execution_count": null,
   "id": "b36f0649",
   "metadata": {},
   "outputs": [],
   "source": [
    "#datasets = load_from_disk('/job_workspace/how2_all_proc_10p') #Just filtered Velocity"
   ]
  },
  {
   "cell_type": "code",
   "execution_count": null,
   "id": "beb0e810",
   "metadata": {},
   "outputs": [],
   "source": [
    "datasets"
   ]
  },
  {
   "cell_type": "code",
   "execution_count": null,
   "id": "cf9160fe",
   "metadata": {},
   "outputs": [],
   "source": [
    "from utils.dataset import setup_data\n",
    "datasets = setup_data('/job_workspace/how2_all_proc_10p', ds_frac=0.1)"
   ]
  },
  {
   "cell_type": "code",
   "execution_count": 62,
   "id": "9209a578",
   "metadata": {},
   "outputs": [],
   "source": [
    "epoch = 50\n",
    "output_dirs={\n",
    "    'z90':'training_output_05_15_30_01_2024',\n",
    "    'm90':'training_output_01_09_30_01_2024',\n",
    "    'm90-2': 'training_output_05_40_30_01_2024_1',\n",
    "    'z50':'training_output_05_26_30_01_2024',\n",
    "    'm50':'training_output_05_34_30_01_2024',\n",
    "    'm50-2': 'training_output_07_10_30_01_2024',\n",
    "    'z30':'training_output_16_13_30_01_2024',\n",
    "    'm30': 'training_output_16_04_30_01_2024',\n",
    "    'z10':'training_output_16_22_30_01_2024_2',\n",
    "    'm10':'training_output_16_19_30_01_2024'\n",
    "}\n",
    "embeddings={\n",
    "    'z90':'training_output_04_15_31_01_2024',\n",
    "    'm90':'training_output_03_41_31_01_2024',\n",
    "    'm90-2': 'training_output_06_21_31_01_2024',\n",
    "    'z50':'training_output_04_47_31_01_2024',\n",
    "    'm50':'training_output_05_54_31_01_2024',\n",
    "    'm50-2': 'training_output_07_27_31_01_2024',\n",
    "    'z30':'training_output_09_09_31_01_2024',\n",
    "    'm30': 'training_output_08_01_31_01_2024',\n",
    "    'z10':'training_output_10_44_31_01_2024',\n",
    "    'm10':'training_output_09_35_31_01_2024'\n",
    "}"
   ]
  },
  {
   "cell_type": "code",
   "execution_count": 106,
   "id": "fe8575c4",
   "metadata": {},
   "outputs": [],
   "source": [
    "#TBD\n",
    "from torch import nn\n",
    "def compute_cosines(embedding, embeddings):\n",
    "    #for k,v in embeddings.items():\n",
    "    cos0 = torch.nn.CosineSimilarity(dim=1)\n",
    "    return cos0(embedding.unsqueeze(0).repeat(embeddings.shape[0],1), embeddings)\n",
    "def get_rank(x, indices):\n",
    "    vals = x[range(len(x)), indices]\n",
    "    return (x > vals[:, None]).long().sum(1)"
   ]
  },
  {
   "cell_type": "code",
   "execution_count": 115,
   "id": "1d733795",
   "metadata": {},
   "outputs": [],
   "source": [
    "import torch\n",
    "test = 'm10'\n",
    "e=torch.load(f'../{embeddings[test]}/train_embeddings.pt')\n",
    "m=torch.load(f'../{embeddings[test]}/train_masks.pt')"
   ]
  },
  {
   "cell_type": "code",
   "execution_count": 121,
   "id": "6a5e4deb",
   "metadata": {},
   "outputs": [
    {
     "data": {
      "text/plain": [
       "{'aud': tensor([[-0.7407, -0.8214, -0.4318,  ..., -1.0077,  0.9413, -1.4480],\n",
       "         [-0.7016, -0.3371, -0.3752,  ..., -0.5077, -0.1076, -0.5319],\n",
       "         [-0.6587, -0.3019, -0.4670,  ..., -0.5233, -0.0919, -0.4304],\n",
       "         ...,\n",
       "         [-0.6528, -0.3527, -0.4611,  ..., -0.5155, -0.0841, -0.4382],\n",
       "         [-0.6372, -0.3683, -0.3007,  ..., -0.4999, -0.0763, -0.5476],\n",
       "         [-0.6684, -0.3683, -0.4484,  ..., -0.4999, -0.0763, -0.4226]],\n",
       "        device='cuda:0'),\n",
       " 'en': tensor([[-0.6710, -0.3280, -0.4445,  ..., -0.5199, -0.0620, -0.4638],\n",
       "         [-0.6207, -0.2557, -0.3488,  ..., -0.5433, -0.1479, -0.5029],\n",
       "         [-0.7042, -0.3085, -0.4396,  ..., -0.5902, -0.0933, -0.4560],\n",
       "         ...,\n",
       "         [-0.6749, -0.3104, -0.4230,  ..., -0.5199, -0.1167, -0.4169],\n",
       "         [-0.6466, -0.2811, -0.3859,  ..., -0.5121, -0.1714, -0.4873],\n",
       "         [-0.6925, -0.3456, -0.4777,  ..., -0.4808, -0.0854, -0.4326]],\n",
       "        device='cuda:0'),\n",
       " 'pt': tensor([[-0.6999,  0.2031, -0.8655,  ...,  0.6546, -0.2632,  1.1690],\n",
       "         [-0.6199, -0.2324, -0.3548,  ..., -0.5329, -0.1538, -0.4775],\n",
       "         [-0.7234, -0.2813, -0.4378,  ..., -0.5681, -0.1020, -0.4385],\n",
       "         ...,\n",
       "         [-0.6902, -0.2715, -0.4231,  ..., -0.5681, -0.1362, -0.3916],\n",
       "         [-0.6589, -0.2852, -0.3978,  ..., -0.5017, -0.1538, -0.4697],\n",
       "         [-0.6999, -0.3428, -0.4563,  ..., -0.4919, -0.1167, -0.4385]],\n",
       "        device='cuda:0'),\n",
       " 'sm': tensor([[-0.6899, -0.3300, -0.4909,  ..., -0.5078, -0.0862, -0.4704],\n",
       "         [-0.4458,  1.5899, -1.5583,  ...,  0.3428, -2.4104,  1.3538],\n",
       "         [-0.6372, -0.3144, -0.4050,  ..., -0.5147, -0.0862, -0.4782],\n",
       "         ...,\n",
       "         [-0.5317,  1.4278, -1.6535,  ...,  0.1982, -2.3713,  1.5511],\n",
       "         [-0.6684, -0.3222, -0.4050,  ..., -0.5821, -0.1643, -0.4548],\n",
       "         [-0.6411, -0.3066, -0.4050,  ..., -0.5039, -0.0471, -0.3923]],\n",
       "        device='cuda:0'),\n",
       " frozenset({0,\n",
       "            1,\n",
       "            2,\n",
       "            3}): tensor([[-0.7576, -0.3365, -0.5032,  ..., -0.5357,  0.0041, -0.4772],\n",
       "         [-0.6248, -0.2271, -0.2493,  ..., -0.5513, -0.1672, -0.5475],\n",
       "         [-0.6638, -0.2818, -0.4564,  ..., -0.5045, -0.0850, -0.4303],\n",
       "         ...,\n",
       "         [-0.6638, -0.3131, -0.4056,  ..., -0.5279, -0.1340, -0.3600],\n",
       "         [-0.6716, -0.3131, -0.3001,  ..., -0.5279, -0.1384, -0.5787],\n",
       "         [-0.6873, -0.3912, -0.4564,  ..., -0.4263, -0.0487, -0.4303]],\n",
       "        device='cuda:0'),\n",
       " frozenset({0,\n",
       "            1,\n",
       "            2}): tensor([[ 6.2659e-04,  2.5208e-01, -1.2874e+00,  ..., -8.4788e-01,\n",
       "          -8.9976e-01, -8.8590e-01],\n",
       "         [ 2.6088e-01,  4.6546e-01, -1.0062e+00,  ..., -7.5462e-01,\n",
       "          -1.3294e+00, -1.1120e+00],\n",
       "         [ 1.9899e-01,  3.2093e-01, -1.2186e+00,  ..., -8.0882e-01,\n",
       "          -1.1685e+00, -8.4309e-01],\n",
       "         ...,\n",
       "         [ 2.6723e-01,  2.8577e-01, -1.1416e+00,  ..., -7.8148e-01,\n",
       "          -1.2325e+00, -8.3213e-01],\n",
       "         [ 3.4340e-01,  2.9847e-01, -9.1730e-01,  ..., -6.2950e-01,\n",
       "          -1.2845e+00, -1.1217e+00],\n",
       "         [ 2.2890e-01,  1.9935e-01, -1.1844e+00,  ..., -6.4534e-01,\n",
       "          -1.0970e+00, -9.4254e-01]], device='cuda:0'),\n",
       " frozenset({0,\n",
       "            1,\n",
       "            3}): tensor([[-2.4585, -0.0896, -0.7260,  ..., -1.2115,  0.6730,  0.3909],\n",
       "         [-2.2217,  0.1503, -0.3139,  ..., -1.4193,  0.3190,  0.0710],\n",
       "         [-2.1993, -0.0035, -0.5404,  ..., -1.3597,  0.5382,  0.3992],\n",
       "         ...,\n",
       "         [-2.2369, -0.0684, -0.5111,  ..., -1.4164,  0.3539,  0.4445],\n",
       "         [-2.3257, -0.0386, -0.3153,  ..., -1.2616,  0.4811,  0.1735],\n",
       "         [-2.2974, -0.1270, -0.5385,  ..., -1.2445,  0.5773,  0.3912]],\n",
       "        device='cuda:0'),\n",
       " frozenset({0,\n",
       "            2,\n",
       "            3}): tensor([[-0.5921, -0.4859, -0.9301,  ..., -2.8559, -1.2205, -0.1578],\n",
       "         [-0.3392, -0.1910, -0.4853,  ..., -2.8628, -1.6453, -0.2555],\n",
       "         [-0.3045, -0.3894, -0.7962,  ..., -2.8335, -1.3533, -0.0797],\n",
       "         ...,\n",
       "         [-0.3294, -0.4071, -0.7780,  ..., -2.9736, -1.5506,  0.0453],\n",
       "         [-0.4095, -0.4268, -0.5654,  ..., -2.7534, -1.4217, -0.3062],\n",
       "         [-0.3695, -0.5035, -0.8062,  ..., -2.7681, -1.3064, -0.0836]],\n",
       "        device='cuda:0'),\n",
       " frozenset({1,\n",
       "            2,\n",
       "            3}): tensor([[ 1.3305,  1.1068, -0.4303,  ..., -0.5302,  0.8467, -0.0975],\n",
       "         [ 1.5239,  1.2640, -0.3297,  ..., -0.7617,  0.6670, -0.2203],\n",
       "         [ 1.4477,  1.1722, -0.3287,  ..., -0.5781,  0.8057, -0.0446],\n",
       "         ...,\n",
       "         [ 1.3774,  1.2015, -0.2692,  ..., -0.5918,  0.6238, -0.0502],\n",
       "         [ 1.3423,  1.1830, -0.3287,  ..., -0.5224,  0.6423, -0.1642],\n",
       "         [ 1.4126,  1.1302, -0.3502,  ..., -0.4502,  0.7432, -0.0647]],\n",
       "        device='cuda:0'),\n",
       " frozenset({0,\n",
       "            1}): tensor([[ 1.2186, -1.0829,  0.7804,  ..., -2.3540, -1.7405, -0.5455],\n",
       "         [ 1.4071, -0.8765,  1.0773,  ..., -2.2749, -2.0535, -0.8541],\n",
       "         [ 1.4085, -0.9917,  0.8585,  ..., -2.4307, -1.9861, -0.5806],\n",
       "         ...,\n",
       "         [ 1.4608, -1.0586,  0.9552,  ..., -2.4014, -2.0486, -0.5592],\n",
       "         [ 1.5418, -0.9815,  1.2394,  ..., -2.1958, -2.0350, -0.8658],\n",
       "         [ 1.4166, -1.1316,  0.9098,  ..., -2.3004, -1.9087, -0.6529]],\n",
       "        device='cuda:0'),\n",
       " frozenset({0,\n",
       "            2}): tensor([[ 0.0635, -0.4010, -1.5939,  ..., -1.2777, -1.3351, -0.5986],\n",
       "         [ 0.1924, -0.0919, -1.2838,  ..., -1.3075, -1.5673, -0.7275],\n",
       "         [ 0.1944, -0.2043, -1.4879,  ..., -1.4199, -1.4630, -0.5088],\n",
       "         ...,\n",
       "         [ 0.2793, -0.2492, -1.4518,  ..., -1.4523, -1.5393, -0.4678],\n",
       "         [ 0.3013, -0.2560, -1.1412,  ..., -1.2543, -1.5097, -0.7549],\n",
       "         [ 0.2081, -0.3561, -1.4909,  ..., -1.3104, -1.3917, -0.5928]],\n",
       "        device='cuda:0'),\n",
       " frozenset({0,\n",
       "            3}): tensor([[-2.2595, -1.1711, -0.6332,  ...,  0.2634, -0.1735, -0.1138],\n",
       "         [-2.1223, -1.0041, -0.2767,  ...,  0.2790, -0.5305, -0.4239],\n",
       "         [-1.8992, -1.0880, -0.4701,  ...,  0.2719, -0.3166, -0.0325],\n",
       "         ...,\n",
       "         [-1.8670, -1.0822, -0.5705,  ...,  0.2697, -0.5012,  0.0470],\n",
       "         [-2.0240, -1.1515, -0.1341,  ...,  0.2663, -0.3268, -0.2579],\n",
       "         [-1.9612, -1.2256, -0.4457,  ...,  0.3163, -0.2841,  0.0372]],\n",
       "        device='cuda:0'),\n",
       " frozenset({1,\n",
       "            2}): tensor([[ 0.3463,  0.7806,  0.7564,  ..., -0.4316, -0.9701, -0.4580],\n",
       "         [ 0.5299,  0.9008,  0.7749,  ..., -0.4756, -1.2580, -0.6127],\n",
       "         [ 0.3424,  0.7809,  0.7632,  ..., -0.4297, -0.9987, -0.3964],\n",
       "         ...,\n",
       "         [ 0.4245,  0.7887,  0.8590,  ..., -0.3652, -1.1242, -0.4244],\n",
       "         [ 0.4557,  0.8534,  0.7414,  ..., -0.3770, -1.2170, -0.5311],\n",
       "         [ 0.4186,  0.7133,  0.7710,  ..., -0.2683, -1.0661, -0.4776]],\n",
       "        device='cuda:0'),\n",
       " frozenset({1,\n",
       "            3}): tensor([[ 2.1087, -1.2252,  1.7684,  ...,  0.9718, -0.5043, -0.6908],\n",
       "         [ 2.3138, -1.1226,  1.8514,  ...,  0.6324, -0.7045, -0.8267],\n",
       "         [ 2.2259, -1.1568,  1.8738,  ...,  0.8856, -0.5413, -0.6674],\n",
       "         ...,\n",
       "         [ 2.0892, -1.1226,  1.9012,  ...,  0.8703, -0.6698, -0.6761],\n",
       "         [ 2.0970, -1.1539,  1.8758,  ...,  0.9205, -0.6889, -0.7671],\n",
       "         [ 2.1556, -1.1744,  1.8494,  ...,  1.0133, -0.5417, -0.6615]],\n",
       "        device='cuda:0'),\n",
       " frozenset({2,\n",
       "            3}): tensor([[-4.0600e-01, -3.5988e-01,  1.0321e+00,  ...,  3.8849e-02,\n",
       "           1.3988e-01, -9.0395e-01],\n",
       "         [-3.3910e-01, -1.6359e-01,  1.1566e+00,  ..., -9.0057e-02,\n",
       "           2.8552e-02, -8.1997e-01],\n",
       "         [-2.7917e-01, -3.6476e-01,  1.0980e+00,  ...,  4.6661e-02,\n",
       "           1.3597e-01, -8.0044e-01],\n",
       "         ...,\n",
       "         [-3.6791e-01, -2.8468e-01,  1.1595e+00,  ..., -8.2245e-02,\n",
       "          -7.0930e-03, -7.5747e-01],\n",
       "         [-3.7084e-01, -3.6085e-01,  1.1166e+00,  ...,  6.6193e-02,\n",
       "          -2.5702e-04, -9.0590e-01],\n",
       "         [-3.0419e-01, -3.9503e-01,  1.0619e+00,  ...,  1.4432e-01,\n",
       "           1.0082e-01, -7.9067e-01]], device='cuda:0'),\n",
       " 'fusion': tensor([[-0.7576, -0.3365, -0.5032,  ..., -0.5357,  0.0041, -0.4772],\n",
       "         [-0.6248, -0.2271, -0.2493,  ..., -0.5513, -0.1672, -0.5475],\n",
       "         [-0.6638, -0.2818, -0.4564,  ..., -0.5045, -0.0850, -0.4303],\n",
       "         ...,\n",
       "         [-0.6638, -0.3131, -0.4056,  ..., -0.5279, -0.1340, -0.3600],\n",
       "         [-0.6716, -0.3131, -0.3001,  ..., -0.5279, -0.1384, -0.5787],\n",
       "         [-0.6873, -0.3912, -0.4564,  ..., -0.4263, -0.0487, -0.4303]],\n",
       "        device='cuda:0'),\n",
       " 'global_output': tensor([[-1.2780, -0.7602, -0.9194,  ..., -0.8309, -0.8779, -0.4159],\n",
       "         [-1.0570, -0.3402, -0.9355,  ..., -0.6776, -1.3701, -0.3212],\n",
       "         [-0.9367, -0.4106, -0.9352,  ..., -0.5253, -1.4912, -0.0204],\n",
       "         ...,\n",
       "         [-0.8249, -0.3070, -1.0122,  ..., -0.2313, -1.8721,  0.2696],\n",
       "         [-1.0518, -0.5744, -0.8303,  ..., -0.6385, -1.3389, -0.2909],\n",
       "         [-0.8913, -0.4838, -1.0014,  ..., -0.3055, -1.7041,  0.1192]],\n",
       "        device='cuda:0')}"
      ]
     },
     "execution_count": 121,
     "metadata": {},
     "output_type": "execute_result"
    }
   ],
   "source": [
    "e"
   ]
  },
  {
   "cell_type": "code",
   "execution_count": 127,
   "id": "2f01e943",
   "metadata": {},
   "outputs": [],
   "source": [
    "def rank_metrics(embeddings, masks, modality, fusion=\"fusion\"):\n",
    "    c=list()\n",
    "    xc=list()\n",
    "    idx = list()\n",
    "    batch_size = 4096*2\n",
    "    for i in range(batch_size):\n",
    "        mx=m[modality][i]\n",
    "        if not mx:\n",
    "            pass\n",
    "        idx.append(i)\n",
    "        x=e[modality][i,:] #.shape\n",
    "        #xx=e['pt']\n",
    "        #xc.append(compute_recall(x,xx).topk(10))\n",
    "        y=e[fusion]#.shape\n",
    "        c.append(compute_recall(x,y))\n",
    "        #print(c[i].topk(25))\n",
    "        #_=plt.hist(c.cpu(), bins=1000, log=True)\n",
    "    ranks = get_rank(torch.stack(c), torch.tensor(idx))\n",
    "    median_rank = ranks.median()\n",
    "    r1 = sum(ranks == 0)/len(ranks)\n",
    "    r5 = sum(ranks < 5)/len(ranks)\n",
    "    r10 = sum(ranks < 10)/len(ranks)\n",
    "    return median_rank, r1, r5, r10"
   ]
  },
  {
   "cell_type": "code",
   "execution_count": 129,
   "id": "aaf9b721",
   "metadata": {},
   "outputs": [
    {
     "ename": "KeyboardInterrupt",
     "evalue": "",
     "output_type": "error",
     "traceback": [
      "\u001b[0;31m---------------------------------------------------------------------------\u001b[0m",
      "\u001b[0;31mKeyboardInterrupt\u001b[0m                         Traceback (most recent call last)",
      "Cell \u001b[0;32mIn[129], line 6\u001b[0m\n\u001b[1;32m      4\u001b[0m m\u001b[38;5;241m=\u001b[39mtorch\u001b[38;5;241m.\u001b[39mload(\u001b[38;5;124mf\u001b[39m\u001b[38;5;124m'\u001b[39m\u001b[38;5;124m../\u001b[39m\u001b[38;5;132;01m{\u001b[39;00mv\u001b[38;5;132;01m}\u001b[39;00m\u001b[38;5;124m/train_masks.pt\u001b[39m\u001b[38;5;124m'\u001b[39m)\n\u001b[1;32m      5\u001b[0m \u001b[38;5;28;01mfor\u001b[39;00m k2 \u001b[38;5;129;01min\u001b[39;00m modalities:\n\u001b[0;32m----> 6\u001b[0m     \u001b[38;5;28mprint\u001b[39m(\u001b[38;5;124mf\u001b[39m\u001b[38;5;124m\"\u001b[39m\u001b[38;5;132;01m{\u001b[39;00mk\u001b[38;5;132;01m}\u001b[39;00m\u001b[38;5;124m-\u001b[39m\u001b[38;5;132;01m{\u001b[39;00mk2\u001b[38;5;132;01m}\u001b[39;00m\u001b[38;5;124m-\u001b[39m\u001b[38;5;132;01m{\u001b[39;00m[x\u001b[38;5;241m.\u001b[39mcpu()\u001b[38;5;241m.\u001b[39mvalue\u001b[38;5;250m \u001b[39m\u001b[38;5;28;01mfor\u001b[39;00m\u001b[38;5;250m \u001b[39mx\u001b[38;5;250m \u001b[39m\u001b[38;5;129;01min\u001b[39;00m\u001b[38;5;250m \u001b[39m\u001b[43mmedian_rank\u001b[49m\u001b[43m(\u001b[49m\u001b[43me\u001b[49m\u001b[43m,\u001b[49m\u001b[43mm\u001b[49m\u001b[43m,\u001b[49m\u001b[43mk2\u001b[49m\u001b[43m)\u001b[49m]\u001b[38;5;132;01m}\u001b[39;00m\u001b[38;5;124m\"\u001b[39m)\n",
      "Cell \u001b[0;32mIn[125], line 10\u001b[0m, in \u001b[0;36mmedian_rank\u001b[0;34m(embeddings, masks, modality, fusion)\u001b[0m\n\u001b[1;32m      8\u001b[0m \u001b[38;5;28;01mif\u001b[39;00m \u001b[38;5;129;01mnot\u001b[39;00m mx:\n\u001b[1;32m      9\u001b[0m     \u001b[38;5;28;01mpass\u001b[39;00m\n\u001b[0;32m---> 10\u001b[0m \u001b[43midx\u001b[49m\u001b[38;5;241;43m.\u001b[39;49m\u001b[43mappend\u001b[49m\u001b[43m(\u001b[49m\u001b[43mi\u001b[49m\u001b[43m)\u001b[49m\n\u001b[1;32m     11\u001b[0m x\u001b[38;5;241m=\u001b[39me[modality][i,:] \u001b[38;5;66;03m#.shape\u001b[39;00m\n\u001b[1;32m     12\u001b[0m \u001b[38;5;66;03m#xx=e['pt']\u001b[39;00m\n\u001b[1;32m     13\u001b[0m \u001b[38;5;66;03m#xc.append(compute_recall(x,xx).topk(10))\u001b[39;00m\n",
      "\u001b[0;31mKeyboardInterrupt\u001b[0m: "
     ]
    }
   ],
   "source": [
    "modalities = ['aud','en','pt','sm']\n",
    "for k,v in embeddings.items():\n",
    "    e=torch.load(f'../{v}/train_embeddings.pt')\n",
    "    m=torch.load(f'../{v}/train_masks.pt')\n",
    "    for k2 in modalities:\n",
    "        print(f\"{k}-{k2}-{[x.cpu().value for x in median_rank(e,m,k2)]\")"
   ]
  },
  {
   "cell_type": "code",
   "execution_count": 133,
   "id": "6a98c826",
   "metadata": {},
   "outputs": [
    {
     "name": "stdout",
     "output_type": "stream",
     "text": [
      "z90-aud-[379, 0.0550537109375, 0.0723876953125, 0.074951171875]\n",
      "z90-en-[16, 0.0089111328125, 0.0247802734375, 0.03662109375]\n",
      "z90-pt-[15, 0.0096435546875, 0.027099609375, 0.0394287109375]\n",
      "z90-sm-[2465, 0.00390625, 0.016845703125, 0.03076171875]\n",
      "m90-aud-[0, 0.7554931640625, 0.7591552734375, 0.759521484375]\n",
      "m90-en-[4940, 0.079345703125, 0.0897216796875, 0.092041015625]\n",
      "m90-pt-[5596, 0.081298828125, 0.0921630859375, 0.095703125]\n",
      "m90-sm-[5886, 0.0650634765625, 0.0721435546875, 0.075927734375]\n",
      "m90-2-aud-[2203, 0.0701904296875, 0.07763671875, 0.07861328125]\n",
      "m90-2-en-[3266, 0.0723876953125, 0.083740234375, 0.087646484375]\n",
      "m90-2-pt-[2340, 0.0777587890625, 0.0889892578125, 0.0919189453125]\n",
      "m90-2-sm-[3920, 0.0645751953125, 0.0718994140625, 0.0760498046875]\n",
      "z50-aud-[4536, 0.0662841796875, 0.127685546875, 0.1556396484375]\n",
      "z50-en-[2264, 0.0009765625, 0.004638671875, 0.0078125]\n",
      "z50-pt-[2228, 0.0008544921875, 0.0054931640625, 0.0087890625]\n",
      "z50-sm-[4044, 0.0003662109375, 0.004150390625, 0.0081787109375]\n",
      "m50-aud-[1751, 0.104248046875, 0.1632080078125, 0.27880859375]\n",
      "m50-en-[707, 0.071044921875, 0.1715087890625, 0.2288818359375]\n",
      "m50-pt-[470, 0.0687255859375, 0.1697998046875, 0.2269287109375]\n",
      "m50-sm-[1832, 0.0457763671875, 0.100341796875, 0.1292724609375]\n",
      "m50-2-aud-[994, 0.130859375, 0.2059326171875, 0.23681640625]\n",
      "m50-2-en-[869, 0.0255126953125, 0.0897216796875, 0.1273193359375]\n",
      "m50-2-pt-[905, 0.0286865234375, 0.082275390625, 0.1177978515625]\n",
      "m50-2-sm-[1753, 0.0169677734375, 0.0611572265625, 0.09326171875]\n",
      "z30-aud-[1936, 0.0250244140625, 0.049072265625, 0.0648193359375]\n",
      "z30-en-[1235, 0.0008544921875, 0.0047607421875, 0.0084228515625]\n",
      "z30-pt-[1379, 0.0008544921875, 0.005126953125, 0.0091552734375]\n",
      "z30-sm-[4116, 0.0003662109375, 0.001708984375, 0.00390625]\n",
      "m30-aud-[168, 0.2130126953125, 0.307373046875, 0.348876953125]\n",
      "m30-en-[92, 0.0572509765625, 0.1661376953125, 0.2347412109375]\n",
      "m30-pt-[120, 0.043701171875, 0.147705078125, 0.2156982421875]\n",
      "m30-sm-[485, 0.0267333984375, 0.0751953125, 0.1104736328125]\n",
      "z10-aud-[1541, 0.0238037109375, 0.0498046875, 0.0667724609375]\n",
      "z10-en-[976, 0.0030517578125, 0.0103759765625, 0.0177001953125]\n",
      "z10-pt-[1021, 0.002197265625, 0.009033203125, 0.0146484375]\n",
      "z10-sm-[4812, 0.000732421875, 0.00244140625, 0.0042724609375]\n",
      "m10-aud-[50, 0.212890625, 0.33984375, 0.38671875]\n",
      "m10-en-[95, 0.0389404296875, 0.1329345703125, 0.196533203125]\n",
      "m10-pt-[128, 0.0301513671875, 0.098876953125, 0.1541748046875]\n",
      "m10-sm-[692, 0.0089111328125, 0.0355224609375, 0.0579833984375]\n"
     ]
    }
   ],
   "source": [
    "modalities = ['aud','en','pt','sm']\n",
    "for k,v in embeddings.items():\n",
    "    e=torch.load(f'../{v}/eval_embeddings.pt')\n",
    "    m=torch.load(f'../{v}/eval_masks.pt')\n",
    "    for k2 in modalities:\n",
    "        print(f\"{k}-{k2}-{[x.cpu().item() for x in median_rank(e,m,k2)]}\")"
   ]
  },
  {
   "cell_type": "code",
   "execution_count": 118,
   "id": "c770bcb2",
   "metadata": {},
   "outputs": [
    {
     "name": "stdout",
     "output_type": "stream",
     "text": [
      "tensor(1032.)\n"
     ]
    },
    {
     "data": {
      "image/png": "[encoded data removed]",
      "text/plain": [
       "<Figure size 640x480 with 1 Axes>"
      ]
     },
     "metadata": {},
     "output_type": "display_data"
    }
   ],
   "source": [
    "print(ranks.float().cpu().median())\n",
    "_ = plt.hist(ranks.cpu(), bins=100)"
   ]
  },
  {
   "cell_type": "code",
   "execution_count": 36,
   "id": "d2bb25b4",
   "metadata": {},
   "outputs": [
    {
     "data": {
      "text/plain": [
       "tensor([1.0000, 1.0000, 1.0000])"
      ]
     },
     "execution_count": 36,
     "metadata": {},
     "output_type": "execute_result"
    }
   ],
   "source": [
    "cos0 = torch.nn.CosineSimilarity(dim=1)\n",
    "output0 = cos0(torch.ones([3,10]), torch.ones([3,10]))\n",
    "output0"
   ]
  },
  {
   "cell_type": "code",
   "execution_count": null,
   "id": "2bf29257",
   "metadata": {},
   "outputs": [],
   "source": [
    "!ls ../training_output_03_41_31_01_2024/"
   ]
  },
  {
   "cell_type": "code",
   "execution_count": null,
   "id": "b75d9f7c",
   "metadata": {},
   "outputs": [],
   "source": [
    "from safetensors.torch import load_model\n",
    "from model import MFDOOM\n",
    "from encoders import MultimodalCollator\n",
    "from torch.utils.data import DataLoader\n",
    "from utils.config import training_config, get_model_config\n",
    "output_dir = \"/efs-private/multimodal/training_output_01_35_20_01_2024\" #0.8 Doom\n",
    "#output_dir = \"/efs-private/multimodal/training_output_01_36_20_01_2024\" #0.3 Doom\n",
    "#output_dir = \"/efs-private/multimodal/training_output_01_38_20_01_2024\" #0.8 Zorro\n",
    "#output_dir = \"/efs-private/multimodal/training_output_01_37_20_01_2024\" #0.3 Zorro\n",
    "config = training_config(os.path.join(output_dir,'config.yaml'))\n",
    "model_config = get_model_config(config)\n",
    "model_config['batch_size']=4"
   ]
  },
  {
   "cell_type": "code",
   "execution_count": null,
   "id": "6014e78a",
   "metadata": {},
   "outputs": [],
   "source": [
    "import model\n",
    "from importlib import reload\n",
    "reload(model)\n",
    "from model import MFDOOM"
   ]
  },
  {
   "cell_type": "code",
   "execution_count": null,
   "id": "d6fd8e42",
   "metadata": {},
   "outputs": [],
   "source": [
    "default_data_collator = MultimodalCollator(config.modality_config)\n",
    "#dataloader2 = DataLoader(dataset.with_format('torch'), shuffle=True, collate_fn=default_data_collator, batch_size=4,)\n",
    "dataloader = DataLoader(datasets['test'].with_format('torch'), \n",
    "                        shuffle=True, \n",
    "                        collate_fn=default_data_collator, \n",
    "                        batch_size=4,)"
   ]
  },
  {
   "cell_type": "code",
   "execution_count": null,
   "id": "6f2dc1e5",
   "metadata": {},
   "outputs": [],
   "source": [
    "import torch\n",
    "model = MFDOOM(**model_config)"
   ]
  },
  {
   "cell_type": "code",
   "execution_count": null,
   "id": "58d2f502",
   "metadata": {},
   "outputs": [],
   "source": [
    "import torch\n",
    "from safetensors.torch import load_model\n",
    "load_model(model,os.path.join(output_dir,'model.safetensors'))"
   ]
  },
  {
   "cell_type": "code",
   "execution_count": null,
   "id": "bd8ca17d",
   "metadata": {},
   "outputs": [],
   "source": [
    "dl=iter(dataloader)\n",
    "infer_model = model.eval()\n",
    "#batch = [next(dl) for x in range(4)]\n",
    "output = [infer_model(next(dl)) for _ in range(2)]"
   ]
  },
  {
   "cell_type": "code",
   "execution_count": null,
   "id": "6ec70de9",
   "metadata": {},
   "outputs": [],
   "source": [
    "def zero_modes(batch, modes_to_zero):\n",
    "    for mode in modes_to_zero:\n",
    "        print(mode)\n",
    "        if mode == 'aud':\n",
    "            batch[mode]['values'] = torch.ones_like(batch[mode]['values'])*-10000\n",
    "        elif mode == 'vid':\n",
    "            batch[mode]['attention_mask']=torch.ones_like(batch[mode]['attention_mask'])\n",
    "        else:\n",
    "            batch[mode]['attention_mask']=torch.ones_like(batch[mode]['attention_mask'])\n",
    "    return batch"
   ]
  },
  {
   "cell_type": "code",
   "execution_count": null,
   "id": "e7d17d1c",
   "metadata": {
    "scrolled": true
   },
   "outputs": [],
   "source": [
    "from tqdm import tqdm\n",
    "from collections import defaultdict\n",
    "import copy\n",
    "import random\n",
    "output=defaultdict(list)\n",
    "infer_model = model.eval()\n",
    "dl = iter(dataloader)\n",
    "#mode_sets = [('aud',),('sm',),('en',),('pt',),('vid',)]\n",
    "mode_sets = [('aud','sm',), ('vid','aud',), ('sm','en','pt',)]\n",
    "batches = []\n",
    "with torch.no_grad():\n",
    "    for i in tqdm(range(4)):\n",
    "        batch = next(dl)\n",
    "        batches.append(batch)\n",
    "        #batch = {k: {k2: v2 for k2,v2 in v.items()} for k,v in batch.items()}\n",
    "        output[('baseline',)].append(infer_model(batch))\n",
    "        random.shuffle(mode_sets)\n",
    "        for modes in mode_sets:\n",
    "            mode_batch = copy.deepcopy(batch)\n",
    "            output[modes].append(infer_model(zero_modes(mode_batch,modes)))\n",
    "print(output)"
   ]
  },
  {
   "cell_type": "code",
   "execution_count": null,
   "id": "ef99ae40",
   "metadata": {},
   "outputs": [],
   "source": [
    "def refactor(outputs):\n",
    "    out_dict = {k:[] for k in outputs[0]}\n",
    "    for k in [\"losses\", \"loss\", \"modality_sample_mask\"]:\n",
    "        out_dict.pop(k, None)\n",
    "    for batch in outputs:\n",
    "        for key in out_dict.keys():\n",
    "            out_dict[key].append(batch[key])\n",
    "    print(out_dict.keys())\n",
    "    out_dict = {k:torch.cat(v) for k,v in out_dict.items()}\n",
    "    return out_dict"
   ]
  },
  {
   "cell_type": "code",
   "execution_count": null,
   "id": "d6a95bb1",
   "metadata": {},
   "outputs": [],
   "source": [
    "output_r = {k: refactor(v) for k,v in output.items()}"
   ]
  },
  {
   "cell_type": "code",
   "execution_count": null,
   "id": "f299e32c",
   "metadata": {},
   "outputs": [],
   "source": [
    "output[('baseline',)][0]['aud']"
   ]
  },
  {
   "cell_type": "code",
   "execution_count": null,
   "id": "e7bf60ee",
   "metadata": {},
   "outputs": [],
   "source": [
    "import numpy as np\n",
    "import matplotlib.pyplot as plt\n",
    "\n",
    "def plot_cosines(output, output2=None, log=False, vmin=None, vmax=None, plot_diag=True):\n",
    "    cos = torch.nn.CosineSimilarity(dim=0)\n",
    "    mat_dict={}\n",
    "    for k,v in output.items():\n",
    "        l = v.shape[0]\n",
    "        mat_dict[k]=np.zeros([l,l])\n",
    "        v2 = output2[k] if output2 else output['fusion']\n",
    "        for i in range(l):\n",
    "            for j in range(l):\n",
    "                #print(f\"{i},{j},{cos(output.fusion[i],output.fusion[j])}\")\n",
    "                if log:\n",
    "                    mat_dict[k][i,j]=np.log10(cos(v[i],v2[j]))\n",
    "                else:\n",
    "                    mat_dict[k][i,j]=cos(v[i],v2[j])\n",
    "\n",
    "    f, ax = plt.subplots(len(mat_dict),2, figsize=(6,3*len(mat_dict)))\n",
    "    for i,(k,mat) in enumerate(mat_dict.items()):\n",
    "        #f, (ax1, ax2) = plt.subplots(1,2, figsize=(6,2))\n",
    "        #plt.figure(figsize=(2,2))\n",
    "        #ax1.title(k)\n",
    "        ax1 = ax[i,0]\n",
    "        im = ax1.imshow(mat, vmin=vmin, vmax=vmax)\n",
    "        ax1.set_ylabel(k)\n",
    "        f.colorbar(im,ax=ax1)\n",
    "        if plot_diag:\n",
    "            #plt.figure(figsize=(2,2))\n",
    "            #plt.title(f\"{k} diagonals\")\n",
    "            bins = np.linspace(0,1.0,100)\n",
    "            ax2 = ax[i,1]\n",
    "            ax2.hist(np.diagonal(mat), bins=bins, alpha=0.3,density=True)\n",
    "            ax2.hist(mat.flatten(), bins=bins, alpha=0.3, density=True)\n",
    "            ax2.set_ylim(0,50)\n",
    "            ax2.set_xlim(0,1.0)\n",
    "            ax2.annotate(str(np.mean((mat.sum(1)-np.diag(mat))/(mat.shape[1]-1))),\n",
    "                        [0.1, 0.1])\n",
    "            ax2.legend([\"diag\",\"all\"])\n",
    "\n",
    "        "
   ]
  },
  {
   "cell_type": "code",
   "execution_count": null,
   "id": "6568861e",
   "metadata": {},
   "outputs": [],
   "source": [
    "print(output_r.keys())"
   ]
  },
  {
   "cell_type": "code",
   "execution_count": null,
   "id": "a1eaae01",
   "metadata": {},
   "outputs": [],
   "source": [
    "k = mode_sets[0]\n",
    "print(k)\n",
    "plot_cosines(output_r[('baseline',)],output_r[k],vmin=0.99999) #"
   ]
  },
  {
   "cell_type": "markdown",
   "id": "33b3a5a2",
   "metadata": {},
   "source": [
    "# Attention masking tests"
   ]
  },
  {
   "cell_type": "code",
   "execution_count": null,
   "id": "089f6566",
   "metadata": {},
   "outputs": [],
   "source": [
    "plt.imshow(model.pool_mask, aspect=100)\n",
    "plt.colorbar()"
   ]
  },
  {
   "cell_type": "code",
   "execution_count": null,
   "id": "e8d7dc3e",
   "metadata": {},
   "outputs": [],
   "source": [
    "t=torch.load('../batch.pt', map_location=torch.device('cpu'))\n",
    "p=torch.load('../padding_mask.pt', map_location=torch.device('cpu'))\n",
    "a = torch.load('../attn_mask.pt', map_location=torch.device('cpu'))"
   ]
  },
  {
   "cell_type": "code",
   "execution_count": null,
   "id": "6437da5f",
   "metadata": {},
   "outputs": [],
   "source": [
    "plt.plot(p[0,:])\n",
    "plt.figure()\n",
    "plt.plot(p[1,:])\n",
    "plt.figure()\n",
    "plt.plot(p[4,:])"
   ]
  },
  {
   "cell_type": "code",
   "execution_count": null,
   "id": "423d667d",
   "metadata": {},
   "outputs": [],
   "source": [
    "plt.imshow(a)"
   ]
  },
  {
   "cell_type": "code",
   "execution_count": null,
   "id": "1a1b49e3",
   "metadata": {},
   "outputs": [],
   "source": [
    "print(t.isnan().reshape((-1,t.shape[1]*t.shape[2]))\n",
    "      .shape)\n",
    "plt.imshow(torch.cat([t.isnan()[i,:,:] for i in range(8)], dim=1))\n",
    "plt.colorbar()"
   ]
  },
  {
   "cell_type": "code",
   "execution_count": null,
   "id": "b238a324",
   "metadata": {},
   "outputs": [],
   "source": [
    "plt.imshow(model.attn_mask)"
   ]
  },
  {
   "cell_type": "code",
   "execution_count": null,
   "id": "56023a45",
   "metadata": {},
   "outputs": [],
   "source": [
    "import torch\n",
    "token_types = torch.tensor(list((\n",
    "    *((0,) * 1024),\n",
    "    *((1,) * 1024),\n",
    "    *((2,) * 1024),\n",
    "    *((3,) * 1024),\n",
    ")), dtype=torch.long)"
   ]
  },
  {
   "cell_type": "code",
   "execution_count": null,
   "id": "1a0eb204",
   "metadata": {},
   "outputs": [],
   "source": [
    "token_types.shape"
   ]
  },
  {
   "cell_type": "code",
   "execution_count": null,
   "id": "ec2d001e",
   "metadata": {},
   "outputs": [],
   "source": [
    "from einops import rearrange, repeat"
   ]
  },
  {
   "cell_type": "code",
   "execution_count": null,
   "id": "82d02571",
   "metadata": {},
   "outputs": [],
   "source": [
    "token_types_attend_from = rearrange(token_types, 'i -> i 1')\n",
    "token_types_attend_to = rearrange(token_types, 'j -> 1 j')"
   ]
  },
  {
   "cell_type": "code",
   "execution_count": null,
   "id": "41aad9d9",
   "metadata": {},
   "outputs": [],
   "source": [
    "zorro_mask = token_types_attend_from == token_types_attend_to"
   ]
  },
  {
   "cell_type": "code",
   "execution_count": null,
   "id": "03141b54",
   "metadata": {},
   "outputs": [],
   "source": [
    "zorro_mask = zorro_mask | (token_types_attend_from == 3)"
   ]
  },
  {
   "cell_type": "code",
   "execution_count": null,
   "id": "d8bb5a9b",
   "metadata": {
    "scrolled": true
   },
   "outputs": [],
   "source": [
    "token_types\n",
    "floom_mask = [token_types != i for i in range(-1,3)]\n",
    "for idx, tokens in enumerate(floom_mask):\n",
    "    print(idx)\n",
    "    a = -256*4 + 256*idx\n",
    "    b = -256*4 + 256*(idx+1)-1\n",
    "    print(f\"{a}:{b}\")\n",
    "    tokens[-256*4:] = False\n",
    "    tokens[a:b]= True\n",
    "floom_mask = repeat(floom_mask, 'i j -> (i i2) j', i2=256)\n",
    "plt.imshow(floom_mask)#, aspect = 1000)"
   ]
  },
  {
   "cell_type": "code",
   "execution_count": null,
   "id": "cc0b15fa",
   "metadata": {
    "scrolled": true
   },
   "outputs": [],
   "source": [
    "import matplotlib.pyplot as plt\n",
    "zorro_mask[token_types == 3] = floom_mask\n",
    "plt.imshow(zorro_mask)"
   ]
  },
  {
   "cell_type": "code",
   "execution_count": null,
   "id": "de16a0fd",
   "metadata": {},
   "outputs": [],
   "source": [
    "ax = plt.subplot(1,1,1)\n",
    "im = ax.imshow(attn_mask[3,:,:] * zorro_mask)\n",
    "labels = ['0','Modality 1','Modality 2','Modality 3','Fusion -1', 'Fusion 0', 'Fusion 1', 'Fusion 2','Global Tokens']\n",
    "ax.set_yticklabels(labels)"
   ]
  },
  {
   "cell_type": "code",
   "execution_count": null,
   "id": "cf22c82e",
   "metadata": {},
   "outputs": [],
   "source": [
    "torch.empty(0)"
   ]
  },
  {
   "cell_type": "code",
   "execution_count": null,
   "id": "3cf24c9b",
   "metadata": {},
   "outputs": [],
   "source": [
    "batch"
   ]
  },
  {
   "cell_type": "code",
   "execution_count": null,
   "id": "803e1f0f",
   "metadata": {},
   "outputs": [],
   "source": [
    "return_token_types = (0,1,2,3,3,3,3,4)\n",
    "return_token_types_tensor = torch.tensor(list(return_token_types))\n",
    "max_return_tokens = len(return_token_types)\n",
    "dim=512\n",
    "return_tokens = torch.nn.Parameter(torch.randn(max_return_tokens, dim))\n",
    "return_tokens = repeat(return_tokens, 'n d -> b n d', b=4)"
   ]
  },
  {
   "cell_type": "code",
   "execution_count": null,
   "id": "4a7de320",
   "metadata": {},
   "outputs": [],
   "source": [
    "return_tokens.shape"
   ]
  },
  {
   "cell_type": "code",
   "execution_count": null,
   "id": "dca07f3a",
   "metadata": {},
   "outputs": [],
   "source": [
    "pool_mask = rearrange(return_token_types_tensor, 'i -> i 1') == token_types_attend_to\n",
    "pool_mask = pool_mask | (rearrange(return_token_types_tensor, 'i -> i 1') == torch.ones_like(\n",
    "            token_types_attend_to, dtype=torch.long) * 4)"
   ]
  },
  {
   "cell_type": "code",
   "execution_count": null,
   "id": "c1ec0355",
   "metadata": {},
   "outputs": [],
   "source": [
    "plt.imshow(pool_mask.to(torch.long), aspect=1000) #'auto')\n",
    "plt.colorbar()"
   ]
  },
  {
   "cell_type": "code",
   "execution_count": null,
   "id": "19ab50a3",
   "metadata": {},
   "outputs": [],
   "source": [
    "floom_pool_mask = torch.block_diag(torch.ones((1,256)), \n",
    "                              torch.ones((1,256)), \n",
    "                              torch.ones((1,256)), \n",
    "                              torch.ones((1,256)))\n",
    "print(token_types.shape)\n",
    "select_mask = (return_token_types_tensor == 3).unsqueeze(1) *(token_types == 3).unsqueeze(0)\n",
    "print(select_mask.shape)\n",
    "pool_mask[select_mask] = floom_pool_mask.to(torch.bool).flatten()\n",
    "#floom_mask = repeat(floom_mask, 'i j -> i j')\n",
    "ax = plt.subplot(1,1,1)\n",
    "im = ax.imshow(pool_mask, aspect=1000, interpolation='none')"
   ]
  },
  {
   "cell_type": "code",
   "execution_count": null,
   "id": "52f4bac0",
   "metadata": {},
   "outputs": [],
   "source": [
    "plt.imshow((return_token_types_tensor == 3).unsqueeze(1) *\n",
    "           (token_types == 3).unsqueeze(0), aspect =1000)"
   ]
  },
  {
   "cell_type": "code",
   "execution_count": null,
   "id": "db2551c4",
   "metadata": {},
   "outputs": [],
   "source": [
    "plt.plot(pool_mask.T)"
   ]
  },
  {
   "cell_type": "code",
   "execution_count": null,
   "id": "f1f94ddb",
   "metadata": {
    "scrolled": true
   },
   "outputs": [],
   "source": [
    "padding_mask = repeat(padding, 'b j -> b i j', i=pool_mask.shape[0])\n",
    "print(padding_mask.shape)\n",
    "plt.imshow(padding_mask[0,:,:].squeeze(), aspect=1000)\n",
    "plt.colorbar()"
   ]
  },
  {
   "cell_type": "code",
   "execution_count": null,
   "id": "c04499f9",
   "metadata": {},
   "outputs": [],
   "source": [
    "pool_mask = pool_mask * padding_mask\n",
    "ax = plt.subplot(1,1,1)\n",
    "im = ax.imshow(pool_mask[0], aspect=1000, interpolation='none')\n",
    "#labels = [item.get_text() for item in ax.get_xticklabels()]\n",
    "labels = ['0','Modality 1','Modality 2','Modality 3','Fusion -1', 'Fusion 0', 'Fusion 1', 'Fusion 2','Global Tokens']\n",
    "ax.set_yticklabels(labels)"
   ]
  },
  {
   "cell_type": "code",
   "execution_count": null,
   "id": "1b00504e",
   "metadata": {},
   "outputs": [],
   "source": [
    "q=torch.tensor([[1,2],\n",
    "                [1,1]])\n",
    "k=torch.tensor([[1,1],\n",
    "                [2,1]])\n",
    "v=q"
   ]
  },
  {
   "cell_type": "code",
   "execution_count": null,
   "id": "233d3ffb",
   "metadata": {},
   "outputs": [],
   "source": [
    "from torch import einsum\n",
    "sim = einsum('i d, d j -> i j', q, k) #Standard mm multipy\n",
    "sim = einsum('i d, j d -> i j', q, k) #mm multiply with k transpose\n",
    "print(sim)\n",
    "#sim = sim.masked_fill(~attn_mask, -torch.finfo(sim.dtype).max)\n",
    "#attn = sim.softmax(dim=-1)\n",
    "attn = sim\n",
    "out = einsum('i j, j d -> i d', attn, v) #standard multiply with no tranpose\n",
    "print(out)\n",
    "### SO COLUMNS SHOULD BE -inf for the mask!"
   ]
  },
  {
   "cell_type": "code",
   "execution_count": null,
   "id": "1d64836b",
   "metadata": {},
   "outputs": [],
   "source": [
    "sim"
   ]
  },
  {
   "cell_type": "markdown",
   "id": "4805a91f",
   "metadata": {},
   "source": [
    "# Combine datasets"
   ]
  },
  {
   "cell_type": "code",
   "execution_count": null,
   "id": "c90e0371",
   "metadata": {},
   "outputs": [],
   "source": [
    "from datasets import concatenate_datasets, load_from_disk\n",
    "import os\n",
    "os.environ['HF_DATASETS_CACHE']='/shared/.cache/hugginface/dataset'\n",
    "datasets = [\n",
    "   'ad98d3cd-26fb-4ee3-99c9-8a2ab085e737_combined_all',\n",
    "    'fcaa53cd-ba57-4bfe-af9c-eaa958f95c1a_combined_all',\n",
    "    'cc95ff89-2e68-4a08-a234-480eca21ce79_combined_all',\n",
    "    'fde199d2-a841-4ed1-aa65-b9e0af8969b1_combined_all'\n",
    "]\n",
    "root = '/shared/'\n",
    "loaded_datasets=[]\n",
    "for dataset in datasets:\n",
    "    loaded_datasets.append(load_from_disk(os.path.join(root,dataset)))\n",
    "all_datasets=concatenate_datasets(loaded_datasets)"
   ]
  },
  {
   "cell_type": "code",
   "execution_count": null,
   "id": "b5cb8797",
   "metadata": {},
   "outputs": [],
   "source": [
    "shuffled_dataset = all_datasets.shuffle(seed=42)"
   ]
  },
  {
   "cell_type": "code",
   "execution_count": null,
   "id": "3f92b282",
   "metadata": {},
   "outputs": [],
   "source": [
    "len(shuffled_dataset)"
   ]
  },
  {
   "cell_type": "code",
   "execution_count": null,
   "id": "24ff05f9",
   "metadata": {},
   "outputs": [],
   "source": [
    "shuffled_dataset.save_to_disk(os.path.join(root,'dataset3M'))"
   ]
  },
  {
   "cell_type": "code",
   "execution_count": null,
   "id": "06410719",
   "metadata": {},
   "outputs": [],
   "source": [
    "import torch"
   ]
  },
  {
   "cell_type": "code",
   "execution_count": null,
   "id": "c9d8c45b",
   "metadata": {},
   "outputs": [],
   "source": [
    "t = torch.zeros(10)"
   ]
  },
  {
   "cell_type": "code",
   "execution_count": null,
   "id": "6fbc21af",
   "metadata": {},
   "outputs": [],
   "source": [
    "t[torch.tensor([0,4,9])]=torch.tensor([1,2,3], dtype=torch.float)"
   ]
  },
  {
   "cell_type": "code",
   "execution_count": null,
   "id": "591667ee",
   "metadata": {},
   "outputs": [],
   "source": [
    "t"
   ]
  },
  {
   "cell_type": "code",
   "execution_count": null,
   "id": "292b3ba0",
   "metadata": {},
   "outputs": [],
   "source": [
    "    f, ax= plt.subplots(4,2, figsize=(6,2))\n"
   ]
  },
  {
   "cell_type": "code",
   "execution_count": null,
   "id": "0795edda",
   "metadata": {},
   "outputs": [],
   "source": [
    "ax"
   ]
  },
  {
   "cell_type": "code",
   "execution_count": null,
   "id": "7645b788",
   "metadata": {},
   "outputs": [],
   "source": [
    "import datasets\n",
    "!ls /shared\n",
    "dataset = datasets.load_from_disk('/shared/how2_all_proc')"
   ]
  },
  {
   "cell_type": "code",
   "execution_count": null,
   "id": "c62984b9",
   "metadata": {},
   "outputs": [],
   "source": [
    "dataset[0]['vid']"
   ]
  },
  {
   "cell_type": "code",
   "execution_count": null,
   "id": "79bf31a3",
   "metadata": {},
   "outputs": [],
   "source": [
    "    #if plot_diag:\n",
    "        \"\"\"\n",
    "        plt.figure()\n",
    "        plt.title(\"diagonals\")\n",
    "        diags = {k:np.diagonal(mat) for k,mat in mat_dict.items()}\n",
    "        plt.hist(diags.values(), bins=20)\n",
    "        plt.legend(diags.keys())\n",
    "        plt.ylabel('Number of Batches')\n",
    "        plt.xlabel('Diag Cosine Similarity')\n",
    "        plt.figure()\n",
    "        plt.title(\"diagonals\")\n",
    "        diags = {k:np.diagonal(mat) for k,mat in mat_dict.items()}\n",
    "        diags_norm = {k:np.diagonal(mat)-np.mean(mat_dict[k]) for k, mat in mat_dict.items()}\n",
    "        plt.hist(diags_norm.values(), bins=20)\n",
    "        plt.legend(diags_norm.keys())\n",
    "        plt.ylabel('Number of Batches')\n",
    "        plt.xlabel('%Cosine Similarity Change from Mean of Diagonal')\n",
    "        diags = {k:np.diagonal(mat) for k,mat in mat_dict.items()}\n",
    "        diags_norm = {k:np.diagonal(mat)-np.mean(mat_dict[k]) for k, mat in mat_dict.items()}\n",
    "        plt.hist(diags_norm.values(), bins=20)\n",
    "        plt.legend(diags_norm.keys())\n",
    "        plt.ylabel('Number of Batches')\n",
    "        plt.xlabel('%Cosine Similarity Change from Mean of Diagonal')        \n",
    "        \"\"\"\n",
    "        #plt.figure()\n",
    "        #plt.title(\"\")"
   ]
  },
  {
   "cell_type": "code",
   "execution_count": null,
   "id": "e46d2259",
   "metadata": {},
   "outputs": [],
   "source": [
    "x = torch.Tensor([[0,1,1,1],[0,1,1,0]])"
   ]
  },
  {
   "cell_type": "code",
   "execution_count": null,
   "id": "14df2541",
   "metadata": {},
   "outputs": [],
   "source": [
    "torch.randperm(10)[:3]"
   ]
  },
  {
   "cell_type": "code",
   "execution_count": null,
   "id": "15fa2f97",
   "metadata": {},
   "outputs": [],
   "source": [
    "x.swapaxes(0,1)"
   ]
  },
  {
   "cell_type": "code",
   "execution_count": null,
   "id": "0a5a50c0",
   "metadata": {},
   "outputs": [],
   "source": [
    "x = [torch.Tensor([0.3]), torch.Tensor([1.3]), torch.Tensor([2.3]), torch.Tensor([np.nan])]"
   ]
  },
  {
   "cell_type": "code",
   "execution_count": null,
   "id": "b4389fb8",
   "metadata": {},
   "outputs": [],
   "source": [
    "y = torch.cat(x)"
   ]
  },
  {
   "cell_type": "code",
   "execution_count": null,
   "id": "cfae76ca",
   "metadata": {},
   "outputs": [],
   "source": [
    "z=~y.isnan()"
   ]
  },
  {
   "cell_type": "code",
   "execution_count": null,
   "id": "85f1575c",
   "metadata": {},
   "outputs": [],
   "source": [
    "w=torch.sum(z)"
   ]
  },
  {
   "cell_type": "code",
   "execution_count": null,
   "id": "fcbd40f9",
   "metadata": {},
   "outputs": [],
   "source": [
    "torch.sum(y[z])/w"
   ]
  },
  {
   "cell_type": "code",
   "execution_count": null,
   "id": "8fab0dfd",
   "metadata": {},
   "outputs": [],
   "source": [
    "z"
   ]
  },
  {
   "cell_type": "code",
   "execution_count": null,
   "id": "106daeba",
   "metadata": {},
   "outputs": [],
   "source": []
  }
 ],
 "metadata": {
  "kernelspec": {
   "display_name": "Python 3 (ipykernel)",
   "language": "python",
   "name": "python3"
  },
  "language_info": {
   "codemirror_mode": {
    "name": "ipython",
    "version": 3
   },
   "file_extension": ".py",
   "mimetype": "text/x-python",
   "name": "python",
   "nbconvert_exporter": "python",
   "pygments_lexer": "ipython3",
   "version": "3.10.12"
  }
 },
 "nbformat": 4,
 "nbformat_minor": 5
}
