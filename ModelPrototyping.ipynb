{
 "cells": [
  {
   "cell_type": "code",
   "execution_count": 1,
   "id": "05643bb3",
   "metadata": {},
   "outputs": [],
   "source": [
    "from biozorromodel import BioZorro\n",
    "from datasets import load_from_disk\n",
    "from encoders import BioZorroCollator"
   ]
  },
  {
   "cell_type": "code",
   "execution_count": 2,
   "id": "f9c5b0a0",
   "metadata": {},
   "outputs": [],
   "source": [
    "lm_datasets = load_from_disk('data/filtered_protein_mrna_genes')"
   ]
  },
  {
   "cell_type": "code",
   "execution_count": 3,
   "id": "e0d2b7c1",
   "metadata": {},
   "outputs": [],
   "source": [
    "lm_datasets = lm_datasets.rename_column('total_index','expression_index')\n",
    "lm_datasets = lm_datasets.rename_column('total_data','expression_data')\n"
   ]
  },
  {
   "cell_type": "code",
   "execution_count": null,
   "id": "3b0442c4",
   "metadata": {},
   "outputs": [],
   "source": []
  },
  {
   "cell_type": "code",
   "execution_count": 4,
   "id": "d025eb59",
   "metadata": {},
   "outputs": [],
   "source": [
    "#keep =  ['spliced_index', 'unspliced_index', 'spliced_data', 'unspliced_data']\n",
    "keep = ['expression_index','expression_data','spliced_index', 'unspliced_index', 'spliced_data', 'unspliced_data']\n",
    "remove = list()\n",
    "for key in lm_datasets.features.keys():\n",
    "    if key not in keep:\n",
    "        remove.append(key)\n",
    "lm_datasets = lm_datasets.remove_columns(remove)"
   ]
  },
  {
   "cell_type": "code",
   "execution_count": 5,
   "id": "ce249869",
   "metadata": {},
   "outputs": [],
   "source": [
    "from torch.utils.data import DataLoader\n",
    "default_data_collator = BioZorroCollator(pad_len=2048, pad_token=0)\n",
    "dataloader = DataLoader(lm_datasets.with_format('torch'), shuffle=True, collate_fn=default_data_collator, batch_size=4,)"
   ]
  },
  {
   "cell_type": "code",
   "execution_count": 6,
   "id": "7a2f180b",
   "metadata": {
    "scrolled": true
   },
   "outputs": [
    {
     "data": {
      "text/plain": [
       "{'expression_index': tensor([[ 74,  99, 237,  ...,   0,   0,   0],\n",
       "         [ 29, 110, 120,  ...,   0,   0,   0],\n",
       "         [ 18, 194, 208,  ...,   0,   0,   0],\n",
       "         [ 24,  29, 160,  ...,   0,   0,   0]]),\n",
       " 'spliced_index': tensor([[ 99, 237, 517,  ...,   0,   0,   0],\n",
       "         [ 29, 110, 120,  ...,   0,   0,   0],\n",
       "         [194, 406, 565,  ...,   0,   0,   0],\n",
       "         [191, 194, 358,  ...,   0,   0,   0]]),\n",
       " 'unspliced_index': tensor([[ 74, 266, 598,  ...,   0,   0,   0],\n",
       "         [181, 196, 358,  ...,   0,   0,   0],\n",
       "         [208, 239, 371,  ...,   0,   0,   0],\n",
       "         [ 24,  29, 718,  ...,   0,   0,   0]]),\n",
       " 'expression_data': tensor([[1., 1., 1.,  ..., 0., 0., 0.],\n",
       "         [1., 1., 1.,  ..., 0., 0., 0.],\n",
       "         [1., 1., 1.,  ..., 0., 0., 0.],\n",
       "         [1., 1., 1.,  ..., 0., 0., 0.]]),\n",
       " 'spliced_data': tensor([[1., 1., 1.,  ..., 0., 0., 0.],\n",
       "         [1., 1., 1.,  ..., 0., 0., 0.],\n",
       "         [1., 1., 1.,  ..., 0., 0., 0.],\n",
       "         [1., 1., 1.,  ..., 0., 0., 0.]]),\n",
       " 'unspliced_data': tensor([[1., 1., 1.,  ..., 0., 0., 0.],\n",
       "         [1., 1., 2.,  ..., 0., 0., 0.],\n",
       "         [1., 1., 1.,  ..., 0., 0., 0.],\n",
       "         [1., 1., 2.,  ..., 0., 0., 0.]])}"
      ]
     },
     "execution_count": 6,
     "metadata": {},
     "output_type": "execute_result"
    }
   ],
   "source": [
    "batch = next(iter(dataloader))\n",
    "batch"
   ]
  },
  {
   "cell_type": "code",
   "execution_count": 57,
   "id": "5a2242c4",
   "metadata": {},
   "outputs": [
    {
     "name": "stdout",
     "output_type": "stream",
     "text": [
      "703\n"
     ]
    }
   ],
   "source": [
    "#https://ai.stackexchange.com/questions/28564/how-to-determine-the-embedding-size\n",
    "import numpy as np\n",
    "vocab_size = 18817\n",
    "num_embeddings = int(75.6496 * np.log(vocab_size + 176.623) - 41.4457)\n",
    "print(num_embeddings)"
   ]
  },
  {
   "cell_type": "code",
   "execution_count": 74,
   "id": "2d79a7e3",
   "metadata": {},
   "outputs": [
    {
     "data": {
      "text/plain": [
       "8000000.0"
      ]
     },
     "execution_count": 74,
     "metadata": {},
     "output_type": "execute_result"
    }
   ],
   "source": [
    "2.5*10**5*256/8"
   ]
  },
  {
   "cell_type": "code",
   "execution_count": 62,
   "id": "1afec248",
   "metadata": {},
   "outputs": [],
   "source": [
    "config = {\n",
    "    \"dim\": num_embeddings, #hidden size\n",
    "    \"depth\": 3, #layers\n",
    "    \"spliced_input_dim\": num_embeddings, #embedding_size\n",
    "    \"unspliced_input_dim\": num_embeddings,\n",
    "    \"dim_head\":64, #don't know, head hidden size?\n",
    "    \"heads\": 4, #num heads\n",
    "    \"ff_mult\": 4, #Feed forward multiplier\n",
    "    \"num_fusion_tokens\": 16,\n",
    "    \"vocab_size\": vocab_size\n",
    "}\n",
    "\n",
    "model = BioZorro(**config)"
   ]
  },
  {
   "cell_type": "code",
   "execution_count": 63,
   "id": "515748f8",
   "metadata": {},
   "outputs": [
    {
     "name": "stdout",
     "output_type": "stream",
     "text": [
      "return_tokens:0.002109\n",
      "fusion_tokens:0.011248\n",
      "loss.contrastive_loss.logit_scale:1e-06\n",
      "attn_pool.norm.gamma:0.000703\n",
      "attn_pool.to_q.weight:0.179968\n",
      "attn_pool.to_kv.weight:0.359936\n",
      "attn_pool.to_out.weight:0.179968\n",
      "spliced_embedding.gene_encoder.embedding.weight:13.228351\n",
      "spliced_embedding.gene_encoder.enc_norm.weight:0.000703\n",
      "spliced_embedding.gene_encoder.enc_norm.bias:0.000703\n",
      "spliced_embedding.counts_encoder.linear1.weight:0.000703\n",
      "spliced_embedding.counts_encoder.linear1.bias:0.000703\n",
      "spliced_embedding.counts_encoder.linear2.weight:0.494209\n",
      "spliced_embedding.counts_encoder.linear2.bias:0.000703\n",
      "spliced_embedding.counts_encoder.norm.weight:0.000703\n",
      "spliced_embedding.counts_encoder.norm.bias:0.000703\n",
      "unspliced_embedding.gene_encoder.embedding.weight:13.228351\n",
      "unspliced_embedding.gene_encoder.enc_norm.weight:0.000703\n",
      "unspliced_embedding.gene_encoder.enc_norm.bias:0.000703\n",
      "unspliced_embedding.counts_encoder.linear1.weight:0.000703\n",
      "unspliced_embedding.counts_encoder.linear1.bias:0.000703\n",
      "unspliced_embedding.counts_encoder.linear2.weight:0.494209\n",
      "unspliced_embedding.counts_encoder.linear2.bias:0.000703\n",
      "unspliced_embedding.counts_encoder.norm.weight:0.000703\n",
      "unspliced_embedding.counts_encoder.norm.bias:0.000703\n",
      "layers.0.attn.norm.gamma:0.000703\n",
      "layers.0.attn.to_q.weight:0.179968\n",
      "layers.0.attn.to_kv.weight:0.359936\n",
      "layers.0.attn.to_out.weight:0.179968\n",
      "layers.0.ff.0.gamma:0.000703\n",
      "layers.0.ff.1.weight:2.634844\n",
      "layers.0.ff.3.weight:1.317422\n",
      "layers.1.attn.norm.gamma:0.000703\n",
      "layers.1.attn.to_q.weight:0.179968\n",
      "layers.1.attn.to_kv.weight:0.359936\n",
      "layers.1.attn.to_out.weight:0.179968\n",
      "layers.1.ff.0.gamma:0.000703\n",
      "layers.1.ff.1.weight:2.634844\n",
      "layers.1.ff.3.weight:1.317422\n",
      "layers.2.attn.norm.gamma:0.000703\n",
      "layers.2.attn.to_q.weight:0.179968\n",
      "layers.2.attn.to_kv.weight:0.359936\n",
      "layers.2.attn.to_out.weight:0.179968\n",
      "layers.2.ff.0.gamma:0.000703\n",
      "layers.2.ff.1.weight:2.634844\n",
      "layers.2.ff.3.weight:1.317422\n",
      "norm.gamma:0.000703\n"
     ]
    }
   ],
   "source": [
    "for n,p in model.named_parameters():\n",
    "    if p.requires_grad:\n",
    "        print(f\"{n}:{p.numel()/10**6}\")"
   ]
  },
  {
   "cell_type": "code",
   "execution_count": 61,
   "id": "1d1135de",
   "metadata": {},
   "outputs": [
    {
     "ename": "RuntimeError",
     "evalue": "Sizes of tensors must match except in dimension 1. Expected size 703 but got size 128 for tensor number 1 in the list.",
     "output_type": "error",
     "traceback": [
      "\u001b[0;31m---------------------------------------------------------------------------\u001b[0m",
      "\u001b[0;31mRuntimeError\u001b[0m                              Traceback (most recent call last)",
      "\u001b[0;32m/tmp/ipykernel_2286344/1682758643.py\u001b[0m in \u001b[0;36m<module>\u001b[0;34m\u001b[0m\n\u001b[0;32m----> 1\u001b[0;31m \u001b[0moutputs\u001b[0m \u001b[0;34m=\u001b[0m \u001b[0mmodel\u001b[0m\u001b[0;34m(\u001b[0m\u001b[0;34m**\u001b[0m\u001b[0mbatch\u001b[0m\u001b[0;34m)\u001b[0m\u001b[0;34m\u001b[0m\u001b[0;34m\u001b[0m\u001b[0m\n\u001b[0m",
      "\u001b[0;32m/shared/miniconda3/lib/python3.7/site-packages/torch/nn/modules/module.py\u001b[0m in \u001b[0;36m_call_impl\u001b[0;34m(self, *input, **kwargs)\u001b[0m\n\u001b[1;32m   1192\u001b[0m         if not (self._backward_hooks or self._forward_hooks or self._forward_pre_hooks or _global_backward_hooks\n\u001b[1;32m   1193\u001b[0m                 or _global_forward_hooks or _global_forward_pre_hooks):\n\u001b[0;32m-> 1194\u001b[0;31m             \u001b[0;32mreturn\u001b[0m \u001b[0mforward_call\u001b[0m\u001b[0;34m(\u001b[0m\u001b[0;34m*\u001b[0m\u001b[0minput\u001b[0m\u001b[0;34m,\u001b[0m \u001b[0;34m**\u001b[0m\u001b[0mkwargs\u001b[0m\u001b[0;34m)\u001b[0m\u001b[0;34m\u001b[0m\u001b[0;34m\u001b[0m\u001b[0m\n\u001b[0m\u001b[1;32m   1195\u001b[0m         \u001b[0;31m# Do not call functions when jit is used\u001b[0m\u001b[0;34m\u001b[0m\u001b[0;34m\u001b[0m\u001b[0;34m\u001b[0m\u001b[0m\n\u001b[1;32m   1196\u001b[0m         \u001b[0mfull_backward_hooks\u001b[0m\u001b[0;34m,\u001b[0m \u001b[0mnon_full_backward_hooks\u001b[0m \u001b[0;34m=\u001b[0m \u001b[0;34m[\u001b[0m\u001b[0;34m]\u001b[0m\u001b[0;34m,\u001b[0m \u001b[0;34m[\u001b[0m\u001b[0;34m]\u001b[0m\u001b[0;34m\u001b[0m\u001b[0;34m\u001b[0m\u001b[0m\n",
      "\u001b[0;32m/efs-private/multimodal/biozorromodel.py\u001b[0m in \u001b[0;36mforward\u001b[0;34m(self, spliced_data, spliced_index, unspliced_data, unspliced_index, return_token_indices)\u001b[0m\n\u001b[1;32m    281\u001b[0m             \u001b[0mfusion_tokens\u001b[0m\u001b[0;34m,\u001b[0m\u001b[0;34m\u001b[0m\u001b[0;34m\u001b[0m\u001b[0m\n\u001b[1;32m    282\u001b[0m             \u001b[0munspliced_tokens\u001b[0m\u001b[0;34m\u001b[0m\u001b[0;34m\u001b[0m\u001b[0m\n\u001b[0;32m--> 283\u001b[0;31m         ), 'b * d')\n\u001b[0m\u001b[1;32m    284\u001b[0m \u001b[0;34m\u001b[0m\u001b[0m\n\u001b[1;32m    285\u001b[0m         \u001b[0;31m# construct mask (thus zorro)\u001b[0m\u001b[0;34m\u001b[0m\u001b[0;34m\u001b[0m\u001b[0;34m\u001b[0m\u001b[0m\n",
      "\u001b[0;32m/shared/miniconda3/lib/python3.7/site-packages/einops/packing.py\u001b[0m in \u001b[0;36mpack\u001b[0;34m(tensors, pattern)\u001b[0m\n\u001b[1;32m     86\u001b[0m         )\n\u001b[1;32m     87\u001b[0m \u001b[0;34m\u001b[0m\u001b[0m\n\u001b[0;32m---> 88\u001b[0;31m     \u001b[0;32mreturn\u001b[0m \u001b[0mbackend\u001b[0m\u001b[0;34m.\u001b[0m\u001b[0mconcat\u001b[0m\u001b[0;34m(\u001b[0m\u001b[0mreshaped_tensors\u001b[0m\u001b[0;34m,\u001b[0m \u001b[0maxis\u001b[0m\u001b[0;34m=\u001b[0m\u001b[0mn_axes_before\u001b[0m\u001b[0;34m)\u001b[0m\u001b[0;34m,\u001b[0m \u001b[0mpacked_shapes\u001b[0m\u001b[0;34m\u001b[0m\u001b[0;34m\u001b[0m\u001b[0m\n\u001b[0m\u001b[1;32m     89\u001b[0m \u001b[0;34m\u001b[0m\u001b[0m\n\u001b[1;32m     90\u001b[0m \u001b[0;34m\u001b[0m\u001b[0m\n",
      "\u001b[0;32m/shared/miniconda3/lib/python3.7/site-packages/einops/_backends.py\u001b[0m in \u001b[0;36mconcat\u001b[0;34m(self, tensors, axis)\u001b[0m\n\u001b[1;32m    305\u001b[0m \u001b[0;34m\u001b[0m\u001b[0m\n\u001b[1;32m    306\u001b[0m     \u001b[0;32mdef\u001b[0m \u001b[0mconcat\u001b[0m\u001b[0;34m(\u001b[0m\u001b[0mself\u001b[0m\u001b[0;34m,\u001b[0m \u001b[0mtensors\u001b[0m\u001b[0;34m,\u001b[0m \u001b[0maxis\u001b[0m\u001b[0;34m:\u001b[0m \u001b[0mint\u001b[0m\u001b[0;34m)\u001b[0m\u001b[0;34m:\u001b[0m\u001b[0;34m\u001b[0m\u001b[0;34m\u001b[0m\u001b[0m\n\u001b[0;32m--> 307\u001b[0;31m         \u001b[0;32mreturn\u001b[0m \u001b[0mself\u001b[0m\u001b[0;34m.\u001b[0m\u001b[0mtorch\u001b[0m\u001b[0;34m.\u001b[0m\u001b[0mcat\u001b[0m\u001b[0;34m(\u001b[0m\u001b[0mtensors\u001b[0m\u001b[0;34m,\u001b[0m \u001b[0mdim\u001b[0m\u001b[0;34m=\u001b[0m\u001b[0maxis\u001b[0m\u001b[0;34m)\u001b[0m\u001b[0;34m\u001b[0m\u001b[0;34m\u001b[0m\u001b[0m\n\u001b[0m\u001b[1;32m    308\u001b[0m \u001b[0;34m\u001b[0m\u001b[0m\n\u001b[1;32m    309\u001b[0m     \u001b[0;32mdef\u001b[0m \u001b[0madd_axis\u001b[0m\u001b[0;34m(\u001b[0m\u001b[0mself\u001b[0m\u001b[0;34m,\u001b[0m \u001b[0mx\u001b[0m\u001b[0;34m,\u001b[0m \u001b[0mnew_position\u001b[0m\u001b[0;34m)\u001b[0m\u001b[0;34m:\u001b[0m\u001b[0;34m\u001b[0m\u001b[0;34m\u001b[0m\u001b[0m\n",
      "\u001b[0;31mRuntimeError\u001b[0m: Sizes of tensors must match except in dimension 1. Expected size 703 but got size 128 for tensor number 1 in the list."
     ]
    }
   ],
   "source": [
    "outputs = model(**batch)"
   ]
  },
  {
   "cell_type": "code",
   "execution_count": 41,
   "id": "a0876c53",
   "metadata": {},
   "outputs": [
    {
     "data": {
      "text/plain": [
       "BioZorroPretrainingLossOutput(losses=BioZorroPretrainingLossesCollection(contrastive_loss=tensor(10.3229, grad_fn=<DivBackward0>), fusion_loss_spliced=tensor(2.3723, grad_fn=<DivBackward0>), fusion_loss_unspliced=tensor(3.2532, grad_fn=<DivBackward0>)), spliced_output=None, unspliced_output=None, fusion_output=None)"
      ]
     },
     "execution_count": 41,
     "metadata": {},
     "output_type": "execute_result"
    }
   ],
   "source": [
    "outputs"
   ]
  },
  {
   "cell_type": "code",
   "execution_count": null,
   "id": "38fab953",
   "metadata": {},
   "outputs": [],
   "source": [
    "outputs.loss.backward()"
   ]
  },
  {
   "cell_type": "code",
   "execution_count": null,
   "id": "c921aacf",
   "metadata": {},
   "outputs": [],
   "source": [
    "import wandb\n",
    "wandb.init()"
   ]
  },
  {
   "cell_type": "code",
   "execution_count": null,
   "id": "0d41eb8b",
   "metadata": {},
   "outputs": [],
   "source": [
    "from torch.optim import AdamW\n",
    "from tqdm import tqdm\n",
    "\n",
    "epochs=100\n",
    "optimizer = AdamW(model.parameters(), lr=0.0001)\n",
    "num_training_steps = epochs * len(dataloader)\n",
    "progress_bar = tqdm(range(num_training_steps))\n",
    "\n",
    "#print(\"Start training: {}\".format(strftime(\"%Y-%m-%d %H:%M:%S\", gmtime())))\n",
    "## Start model training and defining the training loop\n",
    "model.train()\n",
    "for epoch in range(epochs):\n",
    "    for batch in dataloader:\n",
    "        #batch = {k: v.to(device) for k, v in batch.items()}\n",
    "        outputs = model(**batch)\n",
    "        optimizer.zero_grad()\n",
    "        loss = outputs.loss\n",
    "        loss.backward()\n",
    "        optimizer.step()\n",
    "        progress_bar.update(1)\n",
    "        wandb.log({\"loss\":loss.detach().to(\"cpu\")})\n",
    "    print(f\"Epoch {epoch}: loss: {loss.detach()}\")\n",
    "        #\n",
    "    #if xm.is_master_ordinal(local=False):\n",
    "    wandb.log({\"epoch_loss\":loss.detach().to(\"cpu\")})\n",
    "\n",
    "logger.info(\"End training: {}\".format(strftime(\"%Y-%m-%d %H:%M:%S\", gmtime())))"
   ]
  },
  {
   "cell_type": "code",
   "execution_count": 17,
   "id": "86646715",
   "metadata": {},
   "outputs": [],
   "source": [
    "from collections import defaultdict\n",
    "import torch\n",
    "losses = defaultdict(lambda: torch.Tensor([0.0]).to(\"cpu\"))\n",
    "losses['test']+=torch.Tensor([1.0])"
   ]
  },
  {
   "cell_type": "markdown",
   "id": "9ed00583",
   "metadata": {},
   "source": [
    "# Scaling law results"
   ]
  },
  {
   "cell_type": "code",
   "execution_count": 5,
   "id": "b6d1c785",
   "metadata": {},
   "outputs": [],
   "source": [
    "import pandas as pd\n",
    "import numpy as np\n",
    "nparam = np.array([76.65,38.81,32.5, 26.23,\n",
    "                   19.94,13.64,10.50,7.35])*10**6\n",
    "nlayers = np.array([24,16,10,8,6,4,3,2])\n",
    "sm_loss = { 'fusion_spliced': [0.05217,0.055660,0.05406000, 0.04967,\n",
    "                               0.0688, 0.0625,0.06375,0.07791],\n",
    "           'fusion_unspliced':[0.05201,0.055482,0.05395645, 0.04972,\n",
    "                               0.06859,0.0624,0.06347,0.07738],\n",
    "           'contrastive_loss':[0.051933,0.05556,0.054283, 0.0499,\n",
    "                               0.06961,0.0638,0.06341,0.07857]\n",
    "}\n",
    "dm_loss = { 'fusion_spliced':[0.002226,0.004596, 0.0047380,0.003942,\n",
    "                              0.005551,0.005522,0.005401,0.01271],\n",
    "           'fusion_unspliced':[0.002172,0.0046209,0.0047747,0.004004,\n",
    "                               0.005403,0.005479,0.005485,0.01249],\n",
    "           'contrastive_loss':[0.002259,0.004727,0.0048772,0.00414,\n",
    "                               0.005551,0.005278,0.005551,0.01522]\n",
    "}\n",
    "\n",
    "dm_loss=np.array(list(dm_loss.values()))\n",
    "dm_loss = dm_loss.sum(axis=0)\n",
    "#dm_loss=dm_loss[:,:-1].sum(axis=0)\n",
    "sm_loss=np.array(list(sm_loss.values()))\n",
    "sm_loss = sm_loss.sum(axis=0)\n",
    "#sm_loss=sm_loss[:,:-1].sum(axis=0)\n",
    "#nparam=nparam[:-1]\n",
    "df = pd.DataFrame.from_dict({'dual':dm_loss,\n",
    "                             'single':sm_loss,\n",
    "                             'param':nparam})\n",
    "df_m = pd.DataFrame.from_dict({'dual':dm_loss/dm_loss.mean(),\n",
    "                               'single':sm_loss/sm_loss.mean(),\n",
    "                               'param':nparam})\n",
    "df.to_csv('prelim_scale_data.csv')"
   ]
  },
  {
   "cell_type": "code",
   "execution_count": 3,
   "id": "9be7db06",
   "metadata": {},
   "outputs": [],
   "source": [
    "import matplotlib.pyplot as plt\n",
    "import seaborn as sns"
   ]
  },
  {
   "cell_type": "code",
   "execution_count": 4,
   "id": "951c4933",
   "metadata": {
    "scrolled": true
   },
   "outputs": [
    {
     "name": "stderr",
     "output_type": "stream",
     "text": [
      "/shared/miniconda3/lib/python3.7/site-packages/ipykernel_launcher.py:16: UserWarning: The handle <matplotlib.collections.PathCollection object at 0x7f33337f34d0> has a label of '_nolegend_' which cannot be automatically added to the legend.\n",
      "  \n",
      "/shared/miniconda3/lib/python3.7/site-packages/ipykernel_launcher.py:16: UserWarning: The handle <matplotlib.collections.PolyCollection object at 0x7f33317b8550> has a label of '_nolegend_' which cannot be automatically added to the legend.\n",
      "  \n",
      "/shared/miniconda3/lib/python3.7/site-packages/ipykernel_launcher.py:16: UserWarning: The handle <matplotlib.collections.PathCollection object at 0x7f33317b8c10> has a label of '_nolegend_' which cannot be automatically added to the legend.\n",
      "  \n",
      "/shared/miniconda3/lib/python3.7/site-packages/ipykernel_launcher.py:28: UserWarning: The handle <matplotlib.collections.PathCollection object at 0x7f33317379d0> has a label of '_nolegend_' which cannot be automatically added to the legend.\n",
      "/shared/miniconda3/lib/python3.7/site-packages/ipykernel_launcher.py:28: UserWarning: The handle <matplotlib.collections.PolyCollection object at 0x7f33316dd290> has a label of '_nolegend_' which cannot be automatically added to the legend.\n",
      "/shared/miniconda3/lib/python3.7/site-packages/ipykernel_launcher.py:28: UserWarning: The handle <matplotlib.collections.PathCollection object at 0x7f33316dd990> has a label of '_nolegend_' which cannot be automatically added to the legend.\n"
     ]
    },
    {
     "data": {
      "text/plain": [
       "<matplotlib.legend.Legend at 0x7f333febf7d0>"
      ]
     },
     "execution_count": 4,
     "metadata": {},
     "output_type": "execute_result"
    },
    {
     "data": {
      "image/png": "[encoded data removed]",
      "text/plain": [
       "<Figure size 640x480 with 1 Axes>"
      ]
     },
     "metadata": {},
     "output_type": "display_data"
    },
    {
     "data": {
      "image/png": "[encoded data removed]",
      "text/plain": [
       "<Figure size 640x480 with 1 Axes>"
      ]
     },
     "metadata": {},
     "output_type": "display_data"
    }
   ],
   "source": [
    "sm_loss_ = sm_loss\n",
    "dm_loss_ = dm_loss\n",
    "nparam_ = nparam\n",
    "nlayers_ = nlayers\n",
    "plt.clf()\n",
    "plt.figure(1)\n",
    "#plt.plot(nparam_,np.array(sm_loss_)/sm_loss_.mean(),'o-',\n",
    "#         nparam_,np.array(dm_loss_)/dm_loss_.mean(),'x-')\n",
    "sns.regplot(df_m, x='param',y='single')\n",
    "sns.regplot(df_m, x='param',y='dual')\n",
    "plt.xscale('log')\n",
    "#plt.xlim([9*10**6,10**8])\n",
    "plt.ylim([0,2.5])\n",
    "plt.xlabel('Non-Embedding Parameter Count')\n",
    "plt.ylabel('Normalized Test Loss')\n",
    "plt.legend(['_nolegend_',\"1-modal\",'_nolegend_','_nolegend_',\"2-modal\"]) \n",
    "plt.figure(2)\n",
    "#plt.plot(nparam_,np.array(sm_loss_),'o-',\n",
    "#         nparam_,np.array(dm_loss_),'x-')\n",
    "sns.regplot(df, x='param',y='single')\n",
    "sns.regplot(df, x='param',y='dual')\n",
    "plt.xscale('log')\n",
    "plt.ylim([0,0.25])\n",
    "\n",
    "#plt.xlim([5*10**6,10**8])\n",
    "plt.xlabel('Non-Embedding Parameter Count')\n",
    "plt.ylabel('Absolute Test Loss')\n",
    "plt.legend(['_nolegend_',\"1-modal\",'_nolegend_','_nolegend_',\"2-modal\"]) \n",
    "#, \"1-modal\", \"2-modal\"])"
   ]
  },
  {
   "cell_type": "code",
   "execution_count": 7,
   "id": "bfe36d3b",
   "metadata": {},
   "outputs": [],
   "source": [
    "from safetensors.torch import load_model\n",
    "import json\n",
    "import os\n",
    "import torch"
   ]
  },
  {
   "cell_type": "code",
   "execution_count": 8,
   "id": "19f7faf5",
   "metadata": {},
   "outputs": [],
   "source": [
    "from multizorromodel import BioZorro"
   ]
  },
  {
   "cell_type": "code",
   "execution_count": 9,
   "id": "64b861ad",
   "metadata": {},
   "outputs": [],
   "source": [
    "output_dir = 'training_output_01_12_20_10_2023'\n",
    "with open(os.path.join(output_dir,'model_config.json'),'r') as f:\n",
    "    model_config = json.load(f)"
   ]
  },
  {
   "cell_type": "code",
   "execution_count": 38,
   "id": "cb290f64",
   "metadata": {},
   "outputs": [
    {
     "ename": "TypeError",
     "evalue": "'DataLoader' object is not an iterator",
     "output_type": "error",
     "traceback": [
      "\u001b[0;31m---------------------------------------------------------------------------\u001b[0m",
      "\u001b[0;31mTypeError\u001b[0m                                 Traceback (most recent call last)",
      "\u001b[0;32m/tmp/ipykernel_211598/3319517096.py\u001b[0m in \u001b[0;36m<module>\u001b[0;34m\u001b[0m\n\u001b[1;32m      1\u001b[0m \u001b[0mmodel\u001b[0m \u001b[0;34m=\u001b[0m \u001b[0mBioZorro\u001b[0m\u001b[0;34m(\u001b[0m\u001b[0;34m**\u001b[0m\u001b[0mmodel_config\u001b[0m\u001b[0;34m)\u001b[0m\u001b[0;34m\u001b[0m\u001b[0;34m\u001b[0m\u001b[0m\n\u001b[1;32m      2\u001b[0m \u001b[0mmodel\u001b[0m\u001b[0;34m.\u001b[0m\u001b[0meval\u001b[0m\u001b[0;34m(\u001b[0m\u001b[0;34m)\u001b[0m\u001b[0;34m\u001b[0m\u001b[0;34m\u001b[0m\u001b[0m\n\u001b[0;32m----> 3\u001b[0;31m \u001b[0mbatch\u001b[0m\u001b[0;34m=\u001b[0m\u001b[0mnext\u001b[0m\u001b[0;34m(\u001b[0m\u001b[0mdataloader\u001b[0m\u001b[0;34m)\u001b[0m\u001b[0;34m\u001b[0m\u001b[0;34m\u001b[0m\u001b[0m\n\u001b[0m\u001b[1;32m      4\u001b[0m \u001b[0;32mwith\u001b[0m \u001b[0mtorch\u001b[0m\u001b[0;34m.\u001b[0m\u001b[0mno_grad\u001b[0m\u001b[0;34m(\u001b[0m\u001b[0;34m)\u001b[0m\u001b[0;34m:\u001b[0m\u001b[0;34m\u001b[0m\u001b[0;34m\u001b[0m\u001b[0m\n\u001b[1;32m      5\u001b[0m     \u001b[0mprint\u001b[0m\u001b[0;34m(\u001b[0m\u001b[0mmodel\u001b[0m\u001b[0;34m(\u001b[0m\u001b[0;34m**\u001b[0m\u001b[0mbatch\u001b[0m\u001b[0;34m)\u001b[0m\u001b[0;34m)\u001b[0m\u001b[0;34m\u001b[0m\u001b[0;34m\u001b[0m\u001b[0m\n",
      "\u001b[0;31mTypeError\u001b[0m: 'DataLoader' object is not an iterator"
     ]
    }
   ],
   "source": [
    "model = BioZorro(**model_config)\n",
    "model.eval()\n",
    "with torch.no_grad():\n",
    "    print(model(**batch))"
   ]
  },
  {
   "cell_type": "code",
   "execution_count": 21,
   "id": "864ad679",
   "metadata": {},
   "outputs": [],
   "source": [
    "batch['spliced_index'][0]=batch['spliced_index'][0]*0\n",
    "batch['unspliced_index'][0]=batch['unspliced_index'][0]*0"
   ]
  },
  {
   "cell_type": "code",
   "execution_count": 22,
   "id": "a9f6a2c2",
   "metadata": {},
   "outputs": [],
   "source": [
    "load_model(model,os.path.join(output_dir,'model.safetensors'))\n",
    "with torch.no_grad():\n",
    "    output2 = model(**batch)"
   ]
  },
  {
   "cell_type": "code",
   "execution_count": 37,
   "id": "b25263bc",
   "metadata": {},
   "outputs": [
    {
     "name": "stdout",
     "output_type": "stream",
     "text": [
      "0,0,0.9985465407371521\n",
      "0,1,0.999943196773529\n",
      "0,2,0.9998410940170288\n",
      "0,3,0.9999967217445374\n",
      "1,0,0.9985379576683044\n",
      "1,1,1.0\n",
      "1,2,0.9998170733451843\n",
      "1,3,0.9999403953552246\n",
      "2,0,0.9991580843925476\n",
      "2,1,0.9998170733451843\n",
      "2,2,1.0\n",
      "2,3,0.9998403787612915\n",
      "3,0,0.9985941052436829\n",
      "3,1,0.9999403953552246\n",
      "3,2,0.9998403787612915\n",
      "3,3,1.000000238418579\n"
     ]
    }
   ],
   "source": [
    "cos = torch.nn.CosineSimilarity(dim=0)\n",
    "for i in range(4):\n",
    "    for j in range(4):\n",
    "        print(f\"{i},{j},{cos(output.expression[i],output2.expression[j])}\")"
   ]
  },
  {
   "cell_type": "code",
   "execution_count": 32,
   "id": "ef70a4bd",
   "metadata": {},
   "outputs": [
    {
     "data": {
      "text/plain": [
       "[<matplotlib.lines.Line2D at 0x7f4d18a03150>]"
      ]
     },
     "execution_count": 32,
     "metadata": {},
     "output_type": "execute_result"
    },
    {
     "data": {
      "image/png": "[encoded data removed]",
      "text/plain": [
       "<Figure size 640x480 with 1 Axes>"
      ]
     },
     "metadata": {},
     "output_type": "display_data"
    }
   ],
   "source": [
    "import matplotlib.pyplot as plt\n",
    "plt.plot(output.fusion[0].T, output2.fusion[0].T,'x')\n",
    "plt.plot(output.fusion[1].T, output2.fusion[3].T,'x')"
   ]
  },
  {
   "cell_type": "code",
   "execution_count": 33,
   "id": "f7cb34d4",
   "metadata": {},
   "outputs": [
    {
     "data": {
      "text/plain": [
       "[<matplotlib.lines.Line2D at 0x7f4d18968e90>]"
      ]
     },
     "execution_count": 33,
     "metadata": {},
     "output_type": "execute_result"
    },
    {
     "data": {
      "image/png": "[encoded data removed]",
      "text/plain": [
       "<Figure size 640x480 with 1 Axes>"
      ]
     },
     "metadata": {},
     "output_type": "display_data"
    }
   ],
   "source": [
    "plt.plot(output.expression[1].T, output2.expression[3].T,'x')"
   ]
  },
  {
   "cell_type": "code",
   "execution_count": 34,
   "id": "2788b351",
   "metadata": {},
   "outputs": [
    {
     "data": {
      "text/plain": [
       "BioZorroPretrainingLossOutput(losses=BioZorroPretrainingLossesCollection(contrastive_loss_spliced_unspliced=tensor(2.3823), contrastive_loss_spliced_expression=tensor(2.4260), contrastive_loss_unspliced_expression=tensor(2.4111), fusion_loss_spliced=tensor(2.4038), fusion_loss_unspliced=tensor(2.3888), fusion_loss_expression=tensor(2.4176)), spliced=tensor([[-1.5832, -1.4601, -0.2050,  ..., -1.7585,  1.2598, -1.9333],\n",
       "        [-1.5915, -1.4555, -0.1885,  ..., -1.7383,  1.2732, -1.9299],\n",
       "        [-1.6027, -1.4958, -0.2016,  ..., -1.7371,  1.2661, -1.9460],\n",
       "        [-1.5828, -1.4582, -0.2081,  ..., -1.7605,  1.2556, -1.9279]]), unspliced=tensor([[-1.0044, -0.9394, -0.5861,  ...,  0.4680,  1.0373, -1.9810],\n",
       "        [-1.0128, -0.9348, -0.5697,  ...,  0.4882,  1.0506, -1.9775],\n",
       "        [-1.0240, -0.9750, -0.5828,  ...,  0.4894,  1.0435, -1.9937],\n",
       "        [-1.0040, -0.9375, -0.5893,  ...,  0.4660,  1.0331, -1.9755]]), expression=tensor([[-1.5372, -0.4407, -0.6305,  ..., -0.1013,  0.0546,  0.6794],\n",
       "        [-1.5456, -0.4361, -0.6141,  ..., -0.0811,  0.0679,  0.6828],\n",
       "        [-1.5568, -0.4764, -0.6272,  ..., -0.0799,  0.0608,  0.6667],\n",
       "        [-1.5368, -0.4388, -0.6337,  ..., -0.1033,  0.0504,  0.6848]]), fusion=tensor([[-1.2281,  0.8536, -1.5396,  ..., -0.4458, -1.7028,  0.8038],\n",
       "        [-1.2365,  0.8582, -1.5232,  ..., -0.4256, -1.6895,  0.8073],\n",
       "        [-1.2477,  0.8179, -1.5363,  ..., -0.4244, -1.6966,  0.7911],\n",
       "        [-1.2278,  0.8555, -1.5428,  ..., -0.4479, -1.7070,  0.8093]]))"
      ]
     },
     "execution_count": 34,
     "metadata": {},
     "output_type": "execute_result"
    }
   ],
   "source": [
    "output"
   ]
  },
  {
   "cell_type": "markdown",
   "id": "760a0b41",
   "metadata": {},
   "source": [
    "# Attention masking tests"
   ]
  },
  {
   "cell_type": "code",
   "execution_count": 151,
   "id": "7619a177",
   "metadata": {},
   "outputs": [],
   "source": [
    "token_types = torch.tensor(list((\n",
    "    *((0,) * 512),\n",
    "    *((1,) * 512),\n",
    "    *((2,) * 512),\n",
    ")), dtype=torch.long)"
   ]
  },
  {
   "cell_type": "code",
   "execution_count": 152,
   "id": "a3e4afc7",
   "metadata": {},
   "outputs": [
    {
     "data": {
      "text/plain": [
       "torch.Size([1536])"
      ]
     },
     "execution_count": 152,
     "metadata": {},
     "output_type": "execute_result"
    }
   ],
   "source": [
    "token_types.shape"
   ]
  },
  {
   "cell_type": "code",
   "execution_count": 153,
   "id": "fe64d085",
   "metadata": {},
   "outputs": [],
   "source": [
    "from einops import rearrange"
   ]
  },
  {
   "cell_type": "code",
   "execution_count": 154,
   "id": "0c0ca3c8",
   "metadata": {},
   "outputs": [],
   "source": [
    "token_types_attend_from = rearrange(token_types, 'i -> i 1')\n",
    "token_types_attend_to = rearrange(token_types, 'j -> 1 j')"
   ]
  },
  {
   "cell_type": "code",
   "execution_count": 155,
   "id": "a010b590",
   "metadata": {},
   "outputs": [],
   "source": [
    "zorro_mask = token_types_attend_from == token_types_attend_to"
   ]
  },
  {
   "cell_type": "code",
   "execution_count": 156,
   "id": "4545d3a5",
   "metadata": {},
   "outputs": [],
   "source": [
    "zorro_mask = zorro_mask | (token_types_attend_from == 1)"
   ]
  },
  {
   "cell_type": "code",
   "execution_count": 157,
   "id": "589ae62d",
   "metadata": {},
   "outputs": [
    {
     "data": {
      "text/plain": [
       "torch.Size([1536, 1536])"
      ]
     },
     "execution_count": 157,
     "metadata": {},
     "output_type": "execute_result"
    }
   ],
   "source": [
    "zorro_mask.shape"
   ]
  },
  {
   "cell_type": "code",
   "execution_count": 158,
   "id": "c97fb03d",
   "metadata": {},
   "outputs": [
    {
     "data": {
      "text/plain": [
       "<matplotlib.image.AxesImage at 0x7fb0b101b610>"
      ]
     },
     "execution_count": 158,
     "metadata": {},
     "output_type": "execute_result"
    },
    {
     "data": {
      "image/png": "[encoded data removed]",
      "text/plain": [
       "<Figure size 640x480 with 1 Axes>"
      ]
     },
     "metadata": {},
     "output_type": "display_data"
    }
   ],
   "source": [
    "import matplotlib.pyplot as plt\n",
    "plt.imshow(zorro_mask)"
   ]
  },
  {
   "cell_type": "code",
   "execution_count": 170,
   "id": "a6ef6979",
   "metadata": {},
   "outputs": [
    {
     "ename": "RuntimeError",
     "evalue": "Sizes of tensors must match except in dimension 1. Expected size 4 but got size 16 for tensor number 3 in the list.",
     "output_type": "error",
     "traceback": [
      "\u001b[0;31m---------------------------------------------------------------------------\u001b[0m",
      "\u001b[0;31mRuntimeError\u001b[0m                              Traceback (most recent call last)",
      "\u001b[0;32m/tmp/ipykernel_110398/140192134.py\u001b[0m in \u001b[0;36m<module>\u001b[0;34m\u001b[0m\n\u001b[1;32m      5\u001b[0m     \u001b[0mbatch\u001b[0m\u001b[0;34m[\u001b[0m\u001b[0;34m'unspliced_index'\u001b[0m\u001b[0;34m]\u001b[0m \u001b[0;34m==\u001b[0m \u001b[0;36m0\u001b[0m\u001b[0;34m,\u001b[0m\u001b[0;34m\u001b[0m\u001b[0;34m\u001b[0m\u001b[0m\n\u001b[1;32m      6\u001b[0m     \u001b[0mtorch\u001b[0m\u001b[0;34m.\u001b[0m\u001b[0mtensor\u001b[0m\u001b[0;34m(\u001b[0m\u001b[0;34m(\u001b[0m\u001b[0;32mTrue\u001b[0m\u001b[0;34m,\u001b[0m\u001b[0;34m)\u001b[0m \u001b[0;34m*\u001b[0m \u001b[0;36m16\u001b[0m\u001b[0;34m)\u001b[0m\u001b[0;34m,\u001b[0m\u001b[0;34m\u001b[0m\u001b[0;34m\u001b[0m\u001b[0m\n\u001b[0;32m----> 7\u001b[0;31m     ), 'b *')\n\u001b[0m\u001b[1;32m      8\u001b[0m \u001b[0mattn_mask\u001b[0m \u001b[0;34m=\u001b[0m \u001b[0mrepeat\u001b[0m\u001b[0;34m(\u001b[0m\u001b[0mtokens\u001b[0m\u001b[0;34m,\u001b[0m \u001b[0;34m'b i -> b i j'\u001b[0m\u001b[0;34m,\u001b[0m \u001b[0mj\u001b[0m\u001b[0;34m=\u001b[0m\u001b[0mtokens\u001b[0m\u001b[0;34m.\u001b[0m\u001b[0mshape\u001b[0m\u001b[0;34m[\u001b[0m\u001b[0;34m-\u001b[0m\u001b[0;36m1\u001b[0m\u001b[0;34m]\u001b[0m\u001b[0;34m)\u001b[0m\u001b[0;34m\u001b[0m\u001b[0;34m\u001b[0m\u001b[0m\n",
      "\u001b[0;32m/shared/miniconda3/lib/python3.7/site-packages/einops/packing.py\u001b[0m in \u001b[0;36mpack\u001b[0;34m(tensors, pattern)\u001b[0m\n\u001b[1;32m     86\u001b[0m         )\n\u001b[1;32m     87\u001b[0m \u001b[0;34m\u001b[0m\u001b[0m\n\u001b[0;32m---> 88\u001b[0;31m     \u001b[0;32mreturn\u001b[0m \u001b[0mbackend\u001b[0m\u001b[0;34m.\u001b[0m\u001b[0mconcat\u001b[0m\u001b[0;34m(\u001b[0m\u001b[0mreshaped_tensors\u001b[0m\u001b[0;34m,\u001b[0m \u001b[0maxis\u001b[0m\u001b[0;34m=\u001b[0m\u001b[0mn_axes_before\u001b[0m\u001b[0;34m)\u001b[0m\u001b[0;34m,\u001b[0m \u001b[0mpacked_shapes\u001b[0m\u001b[0;34m\u001b[0m\u001b[0;34m\u001b[0m\u001b[0m\n\u001b[0m\u001b[1;32m     89\u001b[0m \u001b[0;34m\u001b[0m\u001b[0m\n\u001b[1;32m     90\u001b[0m \u001b[0;34m\u001b[0m\u001b[0m\n",
      "\u001b[0;32m/shared/miniconda3/lib/python3.7/site-packages/einops/_backends.py\u001b[0m in \u001b[0;36mconcat\u001b[0;34m(self, tensors, axis)\u001b[0m\n\u001b[1;32m    305\u001b[0m \u001b[0;34m\u001b[0m\u001b[0m\n\u001b[1;32m    306\u001b[0m     \u001b[0;32mdef\u001b[0m \u001b[0mconcat\u001b[0m\u001b[0;34m(\u001b[0m\u001b[0mself\u001b[0m\u001b[0;34m,\u001b[0m \u001b[0mtensors\u001b[0m\u001b[0;34m,\u001b[0m \u001b[0maxis\u001b[0m\u001b[0;34m:\u001b[0m \u001b[0mint\u001b[0m\u001b[0;34m)\u001b[0m\u001b[0;34m:\u001b[0m\u001b[0;34m\u001b[0m\u001b[0;34m\u001b[0m\u001b[0m\n\u001b[0;32m--> 307\u001b[0;31m         \u001b[0;32mreturn\u001b[0m \u001b[0mself\u001b[0m\u001b[0;34m.\u001b[0m\u001b[0mtorch\u001b[0m\u001b[0;34m.\u001b[0m\u001b[0mcat\u001b[0m\u001b[0;34m(\u001b[0m\u001b[0mtensors\u001b[0m\u001b[0;34m,\u001b[0m \u001b[0mdim\u001b[0m\u001b[0;34m=\u001b[0m\u001b[0maxis\u001b[0m\u001b[0;34m)\u001b[0m\u001b[0;34m\u001b[0m\u001b[0;34m\u001b[0m\u001b[0m\n\u001b[0m\u001b[1;32m    308\u001b[0m \u001b[0;34m\u001b[0m\u001b[0m\n\u001b[1;32m    309\u001b[0m     \u001b[0;32mdef\u001b[0m \u001b[0madd_axis\u001b[0m\u001b[0;34m(\u001b[0m\u001b[0mself\u001b[0m\u001b[0;34m,\u001b[0m \u001b[0mx\u001b[0m\u001b[0;34m,\u001b[0m \u001b[0mnew_position\u001b[0m\u001b[0;34m)\u001b[0m\u001b[0;34m:\u001b[0m\u001b[0;34m\u001b[0m\u001b[0;34m\u001b[0m\u001b[0m\n",
      "\u001b[0;31mRuntimeError\u001b[0m: Sizes of tensors must match except in dimension 1. Expected size 4 but got size 16 for tensor number 3 in the list."
     ]
    }
   ],
   "source": [
    "from einops import pack,repeat\n",
    "tokens, ps = pack((\n",
    "    batch['expression_index'] == 0,\n",
    "    batch['spliced_index'] == 0,\n",
    "    batch['unspliced_index'] == 0,\n",
    "   #Also need fusion tokens here torch.tensor((True,) * 16),\n",
    "    ), 'b *')\n",
    "attn_mask = repeat(tokens, 'b i -> b i j', j=tokens.shape[-1])"
   ]
  },
  {
   "cell_type": "code",
   "execution_count": 172,
   "id": "20d17533",
   "metadata": {},
   "outputs": [
    {
     "data": {
      "text/plain": [
       "torch.Size([4, 1, 1536, 1536])"
      ]
     },
     "execution_count": 172,
     "metadata": {},
     "output_type": "execute_result"
    }
   ],
   "source": [
    "attn_mask.unsqueeze(1).shape"
   ]
  },
  {
   "cell_type": "code",
   "execution_count": 165,
   "id": "679a2b04",
   "metadata": {},
   "outputs": [
    {
     "data": {
      "text/plain": [
       "<matplotlib.image.AxesImage at 0x7fb0b0e9d550>"
      ]
     },
     "execution_count": 165,
     "metadata": {},
     "output_type": "execute_result"
    },
    {
     "data": {
      "image/png": "[encoded data removed]",
      "text/plain": [
       "<Figure size 640x480 with 1 Axes>"
      ]
     },
     "metadata": {},
     "output_type": "display_data"
    }
   ],
   "source": [
    "plt.imshow(attn_mask[2,:,:] * zorro_mask)"
   ]
  },
  {
   "cell_type": "code",
   "execution_count": 39,
   "id": "613b0cec",
   "metadata": {},
   "outputs": [
    {
     "data": {
      "text/plain": [
       "tensor([])"
      ]
     },
     "execution_count": 39,
     "metadata": {},
     "output_type": "execute_result"
    }
   ],
   "source": [
    "torch.empty(0)"
   ]
  },
  {
   "cell_type": "code",
   "execution_count": 40,
   "id": "1ee6898d",
   "metadata": {},
   "outputs": [
    {
     "data": {
      "text/plain": [
       "{'expression_index': tensor([[ 74,  99, 237,  ...,   0,   0,   0],\n",
       "         [ 29, 110, 120,  ...,   0,   0,   0],\n",
       "         [ 18, 194, 208,  ...,   0,   0,   0],\n",
       "         [ 24,  29, 160,  ...,   0,   0,   0]]),\n",
       " 'spliced_index': tensor([[  0,   0,   0,  ...,   0,   0,   0],\n",
       "         [ 29, 110, 120,  ...,   0,   0,   0],\n",
       "         [194, 406, 565,  ...,   0,   0,   0],\n",
       "         [191, 194, 358,  ...,   0,   0,   0]]),\n",
       " 'unspliced_index': tensor([[  0,   0,   0,  ...,   0,   0,   0],\n",
       "         [181, 196, 358,  ...,   0,   0,   0],\n",
       "         [208, 239, 371,  ...,   0,   0,   0],\n",
       "         [ 24,  29, 718,  ...,   0,   0,   0]]),\n",
       " 'expression_data': tensor([[1., 1., 1.,  ..., 0., 0., 0.],\n",
       "         [1., 1., 1.,  ..., 0., 0., 0.],\n",
       "         [1., 1., 1.,  ..., 0., 0., 0.],\n",
       "         [1., 1., 1.,  ..., 0., 0., 0.]]),\n",
       " 'spliced_data': tensor([[1., 1., 1.,  ..., 0., 0., 0.],\n",
       "         [1., 1., 1.,  ..., 0., 0., 0.],\n",
       "         [1., 1., 1.,  ..., 0., 0., 0.],\n",
       "         [1., 1., 1.,  ..., 0., 0., 0.]]),\n",
       " 'unspliced_data': tensor([[1., 1., 1.,  ..., 0., 0., 0.],\n",
       "         [1., 1., 2.,  ..., 0., 0., 0.],\n",
       "         [1., 1., 1.,  ..., 0., 0., 0.],\n",
       "         [1., 1., 2.,  ..., 0., 0., 0.]])}"
      ]
     },
     "execution_count": 40,
     "metadata": {},
     "output_type": "execute_result"
    }
   ],
   "source": [
    "batch"
   ]
  },
  {
   "cell_type": "code",
   "execution_count": null,
   "id": "1d8213e7",
   "metadata": {},
   "outputs": [],
   "source": []
  }
 ],
 "metadata": {
  "kernelspec": {
   "display_name": "Python 3 (ipykernel)",
   "language": "python",
   "name": "python3"
  },
  "language_info": {
   "codemirror_mode": {
    "name": "ipython",
    "version": 3
   },
   "file_extension": ".py",
   "mimetype": "text/x-python",
   "name": "python",
   "nbconvert_exporter": "python",
   "pygments_lexer": "ipython3",
   "version": "3.7.15"
  }
 },
 "nbformat": 4,
 "nbformat_minor": 5
}
