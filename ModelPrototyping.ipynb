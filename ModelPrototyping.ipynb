{
 "cells": [
  {
   "cell_type": "code",
   "execution_count": 1,
   "id": "8c0025fc",
   "metadata": {},
   "outputs": [],
   "source": [
    "from biozorromodel import BioZorro\n",
    "from datasets import load_from_disk\n",
    "from encoders import BioZorroCollator"
   ]
  },
  {
   "cell_type": "code",
   "execution_count": 2,
   "id": "e5d908e5",
   "metadata": {},
   "outputs": [],
   "source": [
    "lm_datasets = load_from_disk('data/filtered_protein_mrna_genes')"
   ]
  },
  {
   "cell_type": "code",
   "execution_count": 3,
   "id": "0da9ce11",
   "metadata": {},
   "outputs": [],
   "source": [
    "lm_datasets = lm_datasets.rename_column('total_index','expression_index')\n",
    "lm_datasets = lm_datasets.rename_column('total_data','expression_data')\n"
   ]
  },
  {
   "cell_type": "code",
   "execution_count": null,
   "id": "1778e965",
   "metadata": {},
   "outputs": [],
   "source": []
  },
  {
   "cell_type": "code",
   "execution_count": 4,
   "id": "80518bf6",
   "metadata": {},
   "outputs": [],
   "source": [
    "#keep =  ['spliced_index', 'unspliced_index', 'spliced_data', 'unspliced_data']\n",
    "keep = ['expression_index','expression_data','spliced_index', 'unspliced_index', 'spliced_data', 'unspliced_data']\n",
    "remove = list()\n",
    "for key in lm_datasets.features.keys():\n",
    "    if key not in keep:\n",
    "        remove.append(key)\n",
    "lm_datasets = lm_datasets.remove_columns(remove)"
   ]
  },
  {
   "cell_type": "code",
   "execution_count": 130,
   "id": "764352e3",
   "metadata": {},
   "outputs": [],
   "source": [
    "from torch.utils.data import DataLoader\n",
    "default_data_collator = BioZorroCollator(pad_len=512, pad_token=0)\n",
    "dataloader = DataLoader(lm_datasets.with_format('torch'), shuffle=True, collate_fn=default_data_collator, batch_size=4,)"
   ]
  },
  {
   "cell_type": "code",
   "execution_count": 134,
   "id": "ea23a535",
   "metadata": {
    "scrolled": true
   },
   "outputs": [
    {
     "data": {
      "text/plain": [
       "{'expression_index': tensor([[   9,   29,   34,  ..., 8725, 8740, 8771],\n",
       "         [  12,  103,  133,  ...,    0,    0,    0],\n",
       "         [  46,  191,  194,  ...,    0,    0,    0],\n",
       "         [  12,   29,  134,  ...,    0,    0,    0]]),\n",
       " 'spliced_index': tensor([[    9,    29,    46,  ..., 16569, 16598, 16649],\n",
       "         [   12,   103,   358,  ...,     0,     0,     0],\n",
       "         [   46,   194,   476,  ...,     0,     0,     0],\n",
       "         [  159,   191,   204,  ...,     0,     0,     0]]),\n",
       " 'unspliced_index': tensor([[ 34, 120, 158,  ...,   0,   0,   0],\n",
       "         [133, 158, 231,  ...,   0,   0,   0],\n",
       "         [191, 426, 501,  ...,   0,   0,   0],\n",
       "         [ 12,  29, 134,  ...,   0,   0,   0]]),\n",
       " 'expression_data': tensor([[1., 1., 1.,  ..., 1., 1., 2.],\n",
       "         [1., 1., 1.,  ..., 0., 0., 0.],\n",
       "         [1., 1., 1.,  ..., 0., 0., 0.],\n",
       "         [1., 1., 1.,  ..., 0., 0., 0.]]),\n",
       " 'spliced_data': tensor([[1., 1., 1.,  ..., 1., 1., 1.],\n",
       "         [1., 1., 1.,  ..., 0., 0., 0.],\n",
       "         [1., 1., 1.,  ..., 0., 0., 0.],\n",
       "         [1., 1., 1.,  ..., 0., 0., 0.]]),\n",
       " 'unspliced_data': tensor([[1., 1., 1.,  ..., 0., 0., 0.],\n",
       "         [1., 1., 1.,  ..., 0., 0., 0.],\n",
       "         [1., 2., 1.,  ..., 0., 0., 0.],\n",
       "         [1., 1., 1.,  ..., 0., 0., 0.]])}"
      ]
     },
     "execution_count": 134,
     "metadata": {},
     "output_type": "execute_result"
    }
   ],
   "source": [
    "batch = next(iter(dataloader))\n",
    "batch"
   ]
  },
  {
   "cell_type": "code",
   "execution_count": 57,
   "id": "5ddf1d68",
   "metadata": {},
   "outputs": [
    {
     "name": "stdout",
     "output_type": "stream",
     "text": [
      "703\n"
     ]
    }
   ],
   "source": [
    "#https://ai.stackexchange.com/questions/28564/how-to-determine-the-embedding-size\n",
    "import numpy as np\n",
    "vocab_size = 18817\n",
    "num_embeddings = int(75.6496 * np.log(vocab_size + 176.623) - 41.4457)\n",
    "print(num_embeddings)"
   ]
  },
  {
   "cell_type": "code",
   "execution_count": 74,
   "id": "73652be5",
   "metadata": {},
   "outputs": [
    {
     "data": {
      "text/plain": [
       "8000000.0"
      ]
     },
     "execution_count": 74,
     "metadata": {},
     "output_type": "execute_result"
    }
   ],
   "source": [
    "2.5*10**5*256/8"
   ]
  },
  {
   "cell_type": "code",
   "execution_count": 62,
   "id": "1b70f293",
   "metadata": {},
   "outputs": [],
   "source": [
    "config = {\n",
    "    \"dim\": num_embeddings, #hidden size\n",
    "    \"depth\": 3, #layers\n",
    "    \"spliced_input_dim\": num_embeddings, #embedding_size\n",
    "    \"unspliced_input_dim\": num_embeddings,\n",
    "    \"dim_head\":64, #don't know, head hidden size?\n",
    "    \"heads\": 4, #num heads\n",
    "    \"ff_mult\": 4, #Feed forward multiplier\n",
    "    \"num_fusion_tokens\": 16,\n",
    "    \"vocab_size\": vocab_size\n",
    "}\n",
    "\n",
    "model = BioZorro(**config)"
   ]
  },
  {
   "cell_type": "code",
   "execution_count": 63,
   "id": "634ab8a1",
   "metadata": {},
   "outputs": [
    {
     "name": "stdout",
     "output_type": "stream",
     "text": [
      "return_tokens:0.002109\n",
      "fusion_tokens:0.011248\n",
      "loss.contrastive_loss.logit_scale:1e-06\n",
      "attn_pool.norm.gamma:0.000703\n",
      "attn_pool.to_q.weight:0.179968\n",
      "attn_pool.to_kv.weight:0.359936\n",
      "attn_pool.to_out.weight:0.179968\n",
      "spliced_embedding.gene_encoder.embedding.weight:13.228351\n",
      "spliced_embedding.gene_encoder.enc_norm.weight:0.000703\n",
      "spliced_embedding.gene_encoder.enc_norm.bias:0.000703\n",
      "spliced_embedding.counts_encoder.linear1.weight:0.000703\n",
      "spliced_embedding.counts_encoder.linear1.bias:0.000703\n",
      "spliced_embedding.counts_encoder.linear2.weight:0.494209\n",
      "spliced_embedding.counts_encoder.linear2.bias:0.000703\n",
      "spliced_embedding.counts_encoder.norm.weight:0.000703\n",
      "spliced_embedding.counts_encoder.norm.bias:0.000703\n",
      "unspliced_embedding.gene_encoder.embedding.weight:13.228351\n",
      "unspliced_embedding.gene_encoder.enc_norm.weight:0.000703\n",
      "unspliced_embedding.gene_encoder.enc_norm.bias:0.000703\n",
      "unspliced_embedding.counts_encoder.linear1.weight:0.000703\n",
      "unspliced_embedding.counts_encoder.linear1.bias:0.000703\n",
      "unspliced_embedding.counts_encoder.linear2.weight:0.494209\n",
      "unspliced_embedding.counts_encoder.linear2.bias:0.000703\n",
      "unspliced_embedding.counts_encoder.norm.weight:0.000703\n",
      "unspliced_embedding.counts_encoder.norm.bias:0.000703\n",
      "layers.0.attn.norm.gamma:0.000703\n",
      "layers.0.attn.to_q.weight:0.179968\n",
      "layers.0.attn.to_kv.weight:0.359936\n",
      "layers.0.attn.to_out.weight:0.179968\n",
      "layers.0.ff.0.gamma:0.000703\n",
      "layers.0.ff.1.weight:2.634844\n",
      "layers.0.ff.3.weight:1.317422\n",
      "layers.1.attn.norm.gamma:0.000703\n",
      "layers.1.attn.to_q.weight:0.179968\n",
      "layers.1.attn.to_kv.weight:0.359936\n",
      "layers.1.attn.to_out.weight:0.179968\n",
      "layers.1.ff.0.gamma:0.000703\n",
      "layers.1.ff.1.weight:2.634844\n",
      "layers.1.ff.3.weight:1.317422\n",
      "layers.2.attn.norm.gamma:0.000703\n",
      "layers.2.attn.to_q.weight:0.179968\n",
      "layers.2.attn.to_kv.weight:0.359936\n",
      "layers.2.attn.to_out.weight:0.179968\n",
      "layers.2.ff.0.gamma:0.000703\n",
      "layers.2.ff.1.weight:2.634844\n",
      "layers.2.ff.3.weight:1.317422\n",
      "norm.gamma:0.000703\n"
     ]
    }
   ],
   "source": [
    "for n,p in model.named_parameters():\n",
    "    if p.requires_grad:\n",
    "        print(f\"{n}:{p.numel()/10**6}\")"
   ]
  },
  {
   "cell_type": "code",
   "execution_count": 61,
   "id": "a2bd2090",
   "metadata": {},
   "outputs": [
    {
     "ename": "RuntimeError",
     "evalue": "Sizes of tensors must match except in dimension 1. Expected size 703 but got size 128 for tensor number 1 in the list.",
     "output_type": "error",
     "traceback": [
      "\u001b[0;31m---------------------------------------------------------------------------\u001b[0m",
      "\u001b[0;31mRuntimeError\u001b[0m                              Traceback (most recent call last)",
      "\u001b[0;32m/tmp/ipykernel_2286344/1682758643.py\u001b[0m in \u001b[0;36m<module>\u001b[0;34m\u001b[0m\n\u001b[0;32m----> 1\u001b[0;31m \u001b[0moutputs\u001b[0m \u001b[0;34m=\u001b[0m \u001b[0mmodel\u001b[0m\u001b[0;34m(\u001b[0m\u001b[0;34m**\u001b[0m\u001b[0mbatch\u001b[0m\u001b[0;34m)\u001b[0m\u001b[0;34m\u001b[0m\u001b[0;34m\u001b[0m\u001b[0m\n\u001b[0m",
      "\u001b[0;32m/shared/miniconda3/lib/python3.7/site-packages/torch/nn/modules/module.py\u001b[0m in \u001b[0;36m_call_impl\u001b[0;34m(self, *input, **kwargs)\u001b[0m\n\u001b[1;32m   1192\u001b[0m         if not (self._backward_hooks or self._forward_hooks or self._forward_pre_hooks or _global_backward_hooks\n\u001b[1;32m   1193\u001b[0m                 or _global_forward_hooks or _global_forward_pre_hooks):\n\u001b[0;32m-> 1194\u001b[0;31m             \u001b[0;32mreturn\u001b[0m \u001b[0mforward_call\u001b[0m\u001b[0;34m(\u001b[0m\u001b[0;34m*\u001b[0m\u001b[0minput\u001b[0m\u001b[0;34m,\u001b[0m \u001b[0;34m**\u001b[0m\u001b[0mkwargs\u001b[0m\u001b[0;34m)\u001b[0m\u001b[0;34m\u001b[0m\u001b[0;34m\u001b[0m\u001b[0m\n\u001b[0m\u001b[1;32m   1195\u001b[0m         \u001b[0;31m# Do not call functions when jit is used\u001b[0m\u001b[0;34m\u001b[0m\u001b[0;34m\u001b[0m\u001b[0;34m\u001b[0m\u001b[0m\n\u001b[1;32m   1196\u001b[0m         \u001b[0mfull_backward_hooks\u001b[0m\u001b[0;34m,\u001b[0m \u001b[0mnon_full_backward_hooks\u001b[0m \u001b[0;34m=\u001b[0m \u001b[0;34m[\u001b[0m\u001b[0;34m]\u001b[0m\u001b[0;34m,\u001b[0m \u001b[0;34m[\u001b[0m\u001b[0;34m]\u001b[0m\u001b[0;34m\u001b[0m\u001b[0;34m\u001b[0m\u001b[0m\n",
      "\u001b[0;32m/efs-private/multimodal/biozorromodel.py\u001b[0m in \u001b[0;36mforward\u001b[0;34m(self, spliced_data, spliced_index, unspliced_data, unspliced_index, return_token_indices)\u001b[0m\n\u001b[1;32m    281\u001b[0m             \u001b[0mfusion_tokens\u001b[0m\u001b[0;34m,\u001b[0m\u001b[0;34m\u001b[0m\u001b[0;34m\u001b[0m\u001b[0m\n\u001b[1;32m    282\u001b[0m             \u001b[0munspliced_tokens\u001b[0m\u001b[0;34m\u001b[0m\u001b[0;34m\u001b[0m\u001b[0m\n\u001b[0;32m--> 283\u001b[0;31m         ), 'b * d')\n\u001b[0m\u001b[1;32m    284\u001b[0m \u001b[0;34m\u001b[0m\u001b[0m\n\u001b[1;32m    285\u001b[0m         \u001b[0;31m# construct mask (thus zorro)\u001b[0m\u001b[0;34m\u001b[0m\u001b[0;34m\u001b[0m\u001b[0;34m\u001b[0m\u001b[0m\n",
      "\u001b[0;32m/shared/miniconda3/lib/python3.7/site-packages/einops/packing.py\u001b[0m in \u001b[0;36mpack\u001b[0;34m(tensors, pattern)\u001b[0m\n\u001b[1;32m     86\u001b[0m         )\n\u001b[1;32m     87\u001b[0m \u001b[0;34m\u001b[0m\u001b[0m\n\u001b[0;32m---> 88\u001b[0;31m     \u001b[0;32mreturn\u001b[0m \u001b[0mbackend\u001b[0m\u001b[0;34m.\u001b[0m\u001b[0mconcat\u001b[0m\u001b[0;34m(\u001b[0m\u001b[0mreshaped_tensors\u001b[0m\u001b[0;34m,\u001b[0m \u001b[0maxis\u001b[0m\u001b[0;34m=\u001b[0m\u001b[0mn_axes_before\u001b[0m\u001b[0;34m)\u001b[0m\u001b[0;34m,\u001b[0m \u001b[0mpacked_shapes\u001b[0m\u001b[0;34m\u001b[0m\u001b[0;34m\u001b[0m\u001b[0m\n\u001b[0m\u001b[1;32m     89\u001b[0m \u001b[0;34m\u001b[0m\u001b[0m\n\u001b[1;32m     90\u001b[0m \u001b[0;34m\u001b[0m\u001b[0m\n",
      "\u001b[0;32m/shared/miniconda3/lib/python3.7/site-packages/einops/_backends.py\u001b[0m in \u001b[0;36mconcat\u001b[0;34m(self, tensors, axis)\u001b[0m\n\u001b[1;32m    305\u001b[0m \u001b[0;34m\u001b[0m\u001b[0m\n\u001b[1;32m    306\u001b[0m     \u001b[0;32mdef\u001b[0m \u001b[0mconcat\u001b[0m\u001b[0;34m(\u001b[0m\u001b[0mself\u001b[0m\u001b[0;34m,\u001b[0m \u001b[0mtensors\u001b[0m\u001b[0;34m,\u001b[0m \u001b[0maxis\u001b[0m\u001b[0;34m:\u001b[0m \u001b[0mint\u001b[0m\u001b[0;34m)\u001b[0m\u001b[0;34m:\u001b[0m\u001b[0;34m\u001b[0m\u001b[0;34m\u001b[0m\u001b[0m\n\u001b[0;32m--> 307\u001b[0;31m         \u001b[0;32mreturn\u001b[0m \u001b[0mself\u001b[0m\u001b[0;34m.\u001b[0m\u001b[0mtorch\u001b[0m\u001b[0;34m.\u001b[0m\u001b[0mcat\u001b[0m\u001b[0;34m(\u001b[0m\u001b[0mtensors\u001b[0m\u001b[0;34m,\u001b[0m \u001b[0mdim\u001b[0m\u001b[0;34m=\u001b[0m\u001b[0maxis\u001b[0m\u001b[0;34m)\u001b[0m\u001b[0;34m\u001b[0m\u001b[0;34m\u001b[0m\u001b[0m\n\u001b[0m\u001b[1;32m    308\u001b[0m \u001b[0;34m\u001b[0m\u001b[0m\n\u001b[1;32m    309\u001b[0m     \u001b[0;32mdef\u001b[0m \u001b[0madd_axis\u001b[0m\u001b[0;34m(\u001b[0m\u001b[0mself\u001b[0m\u001b[0;34m,\u001b[0m \u001b[0mx\u001b[0m\u001b[0;34m,\u001b[0m \u001b[0mnew_position\u001b[0m\u001b[0;34m)\u001b[0m\u001b[0;34m:\u001b[0m\u001b[0;34m\u001b[0m\u001b[0;34m\u001b[0m\u001b[0m\n",
      "\u001b[0;31mRuntimeError\u001b[0m: Sizes of tensors must match except in dimension 1. Expected size 703 but got size 128 for tensor number 1 in the list."
     ]
    }
   ],
   "source": [
    "outputs = model(**batch)"
   ]
  },
  {
   "cell_type": "code",
   "execution_count": 41,
   "id": "40c89ed3",
   "metadata": {},
   "outputs": [
    {
     "data": {
      "text/plain": [
       "BioZorroPretrainingLossOutput(losses=BioZorroPretrainingLossesCollection(contrastive_loss=tensor(10.3229, grad_fn=<DivBackward0>), fusion_loss_spliced=tensor(2.3723, grad_fn=<DivBackward0>), fusion_loss_unspliced=tensor(3.2532, grad_fn=<DivBackward0>)), spliced_output=None, unspliced_output=None, fusion_output=None)"
      ]
     },
     "execution_count": 41,
     "metadata": {},
     "output_type": "execute_result"
    }
   ],
   "source": [
    "outputs"
   ]
  },
  {
   "cell_type": "code",
   "execution_count": null,
   "id": "f730beef",
   "metadata": {},
   "outputs": [],
   "source": [
    "outputs.loss.backward()"
   ]
  },
  {
   "cell_type": "code",
   "execution_count": null,
   "id": "92cf850f",
   "metadata": {},
   "outputs": [],
   "source": [
    "import wandb\n",
    "wandb.init()"
   ]
  },
  {
   "cell_type": "code",
   "execution_count": null,
   "id": "e7092688",
   "metadata": {},
   "outputs": [],
   "source": [
    "from torch.optim import AdamW\n",
    "from tqdm import tqdm\n",
    "\n",
    "epochs=100\n",
    "optimizer = AdamW(model.parameters(), lr=0.0001)\n",
    "num_training_steps = epochs * len(dataloader)\n",
    "progress_bar = tqdm(range(num_training_steps))\n",
    "\n",
    "#print(\"Start training: {}\".format(strftime(\"%Y-%m-%d %H:%M:%S\", gmtime())))\n",
    "## Start model training and defining the training loop\n",
    "model.train()\n",
    "for epoch in range(epochs):\n",
    "    for batch in dataloader:\n",
    "        #batch = {k: v.to(device) for k, v in batch.items()}\n",
    "        outputs = model(**batch)\n",
    "        optimizer.zero_grad()\n",
    "        loss = outputs.loss\n",
    "        loss.backward()\n",
    "        optimizer.step()\n",
    "        progress_bar.update(1)\n",
    "        wandb.log({\"loss\":loss.detach().to(\"cpu\")})\n",
    "    print(f\"Epoch {epoch}: loss: {loss.detach()}\")\n",
    "        #\n",
    "    #if xm.is_master_ordinal(local=False):\n",
    "    wandb.log({\"epoch_loss\":loss.detach().to(\"cpu\")})\n",
    "\n",
    "logger.info(\"End training: {}\".format(strftime(\"%Y-%m-%d %H:%M:%S\", gmtime())))"
   ]
  },
  {
   "cell_type": "code",
   "execution_count": 17,
   "id": "b1149051",
   "metadata": {},
   "outputs": [],
   "source": [
    "from collections import defaultdict\n",
    "import torch\n",
    "losses = defaultdict(lambda: torch.Tensor([0.0]).to(\"cpu\"))\n",
    "losses['test']+=torch.Tensor([1.0])"
   ]
  },
  {
   "cell_type": "markdown",
   "id": "6615af8e",
   "metadata": {},
   "source": [
    "# Scaling law results"
   ]
  },
  {
   "cell_type": "code",
   "execution_count": 5,
   "id": "a925beca",
   "metadata": {},
   "outputs": [],
   "source": [
    "import pandas as pd\n",
    "import numpy as np\n",
    "nparam = np.array([76.65,38.81,32.5, 26.23,\n",
    "                   19.94,13.64,10.50,7.35])*10**6\n",
    "nlayers = np.array([24,16,10,8,6,4,3,2])\n",
    "sm_loss = { 'fusion_spliced': [0.05217,0.055660,0.05406000, 0.04967,\n",
    "                               0.0688, 0.0625,0.06375,0.07791],\n",
    "           'fusion_unspliced':[0.05201,0.055482,0.05395645, 0.04972,\n",
    "                               0.06859,0.0624,0.06347,0.07738],\n",
    "           'contrastive_loss':[0.051933,0.05556,0.054283, 0.0499,\n",
    "                               0.06961,0.0638,0.06341,0.07857]\n",
    "}\n",
    "dm_loss = { 'fusion_spliced':[0.002226,0.004596, 0.0047380,0.003942,\n",
    "                              0.005551,0.005522,0.005401,0.01271],\n",
    "           'fusion_unspliced':[0.002172,0.0046209,0.0047747,0.004004,\n",
    "                               0.005403,0.005479,0.005485,0.01249],\n",
    "           'contrastive_loss':[0.002259,0.004727,0.0048772,0.00414,\n",
    "                               0.005551,0.005278,0.005551,0.01522]\n",
    "}\n",
    "\n",
    "dm_loss=np.array(list(dm_loss.values()))\n",
    "dm_loss = dm_loss.sum(axis=0)\n",
    "#dm_loss=dm_loss[:,:-1].sum(axis=0)\n",
    "sm_loss=np.array(list(sm_loss.values()))\n",
    "sm_loss = sm_loss.sum(axis=0)\n",
    "#sm_loss=sm_loss[:,:-1].sum(axis=0)\n",
    "#nparam=nparam[:-1]\n",
    "df = pd.DataFrame.from_dict({'dual':dm_loss,\n",
    "                             'single':sm_loss,\n",
    "                             'param':nparam})\n",
    "df_m = pd.DataFrame.from_dict({'dual':dm_loss/dm_loss.mean(),\n",
    "                               'single':sm_loss/sm_loss.mean(),\n",
    "                               'param':nparam})\n",
    "df.to_csv('prelim_scale_data.csv')"
   ]
  },
  {
   "cell_type": "code",
   "execution_count": 3,
   "id": "c4bb414a",
   "metadata": {},
   "outputs": [],
   "source": [
    "import matplotlib.pyplot as plt\n",
    "import seaborn as sns"
   ]
  },
  {
   "cell_type": "code",
   "execution_count": 4,
   "id": "61910b1a",
   "metadata": {
    "scrolled": true
   },
   "outputs": [
    {
     "name": "stderr",
     "output_type": "stream",
     "text": [
      "/shared/miniconda3/lib/python3.7/site-packages/ipykernel_launcher.py:16: UserWarning: The handle <matplotlib.collections.PathCollection object at 0x7f33337f34d0> has a label of '_nolegend_' which cannot be automatically added to the legend.\n",
      "  \n",
      "/shared/miniconda3/lib/python3.7/site-packages/ipykernel_launcher.py:16: UserWarning: The handle <matplotlib.collections.PolyCollection object at 0x7f33317b8550> has a label of '_nolegend_' which cannot be automatically added to the legend.\n",
      "  \n",
      "/shared/miniconda3/lib/python3.7/site-packages/ipykernel_launcher.py:16: UserWarning: The handle <matplotlib.collections.PathCollection object at 0x7f33317b8c10> has a label of '_nolegend_' which cannot be automatically added to the legend.\n",
      "  \n",
      "/shared/miniconda3/lib/python3.7/site-packages/ipykernel_launcher.py:28: UserWarning: The handle <matplotlib.collections.PathCollection object at 0x7f33317379d0> has a label of '_nolegend_' which cannot be automatically added to the legend.\n",
      "/shared/miniconda3/lib/python3.7/site-packages/ipykernel_launcher.py:28: UserWarning: The handle <matplotlib.collections.PolyCollection object at 0x7f33316dd290> has a label of '_nolegend_' which cannot be automatically added to the legend.\n",
      "/shared/miniconda3/lib/python3.7/site-packages/ipykernel_launcher.py:28: UserWarning: The handle <matplotlib.collections.PathCollection object at 0x7f33316dd990> has a label of '_nolegend_' which cannot be automatically added to the legend.\n"
     ]
    },
    {
     "data": {
      "text/plain": [
       "<matplotlib.legend.Legend at 0x7f333febf7d0>"
      ]
     },
     "execution_count": 4,
     "metadata": {},
     "output_type": "execute_result"
    },
    {
     "data": {
      "image/png": "[encoded data removed]",
      "text/plain": [
       "<Figure size 640x480 with 1 Axes>"
      ]
     },
     "metadata": {},
     "output_type": "display_data"
    },
    {
     "data": {
      "image/png": "[encoded data removed]",
      "text/plain": [
       "<Figure size 640x480 with 1 Axes>"
      ]
     },
     "metadata": {},
     "output_type": "display_data"
    }
   ],
   "source": [
    "sm_loss_ = sm_loss\n",
    "dm_loss_ = dm_loss\n",
    "nparam_ = nparam\n",
    "nlayers_ = nlayers\n",
    "plt.clf()\n",
    "plt.figure(1)\n",
    "#plt.plot(nparam_,np.array(sm_loss_)/sm_loss_.mean(),'o-',\n",
    "#         nparam_,np.array(dm_loss_)/dm_loss_.mean(),'x-')\n",
    "sns.regplot(df_m, x='param',y='single')\n",
    "sns.regplot(df_m, x='param',y='dual')\n",
    "plt.xscale('log')\n",
    "#plt.xlim([9*10**6,10**8])\n",
    "plt.ylim([0,2.5])\n",
    "plt.xlabel('Non-Embedding Parameter Count')\n",
    "plt.ylabel('Normalized Test Loss')\n",
    "plt.legend(['_nolegend_',\"1-modal\",'_nolegend_','_nolegend_',\"2-modal\"]) \n",
    "plt.figure(2)\n",
    "#plt.plot(nparam_,np.array(sm_loss_),'o-',\n",
    "#         nparam_,np.array(dm_loss_),'x-')\n",
    "sns.regplot(df, x='param',y='single')\n",
    "sns.regplot(df, x='param',y='dual')\n",
    "plt.xscale('log')\n",
    "plt.ylim([0,0.25])\n",
    "\n",
    "#plt.xlim([5*10**6,10**8])\n",
    "plt.xlabel('Non-Embedding Parameter Count')\n",
    "plt.ylabel('Absolute Test Loss')\n",
    "plt.legend(['_nolegend_',\"1-modal\",'_nolegend_','_nolegend_',\"2-modal\"]) \n",
    "#, \"1-modal\", \"2-modal\"])"
   ]
  },
  {
   "cell_type": "code",
   "execution_count": 11,
   "id": "7b1b6788",
   "metadata": {},
   "outputs": [],
   "source": [
    "from safetensors.torch import load_model\n",
    "import json\n",
    "import os\n",
    "import torch"
   ]
  },
  {
   "cell_type": "code",
   "execution_count": 8,
   "id": "81fc65aa",
   "metadata": {},
   "outputs": [],
   "source": [
    "from multizorromodel import BioZorro"
   ]
  },
  {
   "cell_type": "code",
   "execution_count": 9,
   "id": "9278ccbe",
   "metadata": {},
   "outputs": [],
   "source": [
    "output_dir = 'training_output_20_46_19_10_2023'\n",
    "with open(os.path.join(output_dir,'model_config.json'),'r') as f:\n",
    "    model_config = json.load(f)"
   ]
  },
  {
   "cell_type": "code",
   "execution_count": 16,
   "id": "31f0954c",
   "metadata": {},
   "outputs": [
    {
     "name": "stdout",
     "output_type": "stream",
     "text": [
      "BioZorroPretrainingLossOutput(losses=BioZorroPretrainingLossesCollection(contrastive_loss_spliced_unspliced=tensor(3.5484), contrastive_loss_spliced_expression=tensor(1.9987), contrastive_loss_unspliced_expression=tensor(2.7059), fusion_loss_spliced=tensor(5.4788), fusion_loss_unspliced=tensor(6.1860), fusion_loss_expression=tensor(5.3437)), spliced_output=None, unspliced_output=None, expression_output=None, fusion_output=None)\n"
     ]
    }
   ],
   "source": [
    "model = BioZorro(**model_config)\n",
    "model.eval()\n",
    "with torch.no_grad():\n",
    "    print(model(**batch))"
   ]
  },
  {
   "cell_type": "code",
   "execution_count": 20,
   "id": "412815de",
   "metadata": {},
   "outputs": [
    {
     "name": "stdout",
     "output_type": "stream",
     "text": [
      "BioZorroPretrainingLossOutput(losses=BioZorroPretrainingLossesCollection(contrastive_loss_spliced_unspliced=tensor(0.8836), contrastive_loss_spliced_expression=tensor(0.8539), contrastive_loss_unspliced_expression=tensor(0.8359), fusion_loss_spliced=tensor(1.0182), fusion_loss_unspliced=tensor(1.0002), fusion_loss_expression=tensor(0.9524)), spliced_output=None, unspliced_output=None, expression_output=None, fusion_output=None)\n"
     ]
    }
   ],
   "source": [
    "load_model(model,os.path.join(output_dir,'model.safetensors'))\n",
    "with torch.no_grad():\n",
    "    print(model(**batch))"
   ]
  },
  {
   "cell_type": "code",
   "execution_count": null,
   "id": "3343fc58",
   "metadata": {},
   "outputs": [],
   "source": []
  },
  {
   "cell_type": "code",
   "execution_count": 151,
   "id": "175a08b3",
   "metadata": {},
   "outputs": [],
   "source": [
    "token_types = torch.tensor(list((\n",
    "    *((0,) * 512),\n",
    "    *((1,) * 512),\n",
    "    *((2,) * 512),\n",
    ")), dtype=torch.long)"
   ]
  },
  {
   "cell_type": "code",
   "execution_count": 152,
   "id": "6c768d2f",
   "metadata": {},
   "outputs": [
    {
     "data": {
      "text/plain": [
       "torch.Size([1536])"
      ]
     },
     "execution_count": 152,
     "metadata": {},
     "output_type": "execute_result"
    }
   ],
   "source": [
    "token_types.shape"
   ]
  },
  {
   "cell_type": "code",
   "execution_count": 153,
   "id": "78d88992",
   "metadata": {},
   "outputs": [],
   "source": [
    "from einops import rearrange"
   ]
  },
  {
   "cell_type": "code",
   "execution_count": 154,
   "id": "d100a19e",
   "metadata": {},
   "outputs": [],
   "source": [
    "token_types_attend_from = rearrange(token_types, 'i -> i 1')\n",
    "token_types_attend_to = rearrange(token_types, 'j -> 1 j')"
   ]
  },
  {
   "cell_type": "code",
   "execution_count": 155,
   "id": "8c759de6",
   "metadata": {},
   "outputs": [],
   "source": [
    "zorro_mask = token_types_attend_from == token_types_attend_to"
   ]
  },
  {
   "cell_type": "code",
   "execution_count": 156,
   "id": "29a74c7d",
   "metadata": {},
   "outputs": [],
   "source": [
    "zorro_mask = zorro_mask | (token_types_attend_from == 1)"
   ]
  },
  {
   "cell_type": "code",
   "execution_count": 157,
   "id": "82f55b08",
   "metadata": {},
   "outputs": [
    {
     "data": {
      "text/plain": [
       "torch.Size([1536, 1536])"
      ]
     },
     "execution_count": 157,
     "metadata": {},
     "output_type": "execute_result"
    }
   ],
   "source": [
    "zorro_mask.shape"
   ]
  },
  {
   "cell_type": "code",
   "execution_count": 158,
   "id": "47e4dd4d",
   "metadata": {},
   "outputs": [
    {
     "data": {
      "text/plain": [
       "<matplotlib.image.AxesImage at 0x7fb0b101b610>"
      ]
     },
     "execution_count": 158,
     "metadata": {},
     "output_type": "execute_result"
    },
    {
     "data": {
      "image/png": "[encoded data removed]",
      "text/plain": [
       "<Figure size 640x480 with 1 Axes>"
      ]
     },
     "metadata": {},
     "output_type": "display_data"
    }
   ],
   "source": [
    "import matplotlib.pyplot as plt\n",
    "plt.imshow(zorro_mask)"
   ]
  },
  {
   "cell_type": "code",
   "execution_count": 170,
   "id": "2300457f",
   "metadata": {},
   "outputs": [
    {
     "ename": "RuntimeError",
     "evalue": "Sizes of tensors must match except in dimension 1. Expected size 4 but got size 16 for tensor number 3 in the list.",
     "output_type": "error",
     "traceback": [
      "\u001b[0;31m---------------------------------------------------------------------------\u001b[0m",
      "\u001b[0;31mRuntimeError\u001b[0m                              Traceback (most recent call last)",
      "\u001b[0;32m/tmp/ipykernel_110398/140192134.py\u001b[0m in \u001b[0;36m<module>\u001b[0;34m\u001b[0m\n\u001b[1;32m      5\u001b[0m     \u001b[0mbatch\u001b[0m\u001b[0;34m[\u001b[0m\u001b[0;34m'unspliced_index'\u001b[0m\u001b[0;34m]\u001b[0m \u001b[0;34m==\u001b[0m \u001b[0;36m0\u001b[0m\u001b[0;34m,\u001b[0m\u001b[0;34m\u001b[0m\u001b[0;34m\u001b[0m\u001b[0m\n\u001b[1;32m      6\u001b[0m     \u001b[0mtorch\u001b[0m\u001b[0;34m.\u001b[0m\u001b[0mtensor\u001b[0m\u001b[0;34m(\u001b[0m\u001b[0;34m(\u001b[0m\u001b[0;32mTrue\u001b[0m\u001b[0;34m,\u001b[0m\u001b[0;34m)\u001b[0m \u001b[0;34m*\u001b[0m \u001b[0;36m16\u001b[0m\u001b[0;34m)\u001b[0m\u001b[0;34m,\u001b[0m\u001b[0;34m\u001b[0m\u001b[0;34m\u001b[0m\u001b[0m\n\u001b[0;32m----> 7\u001b[0;31m     ), 'b *')\n\u001b[0m\u001b[1;32m      8\u001b[0m \u001b[0mattn_mask\u001b[0m \u001b[0;34m=\u001b[0m \u001b[0mrepeat\u001b[0m\u001b[0;34m(\u001b[0m\u001b[0mtokens\u001b[0m\u001b[0;34m,\u001b[0m \u001b[0;34m'b i -> b i j'\u001b[0m\u001b[0;34m,\u001b[0m \u001b[0mj\u001b[0m\u001b[0;34m=\u001b[0m\u001b[0mtokens\u001b[0m\u001b[0;34m.\u001b[0m\u001b[0mshape\u001b[0m\u001b[0;34m[\u001b[0m\u001b[0;34m-\u001b[0m\u001b[0;36m1\u001b[0m\u001b[0;34m]\u001b[0m\u001b[0;34m)\u001b[0m\u001b[0;34m\u001b[0m\u001b[0;34m\u001b[0m\u001b[0m\n",
      "\u001b[0;32m/shared/miniconda3/lib/python3.7/site-packages/einops/packing.py\u001b[0m in \u001b[0;36mpack\u001b[0;34m(tensors, pattern)\u001b[0m\n\u001b[1;32m     86\u001b[0m         )\n\u001b[1;32m     87\u001b[0m \u001b[0;34m\u001b[0m\u001b[0m\n\u001b[0;32m---> 88\u001b[0;31m     \u001b[0;32mreturn\u001b[0m \u001b[0mbackend\u001b[0m\u001b[0;34m.\u001b[0m\u001b[0mconcat\u001b[0m\u001b[0;34m(\u001b[0m\u001b[0mreshaped_tensors\u001b[0m\u001b[0;34m,\u001b[0m \u001b[0maxis\u001b[0m\u001b[0;34m=\u001b[0m\u001b[0mn_axes_before\u001b[0m\u001b[0;34m)\u001b[0m\u001b[0;34m,\u001b[0m \u001b[0mpacked_shapes\u001b[0m\u001b[0;34m\u001b[0m\u001b[0;34m\u001b[0m\u001b[0m\n\u001b[0m\u001b[1;32m     89\u001b[0m \u001b[0;34m\u001b[0m\u001b[0m\n\u001b[1;32m     90\u001b[0m \u001b[0;34m\u001b[0m\u001b[0m\n",
      "\u001b[0;32m/shared/miniconda3/lib/python3.7/site-packages/einops/_backends.py\u001b[0m in \u001b[0;36mconcat\u001b[0;34m(self, tensors, axis)\u001b[0m\n\u001b[1;32m    305\u001b[0m \u001b[0;34m\u001b[0m\u001b[0m\n\u001b[1;32m    306\u001b[0m     \u001b[0;32mdef\u001b[0m \u001b[0mconcat\u001b[0m\u001b[0;34m(\u001b[0m\u001b[0mself\u001b[0m\u001b[0;34m,\u001b[0m \u001b[0mtensors\u001b[0m\u001b[0;34m,\u001b[0m \u001b[0maxis\u001b[0m\u001b[0;34m:\u001b[0m \u001b[0mint\u001b[0m\u001b[0;34m)\u001b[0m\u001b[0;34m:\u001b[0m\u001b[0;34m\u001b[0m\u001b[0;34m\u001b[0m\u001b[0m\n\u001b[0;32m--> 307\u001b[0;31m         \u001b[0;32mreturn\u001b[0m \u001b[0mself\u001b[0m\u001b[0;34m.\u001b[0m\u001b[0mtorch\u001b[0m\u001b[0;34m.\u001b[0m\u001b[0mcat\u001b[0m\u001b[0;34m(\u001b[0m\u001b[0mtensors\u001b[0m\u001b[0;34m,\u001b[0m \u001b[0mdim\u001b[0m\u001b[0;34m=\u001b[0m\u001b[0maxis\u001b[0m\u001b[0;34m)\u001b[0m\u001b[0;34m\u001b[0m\u001b[0;34m\u001b[0m\u001b[0m\n\u001b[0m\u001b[1;32m    308\u001b[0m \u001b[0;34m\u001b[0m\u001b[0m\n\u001b[1;32m    309\u001b[0m     \u001b[0;32mdef\u001b[0m \u001b[0madd_axis\u001b[0m\u001b[0;34m(\u001b[0m\u001b[0mself\u001b[0m\u001b[0;34m,\u001b[0m \u001b[0mx\u001b[0m\u001b[0;34m,\u001b[0m \u001b[0mnew_position\u001b[0m\u001b[0;34m)\u001b[0m\u001b[0;34m:\u001b[0m\u001b[0;34m\u001b[0m\u001b[0;34m\u001b[0m\u001b[0m\n",
      "\u001b[0;31mRuntimeError\u001b[0m: Sizes of tensors must match except in dimension 1. Expected size 4 but got size 16 for tensor number 3 in the list."
     ]
    }
   ],
   "source": [
    "from einops import pack,repeat\n",
    "tokens, ps = pack((\n",
    "    batch['expression_index'] == 0,\n",
    "    batch['spliced_index'] == 0,\n",
    "    batch['unspliced_index'] == 0,\n",
    "   #Also need fusion tokens here torch.tensor((True,) * 16),\n",
    "    ), 'b *')\n",
    "attn_mask = repeat(tokens, 'b i -> b i j', j=tokens.shape[-1])"
   ]
  },
  {
   "cell_type": "code",
   "execution_count": 172,
   "id": "1f984f73",
   "metadata": {},
   "outputs": [
    {
     "data": {
      "text/plain": [
       "torch.Size([4, 1, 1536, 1536])"
      ]
     },
     "execution_count": 172,
     "metadata": {},
     "output_type": "execute_result"
    }
   ],
   "source": [
    "attn_mask.unsqueeze(1).shape"
   ]
  },
  {
   "cell_type": "code",
   "execution_count": 165,
   "id": "fc8c72db",
   "metadata": {},
   "outputs": [
    {
     "data": {
      "text/plain": [
       "<matplotlib.image.AxesImage at 0x7fb0b0e9d550>"
      ]
     },
     "execution_count": 165,
     "metadata": {},
     "output_type": "execute_result"
    },
    {
     "data": {
      "image/png": "[encoded data removed]",
      "text/plain": [
       "<Figure size 640x480 with 1 Axes>"
      ]
     },
     "metadata": {},
     "output_type": "display_data"
    }
   ],
   "source": [
    "plt.imshow(attn_mask[2,:,:] * zorro_mask)"
   ]
  },
  {
   "cell_type": "code",
   "execution_count": null,
   "id": "372e9c59",
   "metadata": {},
   "outputs": [],
   "source": []
  }
 ],
 "metadata": {
  "kernelspec": {
   "display_name": "Python 3 (ipykernel)",
   "language": "python",
   "name": "python3"
  },
  "language_info": {
   "codemirror_mode": {
    "name": "ipython",
    "version": 3
   },
   "file_extension": ".py",
   "mimetype": "text/x-python",
   "name": "python",
   "nbconvert_exporter": "python",
   "pygments_lexer": "ipython3",
   "version": "3.7.15"
  }
 },
 "nbformat": 4,
 "nbformat_minor": 5
}
