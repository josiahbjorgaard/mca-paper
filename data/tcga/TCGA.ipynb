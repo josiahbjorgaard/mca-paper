{
 "cells": [
  {
   "cell_type": "code",
   "execution_count": 1,
   "id": "53028046",
   "metadata": {},
   "outputs": [
    {
     "name": "stdout",
     "output_type": "stream",
     "text": [
      "EBPlusPlusAdjustPANCAN_IlluminaHiSeq_RNASeqV2.geneExp.tsv\r\n",
      "PanCanAtlas_miRNA_sample_information_list.txt\r\n",
      "TCGA-CDR-SupplementalTableS1.xlsx\r\n",
      "TCGA-RPPA-pancan-clean.txt\r\n",
      "Untitled.ipynb\r\n",
      "jhu-usc.edu_PANCAN_HumanMethylation450.betaValue_whitelisted.tsv\r\n",
      "jhu-usc.edu_PANCAN_merged_HumanMethylation27_HumanMethylation450.betaValue_whitelisted.tsv\r\n",
      "jhu-usc.hfQDEKjh.edu_PANCAN_HumanMethylation450.betaValue_whitelisted.tsv.part\r\n",
      "pancanMiRs_EBadjOnProtocolPlatformWithoutRepsWithUnCorrectMiRs_08_04_16.csv\r\n"
     ]
    }
   ],
   "source": [
    "!ls"
   ]
  },
  {
   "cell_type": "code",
   "execution_count": 2,
   "id": "d436b9a4",
   "metadata": {},
   "outputs": [],
   "source": [
    "import pandas as pd"
   ]
  },
  {
   "cell_type": "code",
   "execution_count": 5,
   "id": "8a3fd5fb",
   "metadata": {},
   "outputs": [],
   "source": [
    "df_gene=pd.read_csv('EBPlusPlusAdjustPANCAN_IlluminaHiSeq_RNASeqV2.geneExp.tsv', delimiter='\\t')"
   ]
  },
  {
   "cell_type": "code",
   "execution_count": 3,
   "id": "3c953d91",
   "metadata": {},
   "outputs": [],
   "source": [
    "#dfb=pd.read_csv('jhu-usc.edu_PANCAN_merged_HumanMethylation27_HumanMethylation450.betaValue_whitelisted.tsv', delimiter='\\t')\n",
    "df_mirna=pd.read_csv('pancanMiRs_EBadjOnProtocolPlatformWithoutRepsWithUnCorrectMiRs_08_04_16.csv') #, delimiter='\\t')"
   ]
  },
  {
   "cell_type": "code",
   "execution_count": 2,
   "id": "3d8ede2f",
   "metadata": {},
   "outputs": [],
   "source": [
    "df_meth=pd.read_csv('jhu-usc.edu_PANCAN_merged_HumanMethylation27_HumanMethylation450.betaValue_whitelisted.tsv', delimiter='\\t')"
   ]
  },
  {
   "cell_type": "code",
   "execution_count": 4,
   "id": "f5c8ea16",
   "metadata": {},
   "outputs": [],
   "source": [
    "df_rppa=pd.read_csv('TCGA-RPPA-pancan-clean.txt', delimiter='\\t')"
   ]
  },
  {
   "cell_type": "code",
   "execution_count": 5,
   "id": "bf9b657d",
   "metadata": {},
   "outputs": [
    {
     "name": "stdout",
     "output_type": "stream",
     "text": [
      "(743, 10826)\n",
      "(7790, 200)\n"
     ]
    }
   ],
   "source": [
    "#print(df_gene.shape)\n",
    "print(df_mirna.shape)\n",
    "#print(df_meth.shape)\n",
    "print(df_rppa.shape)"
   ]
  },
  {
   "cell_type": "code",
   "execution_count": 12,
   "id": "c73f3a20",
   "metadata": {},
   "outputs": [],
   "source": [
    "df_mirna = df_mirna[df_mirna.Correction == \"Corrected\"].set_index('Genes').drop('Correction',axis=1)"
   ]
  },
  {
   "cell_type": "code",
   "execution_count": 13,
   "id": "1b58d5fd",
   "metadata": {},
   "outputs": [],
   "source": [
    "df_mirna.to_csv('mirna_proc.csv')"
   ]
  },
  {
   "cell_type": "code",
   "execution_count": 19,
   "id": "f997b528",
   "metadata": {},
   "outputs": [],
   "source": [
    "df_rppa.set_index('SampleID').T.drop('TumorType').to_csv('rppa_proc.csv')"
   ]
  },
  {
   "cell_type": "code",
   "execution_count": 6,
   "id": "565aeebe",
   "metadata": {},
   "outputs": [],
   "source": [
    "#df_meth = df_meth.set_index('Composite Element REF')\n",
    "df_gene = df_gene.set_index('gene_id')"
   ]
  },
  {
   "cell_type": "code",
   "execution_count": 9,
   "id": "d10e2193",
   "metadata": {},
   "outputs": [
    {
     "data": {
      "text/plain": [
       "(22601,)"
      ]
     },
     "execution_count": 9,
     "metadata": {},
     "output_type": "execute_result"
    }
   ],
   "source": [
    "df_meth.mean(axis=1).shape"
   ]
  },
  {
   "cell_type": "code",
   "execution_count": 7,
   "id": "f33330bc",
   "metadata": {},
   "outputs": [
    {
     "name": "stderr",
     "output_type": "stream",
     "text": [
      "\n",
      "KeyboardInterrupt\n",
      "\n"
     ]
    }
   ],
   "source": [
    "#df_meth = df_meth.apply(lambda x: (x-x.mean()).abs(), axis=1)\n",
    "df_gene = df_gene.apply(lambda x: (x-x.mean()).abs(), axis=1)"
   ]
  },
  {
   "cell_type": "code",
   "execution_count": 11,
   "id": "6f53b1ab",
   "metadata": {},
   "outputs": [],
   "source": [
    "df_meth = df_meth.rank()"
   ]
  },
  {
   "cell_type": "code",
   "execution_count": 26,
   "id": "5ebbbbe7",
   "metadata": {},
   "outputs": [],
   "source": [
    "df_meth_ranked = pd.DataFrame()"
   ]
  },
  {
   "cell_type": "code",
   "execution_count": 38,
   "id": "a71ca6bb",
   "metadata": {},
   "outputs": [],
   "source": [
    "for column in df_meth:\n",
    "    df_meth_ranked[column]=df_meth[column].nsmallest(800).index.to_series().values"
   ]
  },
  {
   "cell_type": "code",
   "execution_count": 37,
   "id": "f9cb0969",
   "metadata": {},
   "outputs": [
    {
     "data": {
      "text/plain": [
       "array(['cg15569340', 'cg03320844', 'cg22193702', 'cg20383064',\n",
       "       'cg07218192', 'cg22827640', 'cg24441911', 'cg03969997',\n",
       "       'cg15746445', 'cg18204685', 'cg16534233', 'cg20317180',\n",
       "       'cg27470406', 'cg13917504', 'cg00331433', 'cg25993152',\n",
       "       'cg10912268', 'cg13451483', 'cg26656452', 'cg06276653',\n",
       "       'cg18930892', 'cg00164898', 'cg22584335', 'cg13539030',\n",
       "       'cg25605045', 'cg15121304', 'cg24789424', 'cg06684910',\n",
       "       'cg19859270', 'cg17178888', 'cg03947362', 'cg12256228',\n",
       "       'cg18627852', 'cg25544551', 'cg21911019', 'cg15127806',\n",
       "       'cg13199822', 'cg09556292', 'cg13206017', 'cg17142134',\n",
       "       'cg04936930', 'cg01333619', 'cg19523692', 'cg22736107',\n",
       "       'cg24386906', 'cg01192952', 'cg16280667', 'cg14501253',\n",
       "       'cg21167159', 'cg10145369', 'cg23940655', 'cg12788471',\n",
       "       'cg01959848', 'cg21631754', 'cg26728422', 'cg01414934',\n",
       "       'cg03100146', 'cg26895595', 'cg22880820', 'cg05695927',\n",
       "       'cg17575811', 'cg00323915', 'cg21849289', 'cg21439450',\n",
       "       'cg18462653', 'cg20584011', 'cg03544525', 'cg07586911',\n",
       "       'cg07817783', 'cg23759710', 'cg07990939', 'cg06625414',\n",
       "       'cg06615667', 'cg04106190', 'cg19853229', 'cg07668036',\n",
       "       'cg09440340', 'cg06141123', 'cg21722680', 'cg26809911',\n",
       "       'cg12438666', 'cg22986999', 'cg12082129', 'cg25811820',\n",
       "       'cg18178963', 'cg10061247', 'cg17826679', 'cg23698058',\n",
       "       'cg01677177', 'cg11047295', 'cg13792279', 'cg26776924',\n",
       "       'cg27561421', 'cg16558203', 'cg04672450', 'cg22627950',\n",
       "       'cg13585240', 'cg03453449', 'cg04185037', 'cg02283643',\n",
       "       'cg06665984', 'cg06353720', 'cg24615251', 'cg07338205',\n",
       "       'cg17694877', 'cg23242017', 'cg07675682', 'cg25061755',\n",
       "       'cg08084415', 'cg17439694', 'cg10681065', 'cg15540054',\n",
       "       'cg24054653', 'cg07070934', 'cg26207503', 'cg20648463',\n",
       "       'cg15822411', 'cg06273903', 'cg14948436', 'cg05494459',\n",
       "       'cg23828212', 'cg22909609', 'cg15808558', 'cg09416501',\n",
       "       'cg27079104', 'cg27501380', 'cg09831311', 'cg25927124',\n",
       "       'cg20482364', 'cg12038710', 'cg23285573', 'cg06479426',\n",
       "       'cg22933847', 'cg12341414', 'cg05000446', 'cg21045388',\n",
       "       'cg15031780', 'cg16977257', 'cg04415689', 'cg17914753',\n",
       "       'cg20673075', 'cg22658979', 'cg05484458', 'cg15830940',\n",
       "       'cg12195695', 'cg00186141', 'cg23780937', 'cg27409012',\n",
       "       'cg03600318', 'cg18881269', 'cg21665774', 'cg00367438',\n",
       "       'cg19370284', 'cg03373857', 'cg01040062', 'cg01909245',\n",
       "       'cg07132517', 'cg09874600', 'cg01580044', 'cg18091964',\n",
       "       'cg20767936', 'cg01419788', 'cg17122311', 'cg17801256',\n",
       "       'cg02909042', 'cg11832722', 'cg06191203', 'cg15772361',\n",
       "       'cg12549513', 'cg06665322', 'cg18508125', 'cg20957193',\n",
       "       'cg26394737', 'cg13836627', 'cg00149976', 'cg27015174',\n",
       "       'cg01056155', 'cg14916288', 'cg05276137', 'cg17589175',\n",
       "       'cg07027075', 'cg05361811', 'cg16478792', 'cg22005565',\n",
       "       'cg03363175', 'cg12622273', 'cg23376526', 'cg11220060',\n",
       "       'cg01103730', 'cg17356733', 'cg20009671', 'cg08579995',\n",
       "       'cg16338347', 'cg00162401', 'cg13912204', 'cg14079785',\n",
       "       'cg05051316', 'cg19949550', 'cg24727568', 'cg22774127',\n",
       "       'cg10331048', 'cg05044994', 'cg11140785', 'cg22767079',\n",
       "       'cg02968557', 'cg16046376', 'cg22732672', 'cg15442534',\n",
       "       'cg21431091', 'cg18493147', 'cg04460372', 'cg06537829',\n",
       "       'cg07265300', 'cg24560809', 'cg01966465', 'cg21628553',\n",
       "       'cg05441133', 'cg13350783', 'cg23983340', 'cg10485472',\n",
       "       'cg03658707', 'cg25945961', 'cg01056568', 'cg03086563',\n",
       "       'cg05754589', 'cg06630567', 'cg09276363', 'cg05055720',\n",
       "       'cg16794633', 'cg18338296', 'cg07288587', 'cg21415604',\n",
       "       'cg01357263', 'cg20822628', 'cg13739345', 'cg06363129',\n",
       "       'cg16306381', 'cg26624273', 'cg23919568', 'cg05824432',\n",
       "       'cg13576061', 'cg17430393', 'cg02091100', 'cg04749104',\n",
       "       'cg23799276', 'cg13649728', 'cg24946544', 'cg15238224',\n",
       "       'cg12531542', 'cg25134071', 'cg10819446', 'cg23282771',\n",
       "       'cg11513856', 'cg09018862', 'cg07118243', 'cg25955899',\n",
       "       'cg15534366', 'cg26757793', 'cg10035922', 'cg14607813',\n",
       "       'cg14636377', 'cg25989745', 'cg13412615', 'cg16863447',\n",
       "       'cg05876083', 'cg23090824', 'cg23075286', 'cg11261264',\n",
       "       'cg10671066', 'cg11015241', 'cg08568512', 'cg11843760',\n",
       "       'cg01999523', 'cg04402021', 'cg06612452', 'cg13135180',\n",
       "       'cg12654845', 'cg18264687', 'cg02699167', 'cg01991383',\n",
       "       'cg00224234', 'cg13119609', 'cg16688911', 'cg24615044',\n",
       "       'cg18958584', 'cg12431196', 'cg23943360', 'cg18088775',\n",
       "       'cg06282240', 'cg19481052', 'cg13360404', 'cg14808739',\n",
       "       'cg26177629', 'cg00734993', 'cg12916723', 'cg18219226',\n",
       "       'cg15170424', 'cg20524216', 'cg11880010', 'cg19267846',\n",
       "       'cg06577658', 'cg17145806', 'cg19569684', 'cg12683641',\n",
       "       'cg14545899', 'cg17569486', 'cg25013852', 'cg00060882',\n",
       "       'cg00725777', 'cg11843691', 'cg08313788', 'cg25961684',\n",
       "       'cg01328164', 'cg19304352', 'cg04006554', 'cg14203758',\n",
       "       'cg26114571', 'cg14601284', 'cg08504049', 'cg24371157',\n",
       "       'cg08983975', 'cg05254747', 'cg08592230', 'cg25229015',\n",
       "       'cg01668383', 'cg12259256', 'cg00051979', 'cg19229991',\n",
       "       'cg01656216', 'cg22959932', 'cg12106945', 'cg12535715',\n",
       "       'cg22982528', 'cg19308222', 'cg26917625', 'cg05945622',\n",
       "       'cg00303548', 'cg21846903', 'cg03866607', 'cg20938286',\n",
       "       'cg26138224', 'cg05688084', 'cg11574612', 'cg08385610',\n",
       "       'cg14367014', 'cg15801967', 'cg15727249', 'cg21022247',\n",
       "       'cg13804316', 'cg10301967', 'cg21750589', 'cg21713257',\n",
       "       'cg12086773', 'cg17397493', 'cg16274148', 'cg01605984',\n",
       "       'cg23300897', 'cg20497627', 'cg05698069', 'cg19081759',\n",
       "       'cg07684150', 'cg14299177', 'cg08419026', 'cg19540408',\n",
       "       'cg02962299', 'cg00402366', 'cg01151699', 'cg02092466',\n",
       "       'cg10261589', 'cg03247626', 'cg11806565', 'cg22155248',\n",
       "       'cg13859216', 'cg18710985', 'cg00520135', 'cg26916607',\n",
       "       'cg17002259', 'cg12506373', 'cg14222233', 'cg27522780',\n",
       "       'cg08293760', 'cg24022829', 'cg06609475', 'cg16588061',\n",
       "       'cg10219037', 'cg26091119', 'cg24266238', 'cg04184278',\n",
       "       'cg12556134', 'cg12422683', 'cg12694870', 'cg23345864',\n",
       "       'cg15241708', 'cg06887663', 'cg15205507', 'cg01770400',\n",
       "       'cg11819013', 'cg06990379', 'cg02431964', 'cg11353032',\n",
       "       'cg00951770', 'cg01137532', 'cg17229388', 'cg16366323',\n",
       "       'cg10480741', 'cg00324733', 'cg13500819', 'cg06716436',\n",
       "       'cg26198776', 'cg18690395', 'cg04376312', 'cg03138668',\n",
       "       'cg09770154', 'cg24474998', 'cg20792833', 'cg00777555',\n",
       "       'cg20315136', 'cg21633208', 'cg17616707', 'cg04464465',\n",
       "       'cg02164386', 'cg02537909', 'cg15452204', 'cg21548414',\n",
       "       'cg18876487', 'cg00728317', 'cg16579101', 'cg23640701',\n",
       "       'cg18251360', 'cg14535518', 'cg19714749', 'cg26538349',\n",
       "       'cg10148841', 'cg01402045', 'cg13151102', 'cg27644292',\n",
       "       'cg18081881', 'cg26459500', 'cg01137065', 'cg19219366',\n",
       "       'cg08395899', 'cg27342801', 'cg14666892', 'cg05535113',\n",
       "       'cg01145396', 'cg23739036', 'cg19944367', 'cg05675373',\n",
       "       'cg18556540', 'cg02278071', 'cg09667582', 'cg08674093',\n",
       "       'cg20149766', 'cg23455897', 'cg21051086', 'cg07975813',\n",
       "       'cg04466273', 'cg19028369', 'cg07704144', 'cg07899425',\n",
       "       'cg18466173', 'cg00751288', 'cg16205058', 'cg20697204',\n",
       "       'cg15537433', 'cg14561282', 'cg05989429', 'cg26645834',\n",
       "       'cg17704839', 'cg20579480', 'cg14003467', 'cg07297178',\n",
       "       'cg18928687', 'cg12073537', 'cg04305913', 'cg05379350',\n",
       "       'cg22409383', 'cg01244871', 'cg27227797', 'cg10484958',\n",
       "       'cg14602164', 'cg02628202', 'cg01782486', 'cg04574442',\n",
       "       'cg26457013', 'cg11609760', 'cg07947016', 'cg23323879',\n",
       "       'cg17983307', 'cg21207436', 'cg21321885', 'cg09330643',\n",
       "       'cg05275605', 'cg26245202', 'cg09885086', 'cg09430689',\n",
       "       'cg18931895', 'cg23508052', 'cg18015677', 'cg19132372',\n",
       "       'cg13325666', 'cg12360373', 'cg25516544', 'cg10184881',\n",
       "       'cg25425005', 'cg03782727', 'cg18130076', 'cg22182666',\n",
       "       'cg22691736', 'cg12137206', 'cg26536164', 'cg07446572',\n",
       "       'cg24035962', 'cg00974864', 'cg06277481', 'cg07347137',\n",
       "       'cg09805010', 'cg19110523', 'cg27262488', 'cg19976011',\n",
       "       'cg25221254', 'cg09785172', 'cg22461615', 'cg04303901',\n",
       "       'cg01882150', 'cg03072102', 'cg12433691', 'cg06284322',\n",
       "       'cg01134491', 'cg10129493', 'cg18495298', 'cg21820890',\n",
       "       'cg22605342', 'cg22700017', 'cg06200339', 'cg20951444',\n",
       "       'cg07346310', 'cg13014406', 'cg09086179', 'cg21129531',\n",
       "       'cg19843429', 'cg22901146', 'cg20543571', 'cg26845278',\n",
       "       'cg06323290', 'cg10016608', 'cg03543403', 'cg17647273',\n",
       "       'cg15804118', 'cg07285167', 'cg13133148', 'cg06880557',\n",
       "       'cg06484397', 'cg17896097', 'cg27575501', 'cg01909487',\n",
       "       'cg03473294', 'cg01882179', 'cg05046097', 'cg11680158',\n",
       "       'cg17489897', 'cg11189434', 'cg13314167', 'cg18858343',\n",
       "       'cg22494492', 'cg02978542', 'cg26911787', 'cg03243506',\n",
       "       'cg23401756', 'cg13770446', 'cg26565975', 'cg00119079',\n",
       "       'cg04548841', 'cg12379775', 'cg02162412', 'cg05970437',\n",
       "       'cg01796228', 'cg10441365', 'cg00013618', 'cg19744952',\n",
       "       'cg13309018', 'cg03091512', 'cg26354413', 'cg15105660',\n",
       "       'cg24675098', 'cg12658982', 'cg03564506', 'cg00677811',\n",
       "       'cg12628956', 'cg13550608', 'cg08843314', 'cg15070798',\n",
       "       'cg12149391', 'cg01422136', 'cg09628601', 'cg17253459',\n",
       "       'cg02296128', 'cg07576541', 'cg05191792', 'cg10613381',\n",
       "       'cg15554401', 'cg16022279', 'cg26376809', 'cg13397365',\n",
       "       'cg21226234', 'cg18106189', 'cg11693019', 'cg27217148',\n",
       "       'cg11997899', 'cg13082192', 'cg23762517', 'cg10446968',\n",
       "       'cg27600136', 'cg27258787', 'cg22445920', 'cg16072030',\n",
       "       'cg18070061', 'cg03386722', 'cg21518938', 'cg23858074',\n",
       "       'cg26701826', 'cg21137417', 'cg27298262', 'cg15042806',\n",
       "       'cg06952236', 'cg24137081', 'cg11325578', 'cg19229809',\n",
       "       'cg24287460', 'cg23464269', 'cg17386700', 'cg10850119',\n",
       "       'cg10982775', 'cg16994506', 'cg21660727', 'cg09060914',\n",
       "       'cg22563697', 'cg03665785', 'cg25781162', 'cg12743894',\n",
       "       'cg19096475', 'cg12054080', 'cg27553637', 'cg10488185',\n",
       "       'cg03966541', 'cg25475443', 'cg01465620', 'cg21443584',\n",
       "       'cg08269321', 'cg17327492', 'cg09597465', 'cg02599225',\n",
       "       'cg03608974', 'cg21796825', 'cg07775501', 'cg11044823',\n",
       "       'cg27376817', 'cg12582965', 'cg17166338', 'cg14088811',\n",
       "       'cg21772838', 'cg06887414', 'cg09971646', 'cg25514503',\n",
       "       'cg24469114', 'cg03703325', 'cg08214957', 'cg11625178',\n",
       "       'cg18438300', 'cg17533847', 'cg19987219', 'cg09189322',\n",
       "       'cg02890926', 'cg04574507', 'cg26955850', 'cg07155664',\n",
       "       'cg10055471', 'cg19162106', 'cg19219437', 'cg14443380',\n",
       "       'cg06872331', 'cg11700584', 'cg05912121', 'cg07651857',\n",
       "       'cg08049198', 'cg12072803', 'cg13986130', 'cg22577136',\n",
       "       'cg11832543', 'cg03107405', 'cg03774732', 'cg15768203',\n",
       "       'cg15576195', 'cg09296212', 'cg04914305', 'cg06786424',\n",
       "       'cg08434547', 'cg08064891', 'cg05749792', 'cg12062995',\n",
       "       'cg23938476', 'cg14613832', 'cg16003913', 'cg22188495',\n",
       "       'cg13681935', 'cg22111003', 'cg13386234', 'cg17264470',\n",
       "       'cg14027234', 'cg27219973', 'cg00784357', 'cg01803810',\n",
       "       'cg20199333', 'cg04297093', 'cg01469547', 'cg10861017',\n",
       "       'cg06992027', 'cg25929421', 'cg05301852', 'cg26206598',\n",
       "       'cg01743370', 'cg11679069', 'cg00025991', 'cg24603941',\n",
       "       'cg02723533', 'cg21264207', 'cg25898500', 'cg21489873',\n",
       "       'cg08328671', 'cg07285276', 'cg09656405', 'cg27508071',\n",
       "       'cg18071006', 'cg17983064', 'cg13043862', 'cg02718725',\n",
       "       'cg21721155', 'cg05903630', 'cg24777762', 'cg25923856',\n",
       "       'cg08413469', 'cg09657265', 'cg05700681', 'cg21643045',\n",
       "       'cg21660424', 'cg08286169', 'cg19470701', 'cg07433344',\n",
       "       'cg12864581', 'cg17608500', 'cg13272258', 'cg06765947',\n",
       "       'cg19282714', 'cg07602026', 'cg09750385', 'cg01462904',\n",
       "       'cg09081544', 'cg09572106', 'cg25017304', 'cg04706338',\n",
       "       'cg20271396', 'cg07928641', 'cg23521069', 'cg14592406',\n",
       "       'cg04197135', 'cg19319069', 'cg02545106', 'cg27496506',\n",
       "       'cg08141806', 'cg26674929', 'cg09722555', 'cg18758482',\n",
       "       'cg02391387', 'cg08035942', 'cg27043630', 'cg04237003',\n",
       "       'cg07309102', 'cg17698643', 'cg08491025', 'cg02549424',\n",
       "       'cg05532892', 'cg02799466', 'cg08460026', 'cg14607011',\n",
       "       'cg04134624', 'cg20052411', 'cg13966710', 'cg16793061',\n",
       "       'cg05168404', 'cg12716838', 'cg16904599', 'cg20551517',\n",
       "       'cg00882832', 'cg10021735', 'cg02863947', 'cg06066711',\n",
       "       'cg09088508', 'cg13927251', 'cg09503975', 'cg27394046'],\n",
       "      dtype=object)"
      ]
     },
     "execution_count": 37,
     "metadata": {},
     "output_type": "execute_result"
    }
   ],
   "source": [
    "df_meth['TCGA-02-0001-01C-01D-0186-05'].nsmallest(800).index.to_series().values"
   ]
  },
  {
   "cell_type": "code",
   "execution_count": 43,
   "id": "65cc4b74",
   "metadata": {},
   "outputs": [],
   "source": [
    "df_meth_ranked.reset_index(drop=True, inplace=True)"
   ]
  },
  {
   "cell_type": "code",
   "execution_count": 54,
   "id": "8c0df356",
   "metadata": {},
   "outputs": [
    {
     "data": {
      "text/plain": [
       "(array([ 30.,  96., 170., 225., 234., 282., 283., 288., 315., 292., 331.,\n",
       "        335., 382., 370., 386., 436., 449., 430., 447., 401., 448., 403.,\n",
       "        347., 386., 357., 296., 307., 284., 320., 318., 284., 270., 291.,\n",
       "        317., 299., 320., 361., 334., 389., 336., 399., 413., 437., 456.,\n",
       "        454., 397., 452., 474., 447., 405., 429., 442., 420., 373., 331.,\n",
       "        331., 296., 260., 213., 171., 165., 158., 129., 108., 104.,  94.,\n",
       "         91.,  72.,  72.,  59.,  57.,  76.,  66.,  71.,  64.,  70.,  57.,\n",
       "         70.,  66.,  67.,  72.,  58.,  70.,  52.,  57.,  42.,  25.,  32.,\n",
       "         15.,   3.,   5.,   3.,   1.,   0.,   0.,   0.,   0.,   0.,   0.,\n",
       "          1.]),\n",
       " array([  10.  ,   21.78,   33.56,   45.34,   57.12,   68.9 ,   80.68,\n",
       "          92.46,  104.24,  116.02,  127.8 ,  139.58,  151.36,  163.14,\n",
       "         174.92,  186.7 ,  198.48,  210.26,  222.04,  233.82,  245.6 ,\n",
       "         257.38,  269.16,  280.94,  292.72,  304.5 ,  316.28,  328.06,\n",
       "         339.84,  351.62,  363.4 ,  375.18,  386.96,  398.74,  410.52,\n",
       "         422.3 ,  434.08,  445.86,  457.64,  469.42,  481.2 ,  492.98,\n",
       "         504.76,  516.54,  528.32,  540.1 ,  551.88,  563.66,  575.44,\n",
       "         587.22,  599.  ,  610.78,  622.56,  634.34,  646.12,  657.9 ,\n",
       "         669.68,  681.46,  693.24,  705.02,  716.8 ,  728.58,  740.36,\n",
       "         752.14,  763.92,  775.7 ,  787.48,  799.26,  811.04,  822.82,\n",
       "         834.6 ,  846.38,  858.16,  869.94,  881.72,  893.5 ,  905.28,\n",
       "         917.06,  928.84,  940.62,  952.4 ,  964.18,  975.96,  987.74,\n",
       "         999.52, 1011.3 , 1023.08, 1034.86, 1046.64, 1058.42, 1070.2 ,\n",
       "        1081.98, 1093.76, 1105.54, 1117.32, 1129.1 , 1140.88, 1152.66,\n",
       "        1164.44, 1176.22, 1188.  ]),\n",
       " <BarContainer object of 100 artists>)"
      ]
     },
     "execution_count": 54,
     "metadata": {},
     "output_type": "execute_result"
    },
    {
     "data": {
      "image/png": "[encoded data removed]",
      "text/plain": [
       "<Figure size 432x288 with 1 Axes>"
      ]
     },
     "metadata": {
      "needs_background": "light"
     },
     "output_type": "display_data"
    }
   ],
   "source": [
    "import matplotlib.pyplot as plt\n",
    "plt.hist(df_meth_ranked.stack().value_counts(),bins=100)"
   ]
  },
  {
   "cell_type": "code",
   "execution_count": 7,
   "id": "edcfe16a",
   "metadata": {},
   "outputs": [],
   "source": [
    "import numpy as np\n",
    "#df_meth = df_meth.reindex(df_meth.var(axis=1).sort_values().index, axis=0) #sort by row variance\n",
    "df_gene = df_gene.dropna().replace(0, np.NaN)\n",
    "df_gene = df_gene.reindex(df_gene.var(axis=1).sort_values().index, axis=0) #sort by row variance"
   ]
  },
  {
   "cell_type": "code",
   "execution_count": 7,
   "id": "59396c87",
   "metadata": {},
   "outputs": [
    {
     "data": {
      "text/plain": [
       "Composite Element REF\n",
       "cg10474368    0.000006\n",
       "cg13946860    0.000008\n",
       "cg00770871    0.000008\n",
       "cg11246695    0.000008\n",
       "cg04589975    0.000008\n",
       "                ...   \n",
       "cg06051311    0.095170\n",
       "cg08668790    0.096515\n",
       "cg21790626    0.097518\n",
       "cg20916523    0.104639\n",
       "cg12374721    0.110510\n",
       "Length: 22601, dtype: float64"
      ]
     },
     "execution_count": 7,
     "metadata": {},
     "output_type": "execute_result"
    }
   ],
   "source": [
    "df_meth.var(axis=1)"
   ]
  },
  {
   "cell_type": "code",
   "execution_count": 12,
   "id": "5e6d013a",
   "metadata": {},
   "outputs": [],
   "source": [
    "df_meth.dropna().tail(800).to_csv(\"methyl_top800.csv\")"
   ]
  },
  {
   "cell_type": "code",
   "execution_count": 14,
   "id": "6896b12c",
   "metadata": {},
   "outputs": [],
   "source": [
    "df_gene.dropna().tail(1000).to_csv(\"gene_top1000.csv\")"
   ]
  },
  {
   "cell_type": "code",
   "execution_count": 12,
   "id": "7ff03635",
   "metadata": {},
   "outputs": [
    {
     "data": {
      "text/plain": [
       "(array([3042., 3111., 2637., 1495.,  483.,  186.,   70.,   30.,   11.,\n",
       "           4.]),\n",
       " array([ 0. ,  8.3, 16.6, 24.9, 33.2, 41.5, 49.8, 58.1, 66.4, 74.7, 83. ]),\n",
       " <BarContainer object of 10 artists>)"
      ]
     },
     "execution_count": 12,
     "metadata": {},
     "output_type": "execute_result"
    },
    {
     "data": {
      "image/png": "[encoded data removed]",
      "text/plain": [
       "<Figure size 432x288 with 1 Axes>"
      ]
     },
     "metadata": {
      "needs_background": "light"
     },
     "output_type": "display_data"
    }
   ],
   "source": [
    "import matplotlib.pyplot as plt\n",
    "plt.hist(df_gene.tail(800).isna().sum())"
   ]
  },
  {
   "cell_type": "code",
   "execution_count": 13,
   "id": "6862e0ce",
   "metadata": {},
   "outputs": [
    {
     "data": {
      "text/plain": [
       "(16335, 11069)"
      ]
     },
     "execution_count": 13,
     "metadata": {},
     "output_type": "execute_result"
    }
   ],
   "source": [
    "df_gene.shape"
   ]
  },
  {
   "cell_type": "markdown",
   "id": "6dcdf2ea",
   "metadata": {},
   "source": [
    "# Processing all"
   ]
  },
  {
   "cell_type": "code",
   "execution_count": 9,
   "id": "01080ec8",
   "metadata": {},
   "outputs": [],
   "source": [
    "import pandas as pd\n",
    "df_g=pd.read_csv('gene_top800.csv', index_col=0).T\n",
    "df_p=pd.read_csv('rppa_proc.csv', index_col=0).T\n",
    "df_m=pd.read_csv('methyl_top800.csv', index_col=0).T\n",
    "df_r=pd.read_csv('mirna_proc.csv', index_col=0).T"
   ]
  },
  {
   "cell_type": "code",
   "execution_count": 45,
   "id": "9894ee5f",
   "metadata": {},
   "outputs": [],
   "source": [
    "def inds(x):\n",
    "    return \"_\".join(x.split('-')[1:4])\n",
    "df_g.index = df_g.index.map(inds)\n",
    "df_p.index = df_p.index.map(inds)\n",
    "df_m.index = df_m.index.map(inds)\n",
    "df_r.index = df_r.index.map(inds)"
   ]
  },
  {
   "cell_type": "code",
   "execution_count": 46,
   "id": "9c3f132c",
   "metadata": {},
   "outputs": [
    {
     "data": {
      "text/html": [
       "<div>\n",
       "<style scoped>\n",
       "    .dataframe tbody tr th:only-of-type {\n",
       "        vertical-align: middle;\n",
       "    }\n",
       "\n",
       "    .dataframe tbody tr th {\n",
       "        vertical-align: top;\n",
       "    }\n",
       "\n",
       "    .dataframe thead th {\n",
       "        text-align: right;\n",
       "    }\n",
       "</style>\n",
       "<table border=\"1\" class=\"dataframe\">\n",
       "  <thead>\n",
       "    <tr style=\"text-align: right;\">\n",
       "      <th>Genes</th>\n",
       "      <th>hsa-let-7a-2-3p</th>\n",
       "      <th>hsa-let-7a-3p</th>\n",
       "      <th>hsa-let-7a-5p</th>\n",
       "      <th>hsa-let-7b-3p</th>\n",
       "      <th>hsa-let-7b-5p</th>\n",
       "      <th>hsa-let-7c-3p</th>\n",
       "      <th>hsa-let-7c-5p</th>\n",
       "      <th>hsa-let-7d-3p</th>\n",
       "      <th>hsa-let-7d-5p</th>\n",
       "      <th>hsa-let-7e-3p</th>\n",
       "      <th>...</th>\n",
       "      <th>hsa-miR-95-3p</th>\n",
       "      <th>hsa-miR-9-5p</th>\n",
       "      <th>hsa-miR-96-3p</th>\n",
       "      <th>hsa-miR-96-5p</th>\n",
       "      <th>hsa-miR-98-3p</th>\n",
       "      <th>hsa-miR-98-5p</th>\n",
       "      <th>hsa-miR-99a-3p</th>\n",
       "      <th>hsa-miR-99a-5p</th>\n",
       "      <th>hsa-miR-99b-3p</th>\n",
       "      <th>hsa-miR-99b-5p</th>\n",
       "    </tr>\n",
       "  </thead>\n",
       "  <tbody>\n",
       "    <tr>\n",
       "      <th>C4_A0F6_01A</th>\n",
       "      <td>0.980776</td>\n",
       "      <td>32.785934</td>\n",
       "      <td>17787.06993</td>\n",
       "      <td>6.725320</td>\n",
       "      <td>6875.798894</td>\n",
       "      <td>2.241773</td>\n",
       "      <td>598.553468</td>\n",
       "      <td>497.533559</td>\n",
       "      <td>321.974688</td>\n",
       "      <td>34.046932</td>\n",
       "      <td>...</td>\n",
       "      <td>0.980776</td>\n",
       "      <td>86.588493</td>\n",
       "      <td>0.280222</td>\n",
       "      <td>93.874256</td>\n",
       "      <td>2.662106</td>\n",
       "      <td>188.869399</td>\n",
       "      <td>0.420332</td>\n",
       "      <td>148.377369</td>\n",
       "      <td>195.034276</td>\n",
       "      <td>78432.081350</td>\n",
       "    </tr>\n",
       "    <tr>\n",
       "      <th>CU_A0YO_01A</th>\n",
       "      <td>2.750555</td>\n",
       "      <td>62.595962</td>\n",
       "      <td>20816.36637</td>\n",
       "      <td>11.835721</td>\n",
       "      <td>6014.963519</td>\n",
       "      <td>6.001211</td>\n",
       "      <td>1424.704101</td>\n",
       "      <td>340.652060</td>\n",
       "      <td>168.700702</td>\n",
       "      <td>16.336629</td>\n",
       "      <td>...</td>\n",
       "      <td>3.334006</td>\n",
       "      <td>1624.244358</td>\n",
       "      <td>0.000000</td>\n",
       "      <td>34.506962</td>\n",
       "      <td>1.083552</td>\n",
       "      <td>100.353580</td>\n",
       "      <td>1.333602</td>\n",
       "      <td>412.749939</td>\n",
       "      <td>23.588092</td>\n",
       "      <td>13279.762530</td>\n",
       "    </tr>\n",
       "    <tr>\n",
       "      <th>BT_A0S7_01A</th>\n",
       "      <td>7.085729</td>\n",
       "      <td>64.480134</td>\n",
       "      <td>64187.20949</td>\n",
       "      <td>41.238943</td>\n",
       "      <td>34652.048900</td>\n",
       "      <td>20.548614</td>\n",
       "      <td>3788.172416</td>\n",
       "      <td>335.296694</td>\n",
       "      <td>250.409661</td>\n",
       "      <td>13.321170</td>\n",
       "      <td>...</td>\n",
       "      <td>3.401150</td>\n",
       "      <td>757.039282</td>\n",
       "      <td>0.000000</td>\n",
       "      <td>11.904025</td>\n",
       "      <td>0.850287</td>\n",
       "      <td>76.100729</td>\n",
       "      <td>2.125719</td>\n",
       "      <td>694.826582</td>\n",
       "      <td>59.803552</td>\n",
       "      <td>29537.994880</td>\n",
       "    </tr>\n",
       "    <tr>\n",
       "      <th>CU_A0YR_01A</th>\n",
       "      <td>0.805977</td>\n",
       "      <td>17.731490</td>\n",
       "      <td>31852.20320</td>\n",
       "      <td>14.104594</td>\n",
       "      <td>7643.480998</td>\n",
       "      <td>0.805977</td>\n",
       "      <td>147.896743</td>\n",
       "      <td>534.362619</td>\n",
       "      <td>385.659900</td>\n",
       "      <td>5.641838</td>\n",
       "      <td>...</td>\n",
       "      <td>1.208965</td>\n",
       "      <td>686.289247</td>\n",
       "      <td>0.000000</td>\n",
       "      <td>24.985281</td>\n",
       "      <td>0.402988</td>\n",
       "      <td>223.658562</td>\n",
       "      <td>0.000000</td>\n",
       "      <td>11.686664</td>\n",
       "      <td>29.015165</td>\n",
       "      <td>13749.158260</td>\n",
       "    </tr>\n",
       "    <tr>\n",
       "      <th>BL_A0C8_01A</th>\n",
       "      <td>0.803256</td>\n",
       "      <td>32.397995</td>\n",
       "      <td>36701.57350</td>\n",
       "      <td>18.207138</td>\n",
       "      <td>5972.744450</td>\n",
       "      <td>1.874264</td>\n",
       "      <td>220.627670</td>\n",
       "      <td>380.475629</td>\n",
       "      <td>318.357159</td>\n",
       "      <td>16.332874</td>\n",
       "      <td>...</td>\n",
       "      <td>3.213024</td>\n",
       "      <td>92.106697</td>\n",
       "      <td>0.267752</td>\n",
       "      <td>65.866998</td>\n",
       "      <td>1.606512</td>\n",
       "      <td>60.511958</td>\n",
       "      <td>0.000000</td>\n",
       "      <td>34.004507</td>\n",
       "      <td>56.763430</td>\n",
       "      <td>36226.313650</td>\n",
       "    </tr>\n",
       "    <tr>\n",
       "      <th>...</th>\n",
       "      <td>...</td>\n",
       "      <td>...</td>\n",
       "      <td>...</td>\n",
       "      <td>...</td>\n",
       "      <td>...</td>\n",
       "      <td>...</td>\n",
       "      <td>...</td>\n",
       "      <td>...</td>\n",
       "      <td>...</td>\n",
       "      <td>...</td>\n",
       "      <td>...</td>\n",
       "      <td>...</td>\n",
       "      <td>...</td>\n",
       "      <td>...</td>\n",
       "      <td>...</td>\n",
       "      <td>...</td>\n",
       "      <td>...</td>\n",
       "      <td>...</td>\n",
       "      <td>...</td>\n",
       "      <td>...</td>\n",
       "      <td>...</td>\n",
       "    </tr>\n",
       "    <tr>\n",
       "      <th>AG_3584_01A</th>\n",
       "      <td>3.262839</td>\n",
       "      <td>22.251037</td>\n",
       "      <td>23122.91869</td>\n",
       "      <td>20.626534</td>\n",
       "      <td>4760.875509</td>\n",
       "      <td>3.716744</td>\n",
       "      <td>599.077677</td>\n",
       "      <td>1011.271201</td>\n",
       "      <td>146.193566</td>\n",
       "      <td>4.721912</td>\n",
       "      <td>...</td>\n",
       "      <td>13.372890</td>\n",
       "      <td>10624.689830</td>\n",
       "      <td>0.301215</td>\n",
       "      <td>26.510692</td>\n",
       "      <td>0.987116</td>\n",
       "      <td>41.168575</td>\n",
       "      <td>1.073576</td>\n",
       "      <td>109.400542</td>\n",
       "      <td>14.142076</td>\n",
       "      <td>10462.448760</td>\n",
       "    </tr>\n",
       "    <tr>\n",
       "      <th>AG_3599_01A</th>\n",
       "      <td>2.002213</td>\n",
       "      <td>29.156045</td>\n",
       "      <td>17890.75858</td>\n",
       "      <td>28.611334</td>\n",
       "      <td>5660.590915</td>\n",
       "      <td>0.830712</td>\n",
       "      <td>222.252058</td>\n",
       "      <td>350.019624</td>\n",
       "      <td>125.544726</td>\n",
       "      <td>3.213865</td>\n",
       "      <td>...</td>\n",
       "      <td>25.697846</td>\n",
       "      <td>188.922382</td>\n",
       "      <td>0.791547</td>\n",
       "      <td>35.627721</td>\n",
       "      <td>0.467073</td>\n",
       "      <td>27.308137</td>\n",
       "      <td>0.144723</td>\n",
       "      <td>45.617460</td>\n",
       "      <td>15.948184</td>\n",
       "      <td>8293.054733</td>\n",
       "    </tr>\n",
       "    <tr>\n",
       "      <th>AG_3583_01A</th>\n",
       "      <td>0.675954</td>\n",
       "      <td>19.786044</td>\n",
       "      <td>16792.88093</td>\n",
       "      <td>22.441202</td>\n",
       "      <td>7572.840852</td>\n",
       "      <td>1.282126</td>\n",
       "      <td>143.450672</td>\n",
       "      <td>897.205621</td>\n",
       "      <td>76.690747</td>\n",
       "      <td>1.497562</td>\n",
       "      <td>...</td>\n",
       "      <td>15.811903</td>\n",
       "      <td>147.011379</td>\n",
       "      <td>-0.127951</td>\n",
       "      <td>10.352813</td>\n",
       "      <td>5.508178</td>\n",
       "      <td>51.327181</td>\n",
       "      <td>0.146054</td>\n",
       "      <td>28.874467</td>\n",
       "      <td>22.412294</td>\n",
       "      <td>6427.100677</td>\n",
       "    </tr>\n",
       "    <tr>\n",
       "      <th>AG_3598_01A</th>\n",
       "      <td>1.948157</td>\n",
       "      <td>25.893893</td>\n",
       "      <td>23153.80168</td>\n",
       "      <td>41.672361</td>\n",
       "      <td>6127.299751</td>\n",
       "      <td>3.081652</td>\n",
       "      <td>324.642671</td>\n",
       "      <td>498.491969</td>\n",
       "      <td>133.758828</td>\n",
       "      <td>4.168296</td>\n",
       "      <td>...</td>\n",
       "      <td>7.845190</td>\n",
       "      <td>172.341403</td>\n",
       "      <td>-0.127951</td>\n",
       "      <td>15.302715</td>\n",
       "      <td>1.541097</td>\n",
       "      <td>22.493043</td>\n",
       "      <td>0.351305</td>\n",
       "      <td>78.511647</td>\n",
       "      <td>26.015522</td>\n",
       "      <td>18854.100830</td>\n",
       "    </tr>\n",
       "    <tr>\n",
       "      <th>AG_3586_01A</th>\n",
       "      <td>1.542847</td>\n",
       "      <td>25.602462</td>\n",
       "      <td>16210.18450</td>\n",
       "      <td>14.560834</td>\n",
       "      <td>6729.794141</td>\n",
       "      <td>0.507704</td>\n",
       "      <td>174.197419</td>\n",
       "      <td>473.362477</td>\n",
       "      <td>100.068910</td>\n",
       "      <td>3.830974</td>\n",
       "      <td>...</td>\n",
       "      <td>5.946141</td>\n",
       "      <td>101.264741</td>\n",
       "      <td>-0.127951</td>\n",
       "      <td>41.509088</td>\n",
       "      <td>0.320099</td>\n",
       "      <td>28.040325</td>\n",
       "      <td>-0.194499</td>\n",
       "      <td>24.498010</td>\n",
       "      <td>22.437265</td>\n",
       "      <td>7005.341851</td>\n",
       "    </tr>\n",
       "  </tbody>\n",
       "</table>\n",
       "<p>10824 rows × 662 columns</p>\n",
       "</div>"
      ],
      "text/plain": [
       "Genes        hsa-let-7a-2-3p  hsa-let-7a-3p  hsa-let-7a-5p  hsa-let-7b-3p  \\\n",
       "C4_A0F6_01A         0.980776      32.785934    17787.06993       6.725320   \n",
       "CU_A0YO_01A         2.750555      62.595962    20816.36637      11.835721   \n",
       "BT_A0S7_01A         7.085729      64.480134    64187.20949      41.238943   \n",
       "CU_A0YR_01A         0.805977      17.731490    31852.20320      14.104594   \n",
       "BL_A0C8_01A         0.803256      32.397995    36701.57350      18.207138   \n",
       "...                      ...            ...            ...            ...   \n",
       "AG_3584_01A         3.262839      22.251037    23122.91869      20.626534   \n",
       "AG_3599_01A         2.002213      29.156045    17890.75858      28.611334   \n",
       "AG_3583_01A         0.675954      19.786044    16792.88093      22.441202   \n",
       "AG_3598_01A         1.948157      25.893893    23153.80168      41.672361   \n",
       "AG_3586_01A         1.542847      25.602462    16210.18450      14.560834   \n",
       "\n",
       "Genes        hsa-let-7b-5p  hsa-let-7c-3p  hsa-let-7c-5p  hsa-let-7d-3p  \\\n",
       "C4_A0F6_01A    6875.798894       2.241773     598.553468     497.533559   \n",
       "CU_A0YO_01A    6014.963519       6.001211    1424.704101     340.652060   \n",
       "BT_A0S7_01A   34652.048900      20.548614    3788.172416     335.296694   \n",
       "CU_A0YR_01A    7643.480998       0.805977     147.896743     534.362619   \n",
       "BL_A0C8_01A    5972.744450       1.874264     220.627670     380.475629   \n",
       "...                    ...            ...            ...            ...   \n",
       "AG_3584_01A    4760.875509       3.716744     599.077677    1011.271201   \n",
       "AG_3599_01A    5660.590915       0.830712     222.252058     350.019624   \n",
       "AG_3583_01A    7572.840852       1.282126     143.450672     897.205621   \n",
       "AG_3598_01A    6127.299751       3.081652     324.642671     498.491969   \n",
       "AG_3586_01A    6729.794141       0.507704     174.197419     473.362477   \n",
       "\n",
       "Genes        hsa-let-7d-5p  hsa-let-7e-3p  ...  hsa-miR-95-3p  hsa-miR-9-5p  \\\n",
       "C4_A0F6_01A     321.974688      34.046932  ...       0.980776     86.588493   \n",
       "CU_A0YO_01A     168.700702      16.336629  ...       3.334006   1624.244358   \n",
       "BT_A0S7_01A     250.409661      13.321170  ...       3.401150    757.039282   \n",
       "CU_A0YR_01A     385.659900       5.641838  ...       1.208965    686.289247   \n",
       "BL_A0C8_01A     318.357159      16.332874  ...       3.213024     92.106697   \n",
       "...                    ...            ...  ...            ...           ...   \n",
       "AG_3584_01A     146.193566       4.721912  ...      13.372890  10624.689830   \n",
       "AG_3599_01A     125.544726       3.213865  ...      25.697846    188.922382   \n",
       "AG_3583_01A      76.690747       1.497562  ...      15.811903    147.011379   \n",
       "AG_3598_01A     133.758828       4.168296  ...       7.845190    172.341403   \n",
       "AG_3586_01A     100.068910       3.830974  ...       5.946141    101.264741   \n",
       "\n",
       "Genes        hsa-miR-96-3p  hsa-miR-96-5p  hsa-miR-98-3p  hsa-miR-98-5p  \\\n",
       "C4_A0F6_01A       0.280222      93.874256       2.662106     188.869399   \n",
       "CU_A0YO_01A       0.000000      34.506962       1.083552     100.353580   \n",
       "BT_A0S7_01A       0.000000      11.904025       0.850287      76.100729   \n",
       "CU_A0YR_01A       0.000000      24.985281       0.402988     223.658562   \n",
       "BL_A0C8_01A       0.267752      65.866998       1.606512      60.511958   \n",
       "...                    ...            ...            ...            ...   \n",
       "AG_3584_01A       0.301215      26.510692       0.987116      41.168575   \n",
       "AG_3599_01A       0.791547      35.627721       0.467073      27.308137   \n",
       "AG_3583_01A      -0.127951      10.352813       5.508178      51.327181   \n",
       "AG_3598_01A      -0.127951      15.302715       1.541097      22.493043   \n",
       "AG_3586_01A      -0.127951      41.509088       0.320099      28.040325   \n",
       "\n",
       "Genes        hsa-miR-99a-3p  hsa-miR-99a-5p  hsa-miR-99b-3p  hsa-miR-99b-5p  \n",
       "C4_A0F6_01A        0.420332      148.377369      195.034276    78432.081350  \n",
       "CU_A0YO_01A        1.333602      412.749939       23.588092    13279.762530  \n",
       "BT_A0S7_01A        2.125719      694.826582       59.803552    29537.994880  \n",
       "CU_A0YR_01A        0.000000       11.686664       29.015165    13749.158260  \n",
       "BL_A0C8_01A        0.000000       34.004507       56.763430    36226.313650  \n",
       "...                     ...             ...             ...             ...  \n",
       "AG_3584_01A        1.073576      109.400542       14.142076    10462.448760  \n",
       "AG_3599_01A        0.144723       45.617460       15.948184     8293.054733  \n",
       "AG_3583_01A        0.146054       28.874467       22.412294     6427.100677  \n",
       "AG_3598_01A        0.351305       78.511647       26.015522    18854.100830  \n",
       "AG_3586_01A       -0.194499       24.498010       22.437265     7005.341851  \n",
       "\n",
       "[10824 rows x 662 columns]"
      ]
     },
     "execution_count": 46,
     "metadata": {},
     "output_type": "execute_result"
    }
   ],
   "source": []
  },
  {
   "cell_type": "code",
   "execution_count": 11,
   "id": "0559d0ea",
   "metadata": {},
   "outputs": [
    {
     "data": {
      "text/plain": [
       "Index([], dtype='object')"
      ]
     },
     "execution_count": 11,
     "metadata": {},
     "output_type": "execute_result"
    }
   ],
   "source": [
    "df_g.index.intersection(df_p.index)"
   ]
  },
  {
   "cell_type": "code",
   "execution_count": 17,
   "id": "44b54b6d",
   "metadata": {},
   "outputs": [
    {
     "data": {
      "text/plain": [
       "Index([], dtype='object')"
      ]
     },
     "execution_count": 17,
     "metadata": {},
     "output_type": "execute_result"
    }
   ],
   "source": [
    "df_g.index.intersection(df_m.index)"
   ]
  },
  {
   "cell_type": "code",
   "execution_count": 18,
   "id": "d0dcb8a6",
   "metadata": {},
   "outputs": [
    {
     "data": {
      "text/plain": [
       "Index(['TCGA-02-0001-01C-01D-0186-05', 'TCGA-02-0003-01A-01D-0186-05',\n",
       "       'TCGA-02-0006-01B-01D-0186-05', 'TCGA-02-0007-01A-01D-0186-05',\n",
       "       'TCGA-02-0009-01A-01D-0186-05', 'TCGA-02-0010-01A-01D-0186-05',\n",
       "       'TCGA-02-0011-01B-01D-0186-05', 'TCGA-02-0014-01A-01D-0186-05',\n",
       "       'TCGA-02-0021-01A-01D-0186-05', 'TCGA-02-0024-01B-01D-0186-05',\n",
       "       ...\n",
       "       'TCGA-W5-AA2R-11A-11D-A418-05', 'TCGA-W5-AA2U-11A-11D-A418-05',\n",
       "       'TCGA-W5-AA2X-11A-11D-A418-05', 'TCGA-W5-AA30-11A-11D-A418-05',\n",
       "       'TCGA-W5-AA31-11A-11D-A418-05', 'TCGA-W5-AA34-11A-11D-A418-05',\n",
       "       'TCGA-X7-A8D6-11A-22D-A424-05', 'TCGA-X7-A8D7-11A-11D-A424-05',\n",
       "       'TCGA-YB-A89D-11A-11D-A368-05', 'TCGA-ZU-A8S4-11A-11D-A418-05'],\n",
       "      dtype='object', length=12039)"
      ]
     },
     "execution_count": 18,
     "metadata": {},
     "output_type": "execute_result"
    }
   ],
   "source": [
    "df_m.index"
   ]
  },
  {
   "cell_type": "code",
   "execution_count": 53,
   "id": "0376087b",
   "metadata": {},
   "outputs": [
    {
     "ename": "TypeError",
     "evalue": "'builtin_function_or_method' object is not iterable",
     "output_type": "error",
     "traceback": [
      "\u001b[0;31m---------------------------------------------------------------------------\u001b[0m",
      "\u001b[0;31mTypeError\u001b[0m                                 Traceback (most recent call last)",
      "Input \u001b[0;32mIn [53]\u001b[0m, in \u001b[0;36m<cell line: 5>\u001b[0;34m()\u001b[0m\n\u001b[1;32m      1\u001b[0m \u001b[38;5;66;03m#t_m=['-'.join(x.split('-')[1:4]) for x in df_m.index]\u001b[39;00m\n\u001b[1;32m      2\u001b[0m \u001b[38;5;66;03m#t_g=['-'.join(x.split('-')[1:4]) for x in df_g.index]\u001b[39;00m\n\u001b[1;32m      3\u001b[0m \u001b[38;5;66;03m#t_p=['-'.join(x.split('-')[1:4]) for x in df_p.index]\u001b[39;00m\n\u001b[1;32m      4\u001b[0m \u001b[38;5;66;03m#t_r=['-'.join(x.split('-')[1:4]) for x in df_r.index]\u001b[39;00m\n\u001b[0;32m----> 5\u001b[0m \u001b[38;5;28mlen\u001b[39m(\u001b[38;5;28mset\u001b[39m(df_m\u001b[38;5;241m.\u001b[39mindex\u001b[38;5;241m.\u001b[39mto_list()) \u001b[38;5;241m&\u001b[39m \u001b[38;5;28;43mset\u001b[39;49m\u001b[43m(\u001b[49m\u001b[43mt_g\u001b[49m\u001b[38;5;241;43m.\u001b[39;49m\u001b[43mindex\u001b[49m\u001b[43m)\u001b[49m \u001b[38;5;241m&\u001b[39m \u001b[38;5;28mset\u001b[39m(t_p\u001b[38;5;241m.\u001b[39mindex) \u001b[38;5;241m&\u001b[39m \u001b[38;5;28mset\u001b[39m(t_r\u001b[38;5;241m.\u001b[39mindex))\n",
      "\u001b[0;31mTypeError\u001b[0m: 'builtin_function_or_method' object is not iterable"
     ]
    }
   ],
   "source": [
    "#t_m=['-'.join(x.split('-')[1:4]) for x in df_m.index]\n",
    "#t_g=['-'.join(x.split('-')[1:4]) for x in df_g.index]\n",
    "#t_p=['-'.join(x.split('-')[1:4]) for x in df_p.index]\n",
    "#t_r=['-'.join(x.split('-')[1:4]) for x in df_r.index]\n",
    "len(set(df_m.index.to_list()) & set(t_g.index) & set(t_p.index) & set(t_r.index))"
   ]
  },
  {
   "cell_type": "code",
   "execution_count": 61,
   "id": "91b42db1",
   "metadata": {},
   "outputs": [],
   "source": [
    "joint_idx = sorted(list(set(df_m.index.to_list()) & set(df_g.index.to_list()) & set(df_p.index.to_list()) & set(df_r.index.to_list())))"
   ]
  },
  {
   "cell_type": "code",
   "execution_count": 68,
   "id": "2c14ec3f",
   "metadata": {},
   "outputs": [],
   "source": [
    "df_m=df_m.loc[joint_idx].reset_index().drop_duplicates(subset='index', keep='last').set_index('index')"
   ]
  },
  {
   "cell_type": "code",
   "execution_count": 69,
   "id": "2bfa3c41",
   "metadata": {},
   "outputs": [],
   "source": [
    "df_g=df_g.loc[joint_idx].reset_index().drop_duplicates(subset='index', keep='last').set_index('index')"
   ]
  },
  {
   "cell_type": "code",
   "execution_count": 70,
   "id": "9d532b33",
   "metadata": {},
   "outputs": [],
   "source": [
    "df_p=df_p.loc[joint_idx].reset_index().drop_duplicates(subset='index', keep='last').set_index('index')"
   ]
  },
  {
   "cell_type": "code",
   "execution_count": 71,
   "id": "bbcf1941",
   "metadata": {},
   "outputs": [],
   "source": [
    "df_r=df_r.loc[joint_idx].reset_index().drop_duplicates(subset='index', keep='last').set_index('index')"
   ]
  },
  {
   "cell_type": "code",
   "execution_count": 72,
   "id": "19bdc0d8",
   "metadata": {},
   "outputs": [],
   "source": [
    "df_m.to_csv('unnorm_m.csv')\n",
    "df_g.to_csv('unnorm_g.csv')\n",
    "df_p.to_csv('unnorm_p.csv')\n",
    "df_r.to_csv('unnorm_r.csv')"
   ]
  },
  {
   "cell_type": "code",
   "execution_count": 52,
   "id": "21c6084f",
   "metadata": {},
   "outputs": [],
   "source": [
    "df_m=(df_m-df_m.mean())/df_m.std()\n",
    "df_g=(df_g-df_g.mean())/df_g.std()\n",
    "df_p=(df_p-df_p.mean())/df_p.std()\n",
    "df_r=(df_r-df_r.mean())/df_r.std()"
   ]
  },
  {
   "cell_type": "code",
   "execution_count": 74,
   "id": "8913b6ee",
   "metadata": {},
   "outputs": [],
   "source": [
    "df_m.to_csv('norm_m.csv')\n",
    "df_g.to_csv('norm_g.csv')\n",
    "df_p.to_csv('norm_p.csv')\n",
    "df_r.to_csv('norm_r.csv')"
   ]
  },
  {
   "cell_type": "code",
   "execution_count": 8,
   "id": "506c7ffa",
   "metadata": {},
   "outputs": [],
   "source": [
    "import pandas as pd\n",
    "df_m = pd.read_csv('norm_m.csv', index_col=0)\n",
    "df_g = pd.read_csv('norm_g.csv', index_col=0)\n",
    "df_p = pd.read_csv('norm_p.csv', index_col=0)\n",
    "df_r = pd.read_csv('norm_r.csv', index_col=0)"
   ]
  },
  {
   "cell_type": "code",
   "execution_count": 54,
   "id": "547e65b9",
   "metadata": {},
   "outputs": [
    {
     "name": "stdout",
     "output_type": "stream",
     "text": [
      "14.856979902726602\n",
      "83.72562760034862\n",
      "3.70456583272228\n",
      "82.32616281526866\n",
      "-10.858894138207347\n",
      "-2.57937893807929\n",
      "-3.5166882006545452\n",
      "-1.7276260399214667\n"
     ]
    }
   ],
   "source": [
    "print(df_p.max().max())\n",
    "print(df_g.max().max())\n",
    "print(df_m.max().max())\n",
    "print(df_r.max().max())\n",
    "print(df_p.min().min())\n",
    "print(df_g.min().min())\n",
    "print(df_m.min().min())\n",
    "print(df_r.min().min())\n"
   ]
  },
  {
   "cell_type": "code",
   "execution_count": 56,
   "id": "d855ece2",
   "metadata": {},
   "outputs": [],
   "source": [
    "df_p = df_p.fillna(-10000)"
   ]
  },
  {
   "cell_type": "code",
   "execution_count": 57,
   "id": "44eddb23",
   "metadata": {},
   "outputs": [
    {
     "name": "stdout",
     "output_type": "stream",
     "text": [
      "0\n",
      "0\n",
      "0.0\n",
      "0\n"
     ]
    }
   ],
   "source": [
    "print(df_m.isnull().sum().sum())\n",
    "print(df_g.isnull().sum().sum())\n",
    "print(df_p.isnull().sum().sum()/df_p.size)\n",
    "print(df_r.isnull().sum().sum())"
   ]
  },
  {
   "cell_type": "code",
   "execution_count": 58,
   "id": "a0cfca9f",
   "metadata": {},
   "outputs": [],
   "source": [
    "def generator():\n",
    "    total = df_m.shape[0]\n",
    "    for idx in range(total):\n",
    "        i = df_m.index[idx]\n",
    "        m = df_m.iloc[idx].values.tolist()\n",
    "        g = df_g.iloc[idx].values.tolist()\n",
    "        p = df_p.iloc[idx].values.tolist()\n",
    "        r = df_r.iloc[idx].values.tolist()\n",
    "        yield {\"tcga_index\":i, \"gene\": {\"data\": g},\n",
    "              \"protein\": {\"data\": p},\n",
    "              \"methylation\": {\"data\":m},\n",
    "              \"mirna\": {\"data\": r}}"
   ]
  },
  {
   "cell_type": "code",
   "execution_count": 59,
   "id": "3645cc7f",
   "metadata": {},
   "outputs": [],
   "source": [
    "import datasets"
   ]
  },
  {
   "cell_type": "code",
   "execution_count": 60,
   "id": "b178e6b2",
   "metadata": {},
   "outputs": [
    {
     "data": {
      "application/vnd.jupyter.widget-view+json": {
       "model_id": "15b4f4363cd542209d041854e28386a2",
       "version_major": 2,
       "version_minor": 0
      },
      "text/plain": [
       "Generating train split: 0 examples [00:00, ? examples/s]"
      ]
     },
     "metadata": {},
     "output_type": "display_data"
    }
   ],
   "source": [
    "ds = datasets.Dataset.from_generator(generator)"
   ]
  },
  {
   "cell_type": "code",
   "execution_count": 61,
   "id": "84b7fb1c",
   "metadata": {},
   "outputs": [
    {
     "data": {
      "application/vnd.jupyter.widget-view+json": {
       "model_id": "1ae01d894e3946f6b711be04bc75ec3a",
       "version_major": 2,
       "version_minor": 0
      },
      "text/plain": [
       "Saving the dataset (0/1 shards):   0%|          | 0/7017 [00:00<?, ? examples/s]"
      ]
     },
     "metadata": {},
     "output_type": "display_data"
    }
   ],
   "source": [
    "ds.save_to_disk('tcga_dataset')"
   ]
  },
  {
   "cell_type": "code",
   "execution_count": 62,
   "id": "ee4ad36b",
   "metadata": {},
   "outputs": [
    {
     "name": "stdout",
     "output_type": "stream",
     "text": [
      "gene:800\n",
      "protein:198\n",
      "methylation:800\n",
      "mirna:662\n"
     ]
    }
   ],
   "source": [
    "for col in list(ds[0].keys())[1:]:\n",
    "    print(f\"{col}:{len(ds[0][col]['data'])}\")"
   ]
  },
  {
   "cell_type": "code",
   "execution_count": 41,
   "id": "0e40cfc8",
   "metadata": {},
   "outputs": [
    {
     "data": {
      "text/plain": [
       "['gene', 'protein', 'methylation', 'mirna']"
      ]
     },
     "execution_count": 41,
     "metadata": {},
     "output_type": "execute_result"
    }
   ],
   "source": [
    "list(ds[0].keys())[1:]"
   ]
  },
  {
   "cell_type": "code",
   "execution_count": null,
   "id": "116ce852",
   "metadata": {},
   "outputs": [],
   "source": []
  }
 ],
 "metadata": {
  "kernelspec": {
   "display_name": "dti",
   "language": "python",
   "name": "dti"
  },
  "language_info": {
   "codemirror_mode": {
    "name": "ipython",
    "version": 3
   },
   "file_extension": ".py",
   "mimetype": "text/x-python",
   "name": "python",
   "nbconvert_exporter": "python",
   "pygments_lexer": "ipython3",
   "version": "3.9.16"
  }
 },
 "nbformat": 4,
 "nbformat_minor": 5
}
